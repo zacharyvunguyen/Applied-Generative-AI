{
 "cells": [
  {
   "cell_type": "markdown",
   "source": [
    "## Set up authentication for accessing Google Cloud Platform (GCP)"
   ],
   "metadata": {
    "collapsed": false
   },
   "id": "fe48633bfe1bab7e"
  },
  {
   "cell_type": "code",
   "outputs": [
    {
     "name": "stdout",
     "output_type": "stream",
     "text": [
      "GCP credentials have been set successfully.\n"
     ]
    }
   ],
   "source": [
    "import os\n",
    "import sys\n",
    "def set_gcp_credentials_from_file(credential_path):\n",
    "    if not os.path.exists(credential_path):\n",
    "        raise FileNotFoundError(f\"Service account key file not found at: {credential_path}\")\n",
    "    \n",
    "    os.environ[\"GOOGLE_APPLICATION_CREDENTIALS\"] = credential_path\n",
    "    print(\"GCP credentials have been set successfully.\")\n",
    "\n",
    "# Path to your service account key file\n",
    "GOOGLE_APPLICATION_CREDENTIALS_PATH = \"/Users/zacharynguyen/Documents/GitHub/2024/Applied-Generative-AI/IAM/zacharynguyen-genai-656c475b142a.json\"\n",
    "\n",
    "try:\n",
    "    set_gcp_credentials_from_file(GOOGLE_APPLICATION_CREDENTIALS_PATH)\n",
    "except FileNotFoundError as e:\n",
    "    print(e)\n",
    "    sys.exit(1)  # Exit the script with an error code if the file is not found\n"
   ],
   "metadata": {
    "collapsed": false,
    "ExecuteTime": {
     "end_time": "2024-03-28T16:42:17.072025Z",
     "start_time": "2024-03-28T16:42:17.060487Z"
    }
   },
   "id": "3e5420d1d74b5275",
   "execution_count": 2
  },
  {
   "cell_type": "markdown",
   "source": [
    "## Install Libraries and enable APIs"
   ],
   "metadata": {
    "collapsed": false
   },
   "id": "4813b3ba9fa45d8d"
  },
  {
   "cell_type": "code",
   "outputs": [],
   "source": [
    "#!pip install -r requirements.txt \n",
    "#!gcloud auth login"
   ],
   "metadata": {
    "collapsed": false,
    "ExecuteTime": {
     "end_time": "2024-03-28T16:44:02.064261Z",
     "start_time": "2024-03-28T16:44:02.045356Z"
    }
   },
   "id": "59e6539ce1a47046",
   "execution_count": 3
  },
  {
   "cell_type": "code",
   "outputs": [],
   "source": [
    "#!gcloud services enable aiplatform.googleapis.com\n",
    "#!gcloud services enable documentai.googleapis.com"
   ],
   "metadata": {
    "collapsed": false,
    "ExecuteTime": {
     "end_time": "2024-03-28T16:44:03.513040Z",
     "start_time": "2024-03-28T16:44:03.468638Z"
    }
   },
   "id": "628597c673f9322",
   "execution_count": 4
  },
  {
   "cell_type": "markdown",
   "source": [
    "## Setup Variables"
   ],
   "metadata": {
    "collapsed": false
   },
   "id": "fe6b857a13787b1d"
  },
  {
   "cell_type": "code",
   "outputs": [],
   "source": [
    "# Configuration for Project Environment and Data Handling\n",
    "\n",
    "# Project and Data Analysis Settings\n",
    "PROJECT_ID = 'zacharynguyen-genai'\n",
    "REGION = 'us-central1'\n",
    "EXPERIMENT = 'cigna-handbook'\n",
    "SERIES = 'applied-genai-v3'\n",
    "\n",
    "# Data Storage and Retrieval Configuration\n",
    "SAVE_IN = 'ALL'  # Options: GCS, BQ, ALL\n",
    "RETRIEVE_FROM = 'GCS'  # Options: GCS, BQ. Default action is to parse and embed if not present.\n",
    "\n",
    "# Google Cloud Storage (GCS) Setup\n",
    "GCS_BUCKET = PROJECT_ID  # Naming the bucket after the project ID for consistency\n",
    "\n",
    "# BigQuery (BQ) Setup for Storing Results\n",
    "BQ_PROJECT = PROJECT_ID\n",
    "BQ_DATASET = SERIES.replace('-', '_')  # Formatting to comply with BQ naming conventions\n",
    "BQ_TABLE = EXPERIMENT\n",
    "BQ_REGION = REGION[:2]  # Simplified regional code derived from the full region string\n",
    "\n",
    "# Document Source Configuration\n",
    "# Specify the locations of source documents to be processed\n",
    "source_documents = [\n",
    "    'https://www.tn.gov/content/dam/tn/partnersforhealth/documents/cigna_member_handbook_2024.pdf'\n",
    "]\n",
    "\n",
    "# Prior Run Handling\n",
    "# Determines whether to use data from a previous run based on the USE_PRIOR_RUN flag\n",
    "USE_PRIOR_RUN = True  # Boolean flag to indicate preference for reusing previous data when available\n",
    "\n",
    "# Initial Analysis Query\n",
    "# Defining the first question to guide the analysis or processing of the document\n",
    "question = \"What situations are considered emergencies and covered if I visit the ER?\"\n",
    "\n",
    "# Note: Ensure that environment variables and necessary permissions are correctly set for GCS and BQ access.\n"
   ],
   "metadata": {
    "collapsed": false,
    "ExecuteTime": {
     "end_time": "2024-03-28T16:54:06.370897Z",
     "start_time": "2024-03-28T16:54:06.353911Z"
    }
   },
   "id": "3c81413c9e7405d7",
   "execution_count": 5
  },
  {
   "cell_type": "code",
   "outputs": [
    {
     "name": "stdout",
     "output_type": "stream",
     "text": [
      "Configuration Details:\n",
      "\n",
      "Project ID               : zacharynguyen-genai\n",
      "Region                   : us-central1\n",
      "Experiment               : cigna-handbook\n",
      "Series                   : applied-genai-v3\n",
      "Data Storage Option      : ALL\n",
      "Data Retrieval Source    : GCS\n",
      "GCS Bucket Name          : zacharynguyen-genai\n",
      "BigQuery Project         : zacharynguyen-genai\n",
      "BigQuery Dataset         : applied_genai_v3\n",
      "BigQuery Table           : cigna-handbook\n",
      "BigQuery Region          : us\n",
      "Source Document(s)       : https://www.tn.gov/content/dam/tn/partnersforhealth/documents/cigna_member_handbook_2024.pdf\n",
      "Use Prior Run            : True\n",
      "Initial Question         : What situations are considered emergencies and covered if I visit the ER?\n"
     ]
    }
   ],
   "source": [
    "def print_configuration():\n",
    "    configurations = {\n",
    "        \"Project ID\": PROJECT_ID,\n",
    "        \"Region\": REGION,\n",
    "        \"Experiment\": EXPERIMENT,\n",
    "        \"Series\": SERIES,\n",
    "        \"Data Storage Option\": SAVE_IN,\n",
    "        \"Data Retrieval Source\": RETRIEVE_FROM,\n",
    "        \"GCS Bucket Name\": GCS_BUCKET,\n",
    "        \"BigQuery Project\": BQ_PROJECT,\n",
    "        \"BigQuery Dataset\": BQ_DATASET,\n",
    "        \"BigQuery Table\": BQ_TABLE,\n",
    "        \"BigQuery Region\": BQ_REGION,\n",
    "        \"Source Document(s)\": ', '.join(source_documents),\n",
    "        \"Use Prior Run\": USE_PRIOR_RUN,\n",
    "        \"Initial Question\": question\n",
    "    }\n",
    "    \n",
    "    print(\"Configuration Details:\\n\")\n",
    "    for key, value in configurations.items():\n",
    "        print(f\"{key.ljust(25)}: {value}\")\n",
    "    \n",
    "# Calling the function to print configurations\n",
    "print_configuration()\n"
   ],
   "metadata": {
    "collapsed": false,
    "ExecuteTime": {
     "end_time": "2024-03-28T16:57:48.655054Z",
     "start_time": "2024-03-28T16:57:48.631244Z"
    }
   },
   "id": "a9f1930b58d259d9",
   "execution_count": 7
  },
  {
   "cell_type": "markdown",
   "source": [
    "## Import Libraries"
   ],
   "metadata": {
    "collapsed": false
   },
   "id": "164fca4cb72b3b3"
  },
  {
   "cell_type": "code",
   "outputs": [],
   "source": [
    "# Standard library imports for basic operations and concurrency\n",
    "import os\n",
    "import io\n",
    "import json\n",
    "import base64\n",
    "import requests\n",
    "import concurrent.futures\n",
    "import time\n",
    "import asyncio\n",
    "from google.cloud.exceptions import NotFound\n",
    "\n",
    "# PDF manipulation and IPython display utilities\n",
    "import PyPDF2\n",
    "import IPython\n",
    "\n",
    "# Imaging libraries for image manipulation\n",
    "from PIL import Image, ImageFont, ImageDraw\n",
    "import shapely\n",
    "\n",
    "# Data manipulation and scientific computing libraries\n",
    "import numpy as np\n",
    "import pandas as pd\n",
    "from sklearn.manifold import TSNE\n",
    "\n",
    "# Visualization libraries\n",
    "import matplotlib.pyplot as plt\n",
    "import seaborn as sns\n",
    "\n",
    "# Vertex AI for machine learning models and Google Cloud services for storage and processing\n",
    "import vertexai.language_models  # PaLM and Codey Models\n",
    "import vertexai.generative_models  # for Gemini Models\n",
    "from google.cloud import documentai, storage, bigquery\n",
    "from google.api_core import retry\n",
    "from google.cloud.exceptions import NotFound\n"
   ],
   "metadata": {
    "collapsed": false,
    "ExecuteTime": {
     "end_time": "2024-03-28T17:05:03.954266Z",
     "start_time": "2024-03-28T17:05:03.909444Z"
    }
   },
   "id": "a6dfc2e495cec81c",
   "execution_count": 16
  },
  {
   "cell_type": "markdown",
   "source": [
    "## Create Bucket"
   ],
   "metadata": {
    "collapsed": false
   },
   "id": "59aa3f4aa322d7b0"
  },
  {
   "cell_type": "code",
   "outputs": [],
   "source": [
    "def create_gcs_bucket(project_id, bucket_name, region):\n",
    "    storage_client = storage.Client(project=project_id)\n",
    "    \n",
    "    # Check if the bucket already exists\n",
    "    try:\n",
    "        existing_bucket = storage_client.get_bucket(bucket_name)\n",
    "        print(f\"Bucket {existing_bucket.name} already exists.\")\n",
    "        return existing_bucket\n",
    "    except NotFound:\n",
    "        # If the bucket does not exist, proceed to create it\n",
    "        bucket = storage_client.bucket(bucket_name)\n",
    "        new_bucket = storage_client.create_bucket(bucket, location=region)\n",
    "        print(f\"Bucket {new_bucket.name} created.\")\n",
    "        return new_bucket"
   ],
   "metadata": {
    "collapsed": false,
    "ExecuteTime": {
     "end_time": "2024-03-28T17:05:06.569036Z",
     "start_time": "2024-03-28T17:05:06.533802Z"
    }
   },
   "id": "b722ad2e9529c813",
   "execution_count": 17
  },
  {
   "cell_type": "code",
   "outputs": [
    {
     "name": "stdout",
     "output_type": "stream",
     "text": [
      "Bucket zacharynguyen-genai already exists.\n"
     ]
    },
    {
     "data": {
      "text/plain": "<Bucket: zacharynguyen-genai>"
     },
     "execution_count": 18,
     "metadata": {},
     "output_type": "execute_result"
    }
   ],
   "source": [
    "# Create GCS Bucket\n",
    "create_gcs_bucket(PROJECT_ID, GCS_BUCKET, REGION)"
   ],
   "metadata": {
    "collapsed": false,
    "ExecuteTime": {
     "end_time": "2024-03-28T17:05:08.393038Z",
     "start_time": "2024-03-28T17:05:07.705561Z"
    }
   },
   "id": "ca27a99dbd67be72",
   "execution_count": 18
  },
  {
   "cell_type": "markdown",
   "source": [
    "## Create BigQuery Dataset and Table"
   ],
   "metadata": {
    "collapsed": false
   },
   "id": "a8deb83d00fdff31"
  },
  {
   "cell_type": "code",
   "outputs": [],
   "source": [
    "from google.cloud import bigquery\n",
    "from google.cloud.exceptions import NotFound\n",
    "\n",
    "def create_bq_dataset_and_table(project_id, dataset_id, table_id, region):\n",
    "    \"\"\"\n",
    "    Creates a BigQuery dataset and table within it if they do not exist.\n",
    "    \n",
    "    Parameters:\n",
    "    - project_id: str. The GCP project ID.\n",
    "    - dataset_id: str. The dataset ID within the project.\n",
    "    - table_id: str. The table ID within the dataset.\n",
    "    - region: str. The location for the dataset.\n",
    "    \n",
    "    Returns:\n",
    "    - The BigQuery Table object for the newly created or existing table.\n",
    "    \"\"\"\n",
    "    bq_client = bigquery.Client(project=project_id)\n",
    "\n",
    "    # Dataset reference\n",
    "    dataset_ref = bigquery.DatasetReference(project_id, dataset_id)\n",
    "\n",
    "    # Attempt to get or create the dataset\n",
    "    try:\n",
    "        dataset = bq_client.get_dataset(dataset_ref)\n",
    "        print(f\"Dataset {dataset.dataset_id} already exists.\")\n",
    "    except NotFound:\n",
    "        dataset = bigquery.Dataset(dataset_ref)\n",
    "        dataset.location = region\n",
    "        dataset = bq_client.create_dataset(dataset)\n",
    "        print(f\"Dataset {dataset.dataset_id} created.\")\n",
    "\n",
    "    # Table reference\n",
    "    table_ref = dataset_ref.table(table_id)\n",
    "\n",
    "    # Attempt to get or create the table\n",
    "    try:\n",
    "        table = bq_client.get_table(table_ref)\n",
    "        print(f\"Table {table.table_id} already exists.\")\n",
    "    except NotFound:\n",
    "        # Define the table schema\n",
    "        schema = [\n",
    "            bigquery.SchemaField(\"example_field\", \"STRING\", mode=\"NULLABLE\")\n",
    "        ]\n",
    "        table = bigquery.Table(table_ref, schema=schema)\n",
    "        table = bq_client.create_table(table)\n",
    "        print(f\"Table {table.table_id} created.\")\n",
    "    \n",
    "    # Construct and print the direct link to the table for easy access\n",
    "    table_link = f\"https://console.cloud.google.com/bigquery?project={project_id}&p={project_id}&d={dataset_id}&t={table_id}&page=table\"\n",
    "    print(f\"Access your table directly: {table_link}\")\n",
    "\n",
    "    return table\n"
   ],
   "metadata": {
    "collapsed": false,
    "ExecuteTime": {
     "end_time": "2024-03-28T17:08:12.018052Z",
     "start_time": "2024-03-28T17:08:11.995704Z"
    }
   },
   "id": "8dfe0f25c43d0c6c",
   "execution_count": 21
  },
  {
   "cell_type": "code",
   "outputs": [
    {
     "name": "stdout",
     "output_type": "stream",
     "text": [
      "Dataset applied_genai_v3 already exists.\n",
      "Table cigna-handbook created.\n",
      "Access your table directly: https://console.cloud.google.com/bigquery?project=zacharynguyen-genai&p=zacharynguyen-genai&d=applied_genai_v3&t=cigna-handbook&page=table\n"
     ]
    },
    {
     "data": {
      "text/plain": "Table(TableReference(DatasetReference('zacharynguyen-genai', 'applied_genai_v3'), 'cigna-handbook'))"
     },
     "execution_count": 23,
     "metadata": {},
     "output_type": "execute_result"
    }
   ],
   "source": [
    "# Create BigQuery Dataset and Table\n",
    "create_bq_dataset_and_table(PROJECT_ID, BQ_DATASET, BQ_TABLE, BQ_REGION)"
   ],
   "metadata": {
    "collapsed": false,
    "ExecuteTime": {
     "end_time": "2024-03-28T17:09:54.531136Z",
     "start_time": "2024-03-28T17:09:53.524145Z"
    }
   },
   "id": "398c9af972de3b6a",
   "execution_count": 23
  },
  {
   "cell_type": "code",
   "outputs": [],
   "source": [],
   "metadata": {
    "collapsed": false
   },
   "id": "112e4486fe216def"
  }
 ],
 "metadata": {
  "kernelspec": {
   "display_name": "Python 3",
   "language": "python",
   "name": "python3"
  },
  "language_info": {
   "codemirror_mode": {
    "name": "ipython",
    "version": 2
   },
   "file_extension": ".py",
   "mimetype": "text/x-python",
   "name": "python",
   "nbconvert_exporter": "python",
   "pygments_lexer": "ipython2",
   "version": "2.7.6"
  }
 },
 "nbformat": 4,
 "nbformat_minor": 5
}
