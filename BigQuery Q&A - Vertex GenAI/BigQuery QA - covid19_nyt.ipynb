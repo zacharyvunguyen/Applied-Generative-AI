{
 "cells": [
  {
   "cell_type": "markdown",
   "source": [
    "# Intelligent Query Crafting with BigQuery Context: Leveraging Vertex GenAI for Enhanced Business Insights on GCP"
   ],
   "metadata": {
    "collapsed": false
   },
   "id": "25111e35f66459fc"
  },
  {
   "cell_type": "code",
   "execution_count": 1,
   "id": "initial_id",
   "metadata": {
    "collapsed": true,
    "ExecuteTime": {
     "end_time": "2024-04-03T18:40:11.515089Z",
     "start_time": "2024-04-03T18:40:11.507157Z"
    }
   },
   "outputs": [],
   "source": [
    "import os\n",
    "GOOGLE_APPLICATION_CREDENTIALS = \"/Users/zacharynguyen/Documents/GitHub/2024/Applied-Generative-AI/IAM/zacharynguyen-genai-656c475b142a.json\"\n",
    "os.environ[\"GOOGLE_APPLICATION_CREDENTIALS\"] = GOOGLE_APPLICATION_CREDENTIALS"
   ]
  },
  {
   "cell_type": "code",
   "outputs": [],
   "source": [
    "PROJECT_ID='zacharynguyen-genai'\n",
    "REGION = 'us-central1'\n",
    "EXPERIMENT = 'covid19-nyt'\n",
    "SERIES = 'applied-genai'"
   ],
   "metadata": {
    "collapsed": false,
    "ExecuteTime": {
     "end_time": "2024-04-03T18:40:11.524212Z",
     "start_time": "2024-04-03T18:40:11.517784Z"
    }
   },
   "id": "b310407273ccb3fd",
   "execution_count": 2
  },
  {
   "cell_type": "code",
   "outputs": [],
   "source": [
    "import os\n",
    "os.environ['TF_CPP_MIN_LOG_LEVEL'] = '3'\n",
    "import vertexai.language_models\n",
    "import vertexai.preview.generative_models\n",
    "from google.cloud import bigquery"
   ],
   "metadata": {
    "collapsed": false,
    "ExecuteTime": {
     "end_time": "2024-04-03T18:40:13.561016Z",
     "start_time": "2024-04-03T18:40:11.526433Z"
    }
   },
   "id": "756491164634d472",
   "execution_count": 3
  },
  {
   "cell_type": "code",
   "outputs": [],
   "source": [
    "# vertex ai clients\n",
    "vertexai.init(project = PROJECT_ID, location = REGION)\n",
    "# bigquery client\n",
    "bq = bigquery.Client(project = PROJECT_ID)"
   ],
   "metadata": {
    "collapsed": false,
    "ExecuteTime": {
     "end_time": "2024-04-03T18:40:13.573690Z",
     "start_time": "2024-04-03T18:40:13.563703Z"
    }
   },
   "id": "c0a2bc5d744a6f3f",
   "execution_count": 4
  },
  {
   "cell_type": "markdown",
   "source": [
    "## GOAL"
   ],
   "metadata": {
    "collapsed": false
   },
   "id": "9cb2b8fb5761a2eb"
  },
  {
   "cell_type": "code",
   "outputs": [],
   "source": [
    "question = \"On the last day of 2022, which state has the most covid-19 confirmed death?\""
   ],
   "metadata": {
    "collapsed": false,
    "ExecuteTime": {
     "end_time": "2024-04-03T18:40:13.580385Z",
     "start_time": "2024-04-03T18:40:13.574858Z"
    }
   },
   "id": "1fe7c9eef0f767e0",
   "execution_count": 5
  },
  {
   "cell_type": "markdown",
   "source": [
    "##  Vertex LLM Setup"
   ],
   "metadata": {
    "collapsed": false
   },
   "id": "95c9cf211c962038"
  },
  {
   "cell_type": "code",
   "outputs": [],
   "source": [
    "# create links to model: embedding api and text generation\n",
    "textgen_model = vertexai.language_models.TextGenerationModel.from_pretrained('text-bison@002')\n",
    "codegen_model = vertexai.language_models.CodeGenerationModel.from_pretrained('code-bison@002')\n",
    "gemini_model = vertexai.preview.generative_models.GenerativeModel(\"gemini-pro\")"
   ],
   "metadata": {
    "collapsed": false,
    "ExecuteTime": {
     "end_time": "2024-04-03T18:40:14.143607Z",
     "start_time": "2024-04-03T18:40:13.585576Z"
    }
   },
   "id": "a94f503147da989f",
   "execution_count": 6
  },
  {
   "cell_type": "code",
   "outputs": [
    {
     "data": {
      "text/plain": " ```sql\nSELECT state, MAX(deaths) AS max_deaths\nFROM `bigquery-public-data.covid19_usafacts.deaths`\nWHERE date = '2022-12-31'\nGROUP BY state\nORDER BY max_deaths DESC\nLIMIT 1;\n```"
     },
     "execution_count": 7,
     "metadata": {},
     "output_type": "execute_result"
    }
   ],
   "source": [
    "textgen_model.predict(f\"Write a Google SQL query that answers the following question.\\nquestion: {question}\")"
   ],
   "metadata": {
    "collapsed": false,
    "ExecuteTime": {
     "end_time": "2024-04-03T18:40:15.062791Z",
     "start_time": "2024-04-03T18:40:14.148525Z"
    }
   },
   "id": "adb3bbbdd4576829",
   "execution_count": 7
  },
  {
   "cell_type": "code",
   "outputs": [
    {
     "data": {
      "text/plain": "```sql\nSELECT state, MAX(deaths) AS max_deaths\nFROM `bigquery-public-data.covid19_usafacts.deaths`\nWHERE date = '2022-12-31'\nGROUP BY state\nORDER BY max_deaths DESC\nLIMIT 1;\n```"
     },
     "execution_count": 8,
     "metadata": {},
     "output_type": "execute_result"
    }
   ],
   "source": [
    "codegen_model.predict(f\"Write a Google SQL query that answers the following question.\\nquestion: {question}\")"
   ],
   "metadata": {
    "collapsed": false,
    "ExecuteTime": {
     "end_time": "2024-04-03T18:40:16.172354Z",
     "start_time": "2024-04-03T18:40:15.064609Z"
    }
   },
   "id": "dd74f2bf595eb55a",
   "execution_count": 8
  },
  {
   "cell_type": "code",
   "outputs": [
    {
     "name": "stdout",
     "output_type": "stream",
     "text": [
      "```sql\n",
      "SELECT\n",
      "  state,\n",
      "  COUNT(*) AS total_deaths\n",
      "FROM covid19_confirmed_deaths\n",
      "WHERE\n",
      "  date = (\n",
      "    SELECT\n",
      "      MAX(date)\n",
      "    FROM covid19_confirmed_deaths\n",
      "    WHERE\n",
      "      date LIKE '2022-12%'\n",
      "  )\n",
      "GROUP BY\n",
      "  state\n",
      "ORDER BY\n",
      "  total_deaths DESC\n",
      "LIMIT 1;\n",
      "```\n"
     ]
    }
   ],
   "source": [
    "print(gemini_model.generate_content(f\"Write a Google SQL query that answers the following question.\\nquestion: {question}\", generation_config = dict(temperature=0)).text)"
   ],
   "metadata": {
    "collapsed": false,
    "ExecuteTime": {
     "end_time": "2024-04-03T18:40:17.138203Z",
     "start_time": "2024-04-03T18:40:16.174987Z"
    }
   },
   "id": "ef2c3da999075d0",
   "execution_count": 9
  },
  {
   "cell_type": "markdown",
   "source": [
    "### The Challenge\n",
    "\n",
    "While Large Language Models (LLMs) are capable of generating SQL queries, this process encounters notable obstacles:\n",
    "\n",
    "- The queries often fail to target the appropriate tables.\n",
    "- Incorrect column names are frequently used, not matching those in the intended tables.\n",
    "- Essentially, the SQL produced serves more as an initial draft, requiring further refinement by the user to accurately fetch the necessary data in response to their query.\n",
    "\n",
    "### Achieving Executable SQL Queries via LLM\n",
    "\n",
    "To address these issues and generate fully operational SQL queries, a methodical strategy was developed through the repeated optimization of text prompts and methodologies tailored to distinct inquiries."
   ],
   "metadata": {
    "collapsed": false
   },
   "id": "af407c4b897b9872"
  },
  {
   "cell_type": "markdown",
   "source": [
    "### Retrieve Table Schemas"
   ],
   "metadata": {
    "collapsed": false
   },
   "id": "194c3e5e46dd66c7"
  },
  {
   "cell_type": "code",
   "outputs": [],
   "source": [
    "BQ_PROJECT = 'bigquery-public-data'\n",
    "BQ_DATASET = 'covid19_nyt'\n",
    "BQ_TABLES = ['excess_deaths', 'mask_use_by_county', 'us_counties', 'us_states']"
   ],
   "metadata": {
    "collapsed": false,
    "ExecuteTime": {
     "end_time": "2024-04-03T18:40:17.144890Z",
     "start_time": "2024-04-03T18:40:17.136189Z"
    }
   },
   "id": "168316fa07af95e4",
   "execution_count": 10
  },
  {
   "cell_type": "code",
   "outputs": [
    {
     "name": "stdout",
     "output_type": "stream",
     "text": [
      "\n",
      "    SELECT * EXCEPT(field_path, collation_name, rounding_mode)\n",
      "    FROM `bigquery-public-data.covid19_nyt.INFORMATION_SCHEMA.COLUMN_FIELD_PATHS`\n",
      "    WHERE table_name in (\"excess_deaths\",\"mask_use_by_county\",\"us_counties\",\"us_states\")\n"
     ]
    }
   ],
   "source": [
    "\n",
    "query = f\"\"\"\n",
    "    SELECT * EXCEPT(field_path, collation_name, rounding_mode)\n",
    "    FROM `{BQ_PROJECT}.{BQ_DATASET}.INFORMATION_SCHEMA.COLUMN_FIELD_PATHS`\n",
    "    WHERE table_name in ({','.join([f'\"{table}\"' for table in BQ_TABLES])})\n",
    "\"\"\"\n",
    "print(query)\n",
    "schema_columns = bq.query(query = query).to_dataframe()"
   ],
   "metadata": {
    "collapsed": false,
    "ExecuteTime": {
     "end_time": "2024-04-03T18:40:18.901943Z",
     "start_time": "2024-04-03T18:40:17.141360Z"
    }
   },
   "id": "42090519797c6694",
   "execution_count": 11
  },
  {
   "cell_type": "code",
   "outputs": [
    {
     "data": {
      "text/plain": "(29, 6)"
     },
     "execution_count": 12,
     "metadata": {},
     "output_type": "execute_result"
    }
   ],
   "source": [
    "schema_columns.shape"
   ],
   "metadata": {
    "collapsed": false,
    "ExecuteTime": {
     "end_time": "2024-04-03T18:40:18.909454Z",
     "start_time": "2024-04-03T18:40:18.905771Z"
    }
   },
   "id": "b886acc4c88ebe9b",
   "execution_count": 12
  },
  {
   "cell_type": "code",
   "outputs": [
    {
     "data": {
      "text/plain": "          table_catalog table_schema     table_name column_name data_type  \\\n0  bigquery-public-data  covid19_nyt  excess_deaths     country    STRING   \n1  bigquery-public-data  covid19_nyt  excess_deaths   placename    STRING   \n2  bigquery-public-data  covid19_nyt  excess_deaths   frequency    STRING   \n3  bigquery-public-data  covid19_nyt  excess_deaths  start_date      DATE   \n4  bigquery-public-data  covid19_nyt  excess_deaths    end_date      DATE   \n\n                                         description  \n0                               The country reported  \n1                  The place in the country reported  \n2  Weekly or monthly, depending on how the data i...  \n3              The first date included in the period  \n4               The last date included in the period  ",
      "text/html": "<div>\n<style scoped>\n    .dataframe tbody tr th:only-of-type {\n        vertical-align: middle;\n    }\n\n    .dataframe tbody tr th {\n        vertical-align: top;\n    }\n\n    .dataframe thead th {\n        text-align: right;\n    }\n</style>\n<table border=\"1\" class=\"dataframe\">\n  <thead>\n    <tr style=\"text-align: right;\">\n      <th></th>\n      <th>table_catalog</th>\n      <th>table_schema</th>\n      <th>table_name</th>\n      <th>column_name</th>\n      <th>data_type</th>\n      <th>description</th>\n    </tr>\n  </thead>\n  <tbody>\n    <tr>\n      <th>0</th>\n      <td>bigquery-public-data</td>\n      <td>covid19_nyt</td>\n      <td>excess_deaths</td>\n      <td>country</td>\n      <td>STRING</td>\n      <td>The country reported</td>\n    </tr>\n    <tr>\n      <th>1</th>\n      <td>bigquery-public-data</td>\n      <td>covid19_nyt</td>\n      <td>excess_deaths</td>\n      <td>placename</td>\n      <td>STRING</td>\n      <td>The place in the country reported</td>\n    </tr>\n    <tr>\n      <th>2</th>\n      <td>bigquery-public-data</td>\n      <td>covid19_nyt</td>\n      <td>excess_deaths</td>\n      <td>frequency</td>\n      <td>STRING</td>\n      <td>Weekly or monthly, depending on how the data i...</td>\n    </tr>\n    <tr>\n      <th>3</th>\n      <td>bigquery-public-data</td>\n      <td>covid19_nyt</td>\n      <td>excess_deaths</td>\n      <td>start_date</td>\n      <td>DATE</td>\n      <td>The first date included in the period</td>\n    </tr>\n    <tr>\n      <th>4</th>\n      <td>bigquery-public-data</td>\n      <td>covid19_nyt</td>\n      <td>excess_deaths</td>\n      <td>end_date</td>\n      <td>DATE</td>\n      <td>The last date included in the period</td>\n    </tr>\n  </tbody>\n</table>\n</div>"
     },
     "execution_count": 13,
     "metadata": {},
     "output_type": "execute_result"
    }
   ],
   "source": [
    "schema_columns.head()"
   ],
   "metadata": {
    "collapsed": false,
    "ExecuteTime": {
     "end_time": "2024-04-03T18:40:18.954281Z",
     "start_time": "2024-04-03T18:40:18.913024Z"
    }
   },
   "id": "61db4f735b8718",
   "execution_count": 13
  },
  {
   "cell_type": "code",
   "outputs": [
    {
     "data": {
      "text/plain": "<bound method DataFrame.to_markdown of            table_catalog table_schema          table_name       column_name  \\\n0   bigquery-public-data  covid19_nyt       excess_deaths           country   \n1   bigquery-public-data  covid19_nyt       excess_deaths         placename   \n2   bigquery-public-data  covid19_nyt       excess_deaths         frequency   \n3   bigquery-public-data  covid19_nyt       excess_deaths        start_date   \n4   bigquery-public-data  covid19_nyt       excess_deaths          end_date   \n5   bigquery-public-data  covid19_nyt       excess_deaths              year   \n6   bigquery-public-data  covid19_nyt       excess_deaths             month   \n7   bigquery-public-data  covid19_nyt       excess_deaths              week   \n8   bigquery-public-data  covid19_nyt       excess_deaths            deaths   \n9   bigquery-public-data  covid19_nyt       excess_deaths   expected_deaths   \n10  bigquery-public-data  covid19_nyt       excess_deaths     excess_deaths   \n11  bigquery-public-data  covid19_nyt       excess_deaths          baseline   \n12  bigquery-public-data  covid19_nyt  mask_use_by_county  county_fips_code   \n13  bigquery-public-data  covid19_nyt  mask_use_by_county             never   \n14  bigquery-public-data  covid19_nyt  mask_use_by_county            rarely   \n15  bigquery-public-data  covid19_nyt  mask_use_by_county         sometimes   \n16  bigquery-public-data  covid19_nyt  mask_use_by_county        frequently   \n17  bigquery-public-data  covid19_nyt  mask_use_by_county            always   \n18  bigquery-public-data  covid19_nyt         us_counties              date   \n19  bigquery-public-data  covid19_nyt         us_counties            county   \n20  bigquery-public-data  covid19_nyt         us_counties        state_name   \n21  bigquery-public-data  covid19_nyt         us_counties  county_fips_code   \n22  bigquery-public-data  covid19_nyt         us_counties   confirmed_cases   \n23  bigquery-public-data  covid19_nyt         us_counties            deaths   \n24  bigquery-public-data  covid19_nyt           us_states              date   \n25  bigquery-public-data  covid19_nyt           us_states        state_name   \n26  bigquery-public-data  covid19_nyt           us_states   state_fips_code   \n27  bigquery-public-data  covid19_nyt           us_states   confirmed_cases   \n28  bigquery-public-data  covid19_nyt           us_states            deaths   \n\n   data_type                                        description  \n0     STRING                               The country reported  \n1     STRING                  The place in the country reported  \n2     STRING  Weekly or monthly, depending on how the data i...  \n3       DATE              The first date included in the period  \n4       DATE               The last date included in the period  \n5     STRING                                      Year reported  \n6      INT64                                    Numerical month  \n7      INT64  Epidemiological week, which is a standardized ...  \n8      INT64  The total number of confirmed deaths recorded ...  \n9      INT64  The baseline number of expected deaths, calcul...  \n10     INT64     The number of deaths minus the expected deaths  \n11    STRING        The years used to calculate expected_deaths  \n12    STRING      Standard geographic identifier for the county  \n13   FLOAT64  The estimated share of people in this county w...  \n14   FLOAT64  The estimated share of people in this county w...  \n15   FLOAT64  The estimated share of people in this county w...  \n16   FLOAT64  The estimated share of people in this county w...  \n17   FLOAT64  The estimated share of people in this county w...  \n18      DATE                                      Date reported  \n19    STRING                      County in the specified state  \n20    STRING                                     State reported  \n21    STRING      Standard geographic identifier for the county  \n22     INT64    The total number of confirmed cases of COVID-19  \n23     INT64   The total number of confirmed deaths of COVID-19  \n24      DATE                                      Date reported  \n25    STRING                                     State reported  \n26    STRING       Standard geographic identifier for the state  \n27     INT64    The total number of confirmed cases of COVID-19  \n28     INT64   The total number of confirmed deaths of COVID-19  >"
     },
     "execution_count": 41,
     "metadata": {},
     "output_type": "execute_result"
    }
   ],
   "source": [
    "schema_columns.to_markdown"
   ],
   "metadata": {
    "collapsed": false,
    "ExecuteTime": {
     "end_time": "2024-04-03T20:33:41.708358Z",
     "start_time": "2024-04-03T20:33:41.672260Z"
    }
   },
   "id": "ae1799ae642d2f13",
   "execution_count": 41
  },
  {
   "cell_type": "markdown",
   "source": [
    "### Code Generation LLM - With Context"
   ],
   "metadata": {
    "collapsed": false
   },
   "id": "c70e0eb306b995a0"
  },
  {
   "cell_type": "code",
   "outputs": [
    {
     "name": "stdout",
     "output_type": "stream",
     "text": [
      "On the last day of 2022, which state has the most covid-19 confirmed death?\n"
     ]
    }
   ],
   "source": [
    "print(question)"
   ],
   "metadata": {
    "collapsed": false,
    "ExecuteTime": {
     "end_time": "2024-04-03T18:40:18.955364Z",
     "start_time": "2024-04-03T18:40:18.933307Z"
    }
   },
   "id": "a78afd401fea61d2",
   "execution_count": 14
  },
  {
   "cell_type": "code",
   "outputs": [
    {
     "name": "stdout",
     "output_type": "stream",
     "text": [
      "```sql\n",
      "SELECT\n",
      "  state_name,\n",
      "  MAX(deaths) AS max_deaths\n",
      "FROM `bigquery-public-data.covid19_nyt.us_states`\n",
      "WHERE\n",
      "  date = (\n",
      "    SELECT\n",
      "      MAX(date)\n",
      "    FROM `bigquery-public-data.covid19_nyt.us_states`\n",
      "    WHERE\n",
      "      date <= '2022-12-31'\n",
      "  )\n",
      "GROUP BY\n",
      "  state_name\n",
      "ORDER BY\n",
      "  max_deaths DESC\n",
      "LIMIT 1;\n",
      "```\n"
     ]
    }
   ],
   "source": [
    "context_prompt = f\"\"\"\n",
    "context (BigQuery Table Schema):\n",
    "{schema_columns.to_markdown(index = False)}\n",
    "\n",
    "Write a query for Google BigQuery using fully qualified table names to answer this question:\n",
    "{question}\n",
    "\"\"\"\n",
    "\n",
    "#context_query = textgen_model.predict(f\"Write a Google SQL query that answers the following question.\\nquestion: {question}\")\n",
    "#context_query = codegen_model.predict(context_prompt, max_output_tokens = 500)\n",
    "context_query = gemini_model.generate_content(context_prompt, generation_config = dict(temperature = 0))\n",
    "\n",
    "print(context_query.text)"
   ],
   "metadata": {
    "collapsed": false,
    "ExecuteTime": {
     "end_time": "2024-04-03T18:40:20.139326Z",
     "start_time": "2024-04-03T18:40:18.942264Z"
    }
   },
   "id": "5e36cfc64cf106e",
   "execution_count": 15
  },
  {
   "cell_type": "code",
   "outputs": [
    {
     "name": "stdout",
     "output_type": "stream",
     "text": [
      "SELECT\n",
      "  state_name,\n",
      "  MAX(deaths) AS max_deaths\n",
      "FROM `bigquery-public-data.covid19_nyt.us_states`\n",
      "WHERE\n",
      "  date = (\n",
      "    SELECT\n",
      "      MAX(date)\n",
      "    FROM `bigquery-public-data.covid19_nyt.us_states`\n",
      "    WHERE\n",
      "      date <= '2022-12-31'\n",
      "  )\n",
      "GROUP BY\n",
      "  state_name\n",
      "ORDER BY\n",
      "  max_deaths DESC\n",
      "LIMIT 1;\n"
     ]
    }
   ],
   "source": [
    "context_query = query = '\\n'.join(context_query.text.split('\\n')[1:-1])\n",
    "print(context_query)"
   ],
   "metadata": {
    "collapsed": false,
    "ExecuteTime": {
     "end_time": "2024-04-03T18:40:20.150162Z",
     "start_time": "2024-04-03T18:40:20.143783Z"
    }
   },
   "id": "1971ec2792d530c4",
   "execution_count": 16
  },
  {
   "cell_type": "code",
   "outputs": [],
   "source": [
    "dry_run = bq.query(context_query, job_config = bigquery.QueryJobConfig(dry_run = True, use_query_cache = False))"
   ],
   "metadata": {
    "collapsed": false,
    "ExecuteTime": {
     "end_time": "2024-04-03T18:40:20.547818Z",
     "start_time": "2024-04-03T18:40:20.151532Z"
    }
   },
   "id": "9c49498aa34337d6",
   "execution_count": 17
  },
  {
   "cell_type": "code",
   "outputs": [],
   "source": [
    "dry_run.errors"
   ],
   "metadata": {
    "collapsed": false,
    "ExecuteTime": {
     "end_time": "2024-04-03T18:40:20.555095Z",
     "start_time": "2024-04-03T18:40:20.550187Z"
    }
   },
   "id": "60cb48ff86968d10",
   "execution_count": 18
  },
  {
   "cell_type": "code",
   "outputs": [
    {
     "data": {
      "text/plain": "1674827"
     },
     "execution_count": 19,
     "metadata": {},
     "output_type": "execute_result"
    }
   ],
   "source": [
    "dry_run.total_bytes_processed"
   ],
   "metadata": {
    "collapsed": false,
    "ExecuteTime": {
     "end_time": "2024-04-03T18:40:20.564775Z",
     "start_time": "2024-04-03T18:40:20.556764Z"
    }
   },
   "id": "f81ca357f29fc2d6",
   "execution_count": 19
  },
  {
   "cell_type": "code",
   "outputs": [
    {
     "data": {
      "text/plain": "   state_name  max_deaths\n0  California      100865",
      "text/html": "<div>\n<style scoped>\n    .dataframe tbody tr th:only-of-type {\n        vertical-align: middle;\n    }\n\n    .dataframe tbody tr th {\n        vertical-align: top;\n    }\n\n    .dataframe thead th {\n        text-align: right;\n    }\n</style>\n<table border=\"1\" class=\"dataframe\">\n  <thead>\n    <tr style=\"text-align: right;\">\n      <th></th>\n      <th>state_name</th>\n      <th>max_deaths</th>\n    </tr>\n  </thead>\n  <tbody>\n    <tr>\n      <th>0</th>\n      <td>California</td>\n      <td>100865</td>\n    </tr>\n  </tbody>\n</table>\n</div>"
     },
     "execution_count": 20,
     "metadata": {},
     "output_type": "execute_result"
    }
   ],
   "source": [
    "context_response = bq.query(context_query).to_dataframe()\n",
    "context_response"
   ],
   "metadata": {
    "collapsed": false,
    "ExecuteTime": {
     "end_time": "2024-04-03T18:40:21.590463Z",
     "start_time": "2024-04-03T18:40:20.566621Z"
    }
   },
   "id": "6cd3922d0071e8a5",
   "execution_count": 20
  },
  {
   "cell_type": "markdown",
   "source": [
    "### Answer The Question\n",
    "Now that a valid context has been retrieved from BigQuery it can be passed to a text generation LLM to answer the user questions."
   ],
   "metadata": {
    "collapsed": false
   },
   "id": "af10f05eadb35e0a"
  },
  {
   "cell_type": "code",
   "outputs": [
    {
     "name": "stdout",
     "output_type": "stream",
     "text": [
      " California\n"
     ]
    }
   ],
   "source": [
    "question_prompt = f\"\"\"\n",
    "context (result from BigQuery query):\n",
    "{context_response.to_markdown(index = False)}\n",
    "\n",
    "Answer the following question using the provided context.  Note that the context is a tabular result returned from a BigQuery query.  Do not repeat the question or the context when responding.\n",
    "{question}\n",
    "\"\"\"\n",
    "\n",
    "question_response = textgen_model.predict(question_prompt)\n",
    "\n",
    "print(question_response.text)"
   ],
   "metadata": {
    "collapsed": false,
    "ExecuteTime": {
     "end_time": "2024-04-03T18:45:56.550637Z",
     "start_time": "2024-04-03T18:45:56.027875Z"
    }
   },
   "id": "51bd578b15c072c",
   "execution_count": 21
  },
  {
   "cell_type": "markdown",
   "source": [
    "### Put It All Together\n",
    "Ask a new question and try it out:"
   ],
   "metadata": {
    "collapsed": false
   },
   "id": "2d454b7bd45d0e7f"
  },
  {
   "cell_type": "code",
   "outputs": [],
   "source": [
    "question = 'Which state have the least confirmed case?'"
   ],
   "metadata": {
    "collapsed": false,
    "ExecuteTime": {
     "end_time": "2024-04-03T18:50:49.535216Z",
     "start_time": "2024-04-03T18:50:49.479681Z"
    }
   },
   "id": "eac4655337f664f3",
   "execution_count": 29
  },
  {
   "cell_type": "code",
   "outputs": [],
   "source": [
    "context_prompt = f\"\"\"\n",
    "context (BigQuery Table Schema):\n",
    "{schema_columns.to_markdown(index = False)}\n",
    "\n",
    "Write a query for Google BigQuery using fully qualified table names to answer this question:\n",
    "{question}\n",
    "\"\"\"\n",
    "\n",
    "#context_query = textgen_model.predict(f\"Write a Google SQL query that answers the following question.\\nquestion: {question}\")\n",
    "#context_query = codegen_model.predict(context_prompt, max_output_tokens = 500)\n",
    "context_query = gemini_model.generate_content(context_prompt, generation_config = dict(temperature = 0))\n",
    "\n",
    "\n",
    "context_response = bq.query(query = '\\n'.join(context_query.text.split('\\n')[1:-1])).to_dataframe()"
   ],
   "metadata": {
    "collapsed": false,
    "ExecuteTime": {
     "end_time": "2024-04-03T18:50:51.845819Z",
     "start_time": "2024-04-03T18:50:50.097143Z"
    }
   },
   "id": "f03349e5f3c97946",
   "execution_count": 30
  },
  {
   "cell_type": "code",
   "outputs": [
    {
     "name": "stdout",
     "output_type": "stream",
     "text": [
      "| state_name   |\n",
      "|:-------------|\n",
      "| Alaska       |\n"
     ]
    }
   ],
   "source": [
    "print(context_response.to_markdown(index = False))"
   ],
   "metadata": {
    "collapsed": false,
    "ExecuteTime": {
     "end_time": "2024-04-03T18:50:52.944515Z",
     "start_time": "2024-04-03T18:50:52.917936Z"
    }
   },
   "id": "f618cbe98a3b3a73",
   "execution_count": 31
  },
  {
   "cell_type": "code",
   "outputs": [
    {
     "name": "stdout",
     "output_type": "stream",
     "text": [
      " Alaska\n"
     ]
    }
   ],
   "source": [
    "question_prompt = f\"\"\"\n",
    "context (result from BigQuery query):\n",
    "{context_response.to_markdown(index = False)}\n",
    "\n",
    "Answer the following question.  Note that the context is a tabular result returned from a BigQuery query.  Do not repeat the question or the context when responding.\n",
    "{question}\n",
    "\"\"\"\n",
    "\n",
    "question_response = textgen_model.predict(question_prompt)\n",
    "\n",
    "print(question_response.text)"
   ],
   "metadata": {
    "collapsed": false,
    "ExecuteTime": {
     "end_time": "2024-04-03T18:51:43.688261Z",
     "start_time": "2024-04-03T18:51:43.124200Z"
    }
   },
   "id": "6f0231cdbd1a909e",
   "execution_count": 32
  },
  {
   "cell_type": "markdown",
   "source": [
    "### More Complex"
   ],
   "metadata": {
    "collapsed": false
   },
   "id": "5de7a29a47348d92"
  },
  {
   "cell_type": "code",
   "outputs": [],
   "source": [
    "question = 'Which county has the highest total number of confirmed deaths of COVID-19?'"
   ],
   "metadata": {
    "collapsed": false,
    "ExecuteTime": {
     "end_time": "2024-04-03T18:53:54.675061Z",
     "start_time": "2024-04-03T18:53:54.636321Z"
    }
   },
   "id": "8e08e847480a22fa",
   "execution_count": 36
  },
  {
   "cell_type": "code",
   "outputs": [],
   "source": [
    "context_prompt = f\"\"\"\n",
    "context (BigQuery Table Schema):\n",
    "{schema_columns.to_markdown(index = False)}\n",
    "\n",
    "Write a query for Google BigQuery using fully qualified table names to answer this question:\n",
    "{question}\n",
    "\"\"\"\n",
    "\n",
    "#context_query = textgen_model.predict(f\"Write a Google SQL query that answers the following question.\\nquestion: {question}\")\n",
    "#context_query = codegen_model.predict(context_prompt, max_output_tokens = 500, temperature = 0.9)\n",
    "context_query = gemini_model.generate_content(context_prompt, generation_config = dict(temperature = 0))\n",
    "\n",
    "context_query = '\\n'.join(context_query.text.split('\\n')[1:-1])\n",
    "context_response = bq.query(query = context_query).to_dataframe()"
   ],
   "metadata": {
    "collapsed": false,
    "ExecuteTime": {
     "end_time": "2024-04-03T18:53:57.911955Z",
     "start_time": "2024-04-03T18:53:55.599515Z"
    }
   },
   "id": "bb2993a4c2807f66",
   "execution_count": 37
  },
  {
   "cell_type": "code",
   "outputs": [
    {
     "name": "stdout",
     "output_type": "stream",
     "text": [
      "SELECT\n",
      "  county,\n",
      "  SUM(deaths) AS total_deaths\n",
      "FROM\n",
      "  `bigquery-public-data.covid19_nyt.us_counties`\n",
      "GROUP BY\n",
      "  county\n",
      "ORDER BY\n",
      "  total_deaths DESC\n",
      "LIMIT 1;\n"
     ]
    }
   ],
   "source": [
    "\n",
    "print(context_query)"
   ],
   "metadata": {
    "collapsed": false,
    "ExecuteTime": {
     "end_time": "2024-04-03T18:54:05.167134Z",
     "start_time": "2024-04-03T18:54:05.136554Z"
    }
   },
   "id": "6e491563c28196fb",
   "execution_count": 38
  },
  {
   "cell_type": "code",
   "outputs": [
    {
     "data": {
      "text/plain": "          county  total_deaths\n0  New York City      32697668",
      "text/html": "<div>\n<style scoped>\n    .dataframe tbody tr th:only-of-type {\n        vertical-align: middle;\n    }\n\n    .dataframe tbody tr th {\n        vertical-align: top;\n    }\n\n    .dataframe thead th {\n        text-align: right;\n    }\n</style>\n<table border=\"1\" class=\"dataframe\">\n  <thead>\n    <tr style=\"text-align: right;\">\n      <th></th>\n      <th>county</th>\n      <th>total_deaths</th>\n    </tr>\n  </thead>\n  <tbody>\n    <tr>\n      <th>0</th>\n      <td>New York City</td>\n      <td>32697668</td>\n    </tr>\n  </tbody>\n</table>\n</div>"
     },
     "execution_count": 39,
     "metadata": {},
     "output_type": "execute_result"
    }
   ],
   "source": [
    "context_response"
   ],
   "metadata": {
    "collapsed": false,
    "ExecuteTime": {
     "end_time": "2024-04-03T18:54:14.109289Z",
     "start_time": "2024-04-03T18:54:14.069381Z"
    }
   },
   "id": "21dc61a5fa3b1c0",
   "execution_count": 39
  },
  {
   "cell_type": "code",
   "outputs": [
    {
     "name": "stdout",
     "output_type": "stream",
     "text": [
      "New York City\n"
     ]
    }
   ],
   "source": [
    "question_prompt = f\"\"\"\n",
    "Answer the following question.  Note that the context above is a tabular result returned from a BigQuery query specific to this question.  Do not repeat the question or the context when responding.\n",
    "{question}\n",
    "\n",
    "Use this data:\n",
    "{context_response.to_markdown(index = False)}\n",
    "\"\"\"\n",
    "\n",
    "question_response = gemini_model.generate_content(question_prompt)\n",
    "\n",
    "print(question_response.text)"
   ],
   "metadata": {
    "collapsed": false,
    "ExecuteTime": {
     "end_time": "2024-04-03T18:54:24.408090Z",
     "start_time": "2024-04-03T18:54:24.083824Z"
    }
   },
   "id": "7df7ec952d3f17e3",
   "execution_count": 40
  },
  {
   "cell_type": "code",
   "outputs": [],
   "source": [],
   "metadata": {
    "collapsed": false
   },
   "id": "e731f43bfffbe06d"
  }
 ],
 "metadata": {
  "kernelspec": {
   "display_name": "Python 3",
   "language": "python",
   "name": "python3"
  },
  "language_info": {
   "codemirror_mode": {
    "name": "ipython",
    "version": 2
   },
   "file_extension": ".py",
   "mimetype": "text/x-python",
   "name": "python",
   "nbconvert_exporter": "python",
   "pygments_lexer": "ipython2",
   "version": "2.7.6"
  }
 },
 "nbformat": 4,
 "nbformat_minor": 5
}
