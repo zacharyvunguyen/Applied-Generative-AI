{
 "cells": [
  {
   "cell_type": "code",
   "outputs": [],
   "source": [
    "import streamlit as st\n",
    "import os\n",
    "# Import Google Cloud and Vertex AI libraries\n",
    "from google.cloud import bigquery\n",
    "import vertexai\n",
    "import vertexai.language_models\n",
    "import vertexai.preview.generative_models\n",
    "\n",
    "# Set environment variables for Google Cloud credentials and TensorFlow logging level\n",
    "GOOGLE_APPLICATION_CREDENTIALS = \"/Users/zacharynguyen/Documents/GitHub/2024/Applied-Generative-AI/IAM/zacharynguyen-genai-656c475b142a.json\"\n",
    "os.environ[\"GOOGLE_APPLICATION_CREDENTIALS\"] = GOOGLE_APPLICATION_CREDENTIALS\n",
    "os.environ['TF_CPP_MIN_LOG_LEVEL'] = '3'\n",
    "\n",
    "# Define Google Cloud project and region information\n",
    "PROJECT_ID = 'zacharynguyen-genai'\n",
    "REGION = 'us-central1'\n",
    "EXPERIMENT = 'sdoh_cdc_wonder_natality'\n",
    "SERIES = 'applied-genai'\n",
    "\n",
    "# Initialize Vertex AI\n",
    "vertexai.init(project=PROJECT_ID, location=REGION)\n",
    "\n",
    "# Initialize the BigQuery client\n",
    "bq = bigquery.Client(project=PROJECT_ID)\n",
    "\n",
    "# Initialize Vertex AI models\n",
    "textgen_model = vertexai.language_models.TextGenerationModel.from_pretrained('text-bison@002')\n",
    "codegen_model = vertexai.language_models.CodeGenerationModel.from_pretrained('code-bison@002')\n",
    "gemini_model = vertexai.preview.generative_models.GenerativeModel(\"gemini-pro\")\n",
    "\n",
    "# BigQuery constants for querying\n",
    "BQ_PROJECT = 'bigquery-public-data'\n",
    "BQ_DATASET = 'sdoh_cdc_wonder_natality'\n",
    "BQ_TABLES = ['county_natality', 'county_natality_by_mother_race', 'county_natality_by_father_race']\n",
    "\n",
    "# Construct and execute a BigQuery query to retrieve schema columns\n",
    "query = f\"\"\"\n",
    "    SELECT * EXCEPT(field_path, collation_name, rounding_mode)\n",
    "    FROM `{BQ_PROJECT}.{BQ_DATASET}.INFORMATION_SCHEMA.COLUMN_FIELD_PATHS`\n",
    "    WHERE table_name in ({','.join([f'\"{table}\"' for table in BQ_TABLES])})\n",
    "\"\"\"\n",
    "schema_columns = bq.query(query=query).to_dataframe()"
   ],
   "metadata": {
    "collapsed": false,
    "ExecuteTime": {
     "end_time": "2024-04-08T15:58:55.972295Z",
     "start_time": "2024-04-08T15:58:51.286240Z"
    }
   },
   "id": "594e34f4b085f606",
   "execution_count": 1
  },
  {
   "cell_type": "code",
   "outputs": [
    {
     "data": {
      "text/plain": "           table_catalog              table_schema  \\\n0   bigquery-public-data  sdoh_cdc_wonder_natality   \n1   bigquery-public-data  sdoh_cdc_wonder_natality   \n2   bigquery-public-data  sdoh_cdc_wonder_natality   \n3   bigquery-public-data  sdoh_cdc_wonder_natality   \n4   bigquery-public-data  sdoh_cdc_wonder_natality   \n5   bigquery-public-data  sdoh_cdc_wonder_natality   \n6   bigquery-public-data  sdoh_cdc_wonder_natality   \n7   bigquery-public-data  sdoh_cdc_wonder_natality   \n8   bigquery-public-data  sdoh_cdc_wonder_natality   \n9   bigquery-public-data  sdoh_cdc_wonder_natality   \n10  bigquery-public-data  sdoh_cdc_wonder_natality   \n11  bigquery-public-data  sdoh_cdc_wonder_natality   \n12  bigquery-public-data  sdoh_cdc_wonder_natality   \n13  bigquery-public-data  sdoh_cdc_wonder_natality   \n14  bigquery-public-data  sdoh_cdc_wonder_natality   \n15  bigquery-public-data  sdoh_cdc_wonder_natality   \n16  bigquery-public-data  sdoh_cdc_wonder_natality   \n17  bigquery-public-data  sdoh_cdc_wonder_natality   \n18  bigquery-public-data  sdoh_cdc_wonder_natality   \n19  bigquery-public-data  sdoh_cdc_wonder_natality   \n20  bigquery-public-data  sdoh_cdc_wonder_natality   \n21  bigquery-public-data  sdoh_cdc_wonder_natality   \n22  bigquery-public-data  sdoh_cdc_wonder_natality   \n23  bigquery-public-data  sdoh_cdc_wonder_natality   \n24  bigquery-public-data  sdoh_cdc_wonder_natality   \n25  bigquery-public-data  sdoh_cdc_wonder_natality   \n26  bigquery-public-data  sdoh_cdc_wonder_natality   \n27  bigquery-public-data  sdoh_cdc_wonder_natality   \n28  bigquery-public-data  sdoh_cdc_wonder_natality   \n29  bigquery-public-data  sdoh_cdc_wonder_natality   \n30  bigquery-public-data  sdoh_cdc_wonder_natality   \n31  bigquery-public-data  sdoh_cdc_wonder_natality   \n32  bigquery-public-data  sdoh_cdc_wonder_natality   \n33  bigquery-public-data  sdoh_cdc_wonder_natality   \n\n                        table_name                  column_name data_type  \\\n0                  county_natality                         Year      DATE   \n1                  county_natality          County_of_Residence    STRING   \n2                  county_natality     County_of_Residence_FIPS    STRING   \n3                  county_natality                       Births     INT64   \n4                  county_natality            Ave_Age_of_Mother   FLOAT64   \n5                  county_natality   Ave_OE_Gestational_Age_Wks   FLOAT64   \n6                  county_natality  Ave_LMP_Gestational_Age_Wks   FLOAT64   \n7                  county_natality         Ave_Birth_Weight_gms   FLOAT64   \n8                  county_natality        Ave_Pre_pregnancy_BMI   FLOAT64   \n9                  county_natality   Ave_Number_of_Prenatal_Wks   FLOAT64   \n10  county_natality_by_father_race                         Year      DATE   \n11  county_natality_by_father_race          County_of_Residence    STRING   \n12  county_natality_by_father_race     County_of_Residence_FIPS    STRING   \n13  county_natality_by_father_race          Fathers_Single_Race    STRING   \n14  county_natality_by_father_race     Fathers_Single_Race_Code    STRING   \n15  county_natality_by_father_race                       Births     INT64   \n16  county_natality_by_father_race            Ave_Age_of_Mother   FLOAT64   \n17  county_natality_by_father_race   Ave_OE_Gestational_Age_Wks   FLOAT64   \n18  county_natality_by_father_race  Ave_LMP_Gestational_Age_Wks   FLOAT64   \n19  county_natality_by_father_race         Ave_Birth_Weight_gms   FLOAT64   \n20  county_natality_by_father_race        Ave_Pre_pregnancy_BMI   FLOAT64   \n21  county_natality_by_father_race   Ave_Number_of_Prenatal_Wks   FLOAT64   \n22  county_natality_by_mother_race                         Year      DATE   \n23  county_natality_by_mother_race          County_of_Residence    STRING   \n24  county_natality_by_mother_race     County_of_Residence_FIPS    STRING   \n25  county_natality_by_mother_race          Mothers_Single_Race    STRING   \n26  county_natality_by_mother_race     Mothers_Single_Race_Code    STRING   \n27  county_natality_by_mother_race                       Births     INT64   \n28  county_natality_by_mother_race            Ave_Age_of_Mother   FLOAT64   \n29  county_natality_by_mother_race   Ave_OE_Gestational_Age_Wks   FLOAT64   \n30  county_natality_by_mother_race  Ave_LMP_Gestational_Age_Wks   FLOAT64   \n31  county_natality_by_mother_race         Ave_Birth_Weight_gms   FLOAT64   \n32  county_natality_by_mother_race        Ave_Pre_pregnancy_BMI   FLOAT64   \n33  county_natality_by_mother_race   Ave_Number_of_Prenatal_Wks   FLOAT64   \n\n                            description  \n0                                  Year  \n1                   County of Residence  \n2              County of Residence Code  \n3                      Number of Births  \n4         Average Age of Mother (years)  \n5    Average OE Gestational Age (weeks)  \n6   Average LMP Gestational Age (weeks)  \n7          Average Birth Weight (grams)  \n8             Average Pre-pregnancy BMI  \n9     Average Number of Prenatal Visits  \n10                                 Year  \n11                  County of Residence  \n12             County of Residence Code  \n13               Father's Single Race 6  \n14          Father's Single Race 6 Code  \n15                     Number of Births  \n16        Average Age of Mother (years)  \n17   Average OE Gestational Age (weeks)  \n18  Average LMP Gestational Age (weeks)  \n19         Average Birth Weight (grams)  \n20            Average Pre-pregnancy BMI  \n21    Average Number of Prenatal Visits  \n22                                 Year  \n23                  County of Residence  \n24             County of Residence Code  \n25               Mother's Single Race 6  \n26          Mother's Single Race 6 Code  \n27                     Number of Births  \n28        Average Age of Mother (years)  \n29   Average OE Gestational Age (weeks)  \n30  Average LMP Gestational Age (weeks)  \n31         Average Birth Weight (grams)  \n32            Average Pre-pregnancy BMI  \n33    Average Number of Prenatal Visits  ",
      "text/html": "<div>\n<style scoped>\n    .dataframe tbody tr th:only-of-type {\n        vertical-align: middle;\n    }\n\n    .dataframe tbody tr th {\n        vertical-align: top;\n    }\n\n    .dataframe thead th {\n        text-align: right;\n    }\n</style>\n<table border=\"1\" class=\"dataframe\">\n  <thead>\n    <tr style=\"text-align: right;\">\n      <th></th>\n      <th>table_catalog</th>\n      <th>table_schema</th>\n      <th>table_name</th>\n      <th>column_name</th>\n      <th>data_type</th>\n      <th>description</th>\n    </tr>\n  </thead>\n  <tbody>\n    <tr>\n      <th>0</th>\n      <td>bigquery-public-data</td>\n      <td>sdoh_cdc_wonder_natality</td>\n      <td>county_natality</td>\n      <td>Year</td>\n      <td>DATE</td>\n      <td>Year</td>\n    </tr>\n    <tr>\n      <th>1</th>\n      <td>bigquery-public-data</td>\n      <td>sdoh_cdc_wonder_natality</td>\n      <td>county_natality</td>\n      <td>County_of_Residence</td>\n      <td>STRING</td>\n      <td>County of Residence</td>\n    </tr>\n    <tr>\n      <th>2</th>\n      <td>bigquery-public-data</td>\n      <td>sdoh_cdc_wonder_natality</td>\n      <td>county_natality</td>\n      <td>County_of_Residence_FIPS</td>\n      <td>STRING</td>\n      <td>County of Residence Code</td>\n    </tr>\n    <tr>\n      <th>3</th>\n      <td>bigquery-public-data</td>\n      <td>sdoh_cdc_wonder_natality</td>\n      <td>county_natality</td>\n      <td>Births</td>\n      <td>INT64</td>\n      <td>Number of Births</td>\n    </tr>\n    <tr>\n      <th>4</th>\n      <td>bigquery-public-data</td>\n      <td>sdoh_cdc_wonder_natality</td>\n      <td>county_natality</td>\n      <td>Ave_Age_of_Mother</td>\n      <td>FLOAT64</td>\n      <td>Average Age of Mother (years)</td>\n    </tr>\n    <tr>\n      <th>5</th>\n      <td>bigquery-public-data</td>\n      <td>sdoh_cdc_wonder_natality</td>\n      <td>county_natality</td>\n      <td>Ave_OE_Gestational_Age_Wks</td>\n      <td>FLOAT64</td>\n      <td>Average OE Gestational Age (weeks)</td>\n    </tr>\n    <tr>\n      <th>6</th>\n      <td>bigquery-public-data</td>\n      <td>sdoh_cdc_wonder_natality</td>\n      <td>county_natality</td>\n      <td>Ave_LMP_Gestational_Age_Wks</td>\n      <td>FLOAT64</td>\n      <td>Average LMP Gestational Age (weeks)</td>\n    </tr>\n    <tr>\n      <th>7</th>\n      <td>bigquery-public-data</td>\n      <td>sdoh_cdc_wonder_natality</td>\n      <td>county_natality</td>\n      <td>Ave_Birth_Weight_gms</td>\n      <td>FLOAT64</td>\n      <td>Average Birth Weight (grams)</td>\n    </tr>\n    <tr>\n      <th>8</th>\n      <td>bigquery-public-data</td>\n      <td>sdoh_cdc_wonder_natality</td>\n      <td>county_natality</td>\n      <td>Ave_Pre_pregnancy_BMI</td>\n      <td>FLOAT64</td>\n      <td>Average Pre-pregnancy BMI</td>\n    </tr>\n    <tr>\n      <th>9</th>\n      <td>bigquery-public-data</td>\n      <td>sdoh_cdc_wonder_natality</td>\n      <td>county_natality</td>\n      <td>Ave_Number_of_Prenatal_Wks</td>\n      <td>FLOAT64</td>\n      <td>Average Number of Prenatal Visits</td>\n    </tr>\n    <tr>\n      <th>10</th>\n      <td>bigquery-public-data</td>\n      <td>sdoh_cdc_wonder_natality</td>\n      <td>county_natality_by_father_race</td>\n      <td>Year</td>\n      <td>DATE</td>\n      <td>Year</td>\n    </tr>\n    <tr>\n      <th>11</th>\n      <td>bigquery-public-data</td>\n      <td>sdoh_cdc_wonder_natality</td>\n      <td>county_natality_by_father_race</td>\n      <td>County_of_Residence</td>\n      <td>STRING</td>\n      <td>County of Residence</td>\n    </tr>\n    <tr>\n      <th>12</th>\n      <td>bigquery-public-data</td>\n      <td>sdoh_cdc_wonder_natality</td>\n      <td>county_natality_by_father_race</td>\n      <td>County_of_Residence_FIPS</td>\n      <td>STRING</td>\n      <td>County of Residence Code</td>\n    </tr>\n    <tr>\n      <th>13</th>\n      <td>bigquery-public-data</td>\n      <td>sdoh_cdc_wonder_natality</td>\n      <td>county_natality_by_father_race</td>\n      <td>Fathers_Single_Race</td>\n      <td>STRING</td>\n      <td>Father's Single Race 6</td>\n    </tr>\n    <tr>\n      <th>14</th>\n      <td>bigquery-public-data</td>\n      <td>sdoh_cdc_wonder_natality</td>\n      <td>county_natality_by_father_race</td>\n      <td>Fathers_Single_Race_Code</td>\n      <td>STRING</td>\n      <td>Father's Single Race 6 Code</td>\n    </tr>\n    <tr>\n      <th>15</th>\n      <td>bigquery-public-data</td>\n      <td>sdoh_cdc_wonder_natality</td>\n      <td>county_natality_by_father_race</td>\n      <td>Births</td>\n      <td>INT64</td>\n      <td>Number of Births</td>\n    </tr>\n    <tr>\n      <th>16</th>\n      <td>bigquery-public-data</td>\n      <td>sdoh_cdc_wonder_natality</td>\n      <td>county_natality_by_father_race</td>\n      <td>Ave_Age_of_Mother</td>\n      <td>FLOAT64</td>\n      <td>Average Age of Mother (years)</td>\n    </tr>\n    <tr>\n      <th>17</th>\n      <td>bigquery-public-data</td>\n      <td>sdoh_cdc_wonder_natality</td>\n      <td>county_natality_by_father_race</td>\n      <td>Ave_OE_Gestational_Age_Wks</td>\n      <td>FLOAT64</td>\n      <td>Average OE Gestational Age (weeks)</td>\n    </tr>\n    <tr>\n      <th>18</th>\n      <td>bigquery-public-data</td>\n      <td>sdoh_cdc_wonder_natality</td>\n      <td>county_natality_by_father_race</td>\n      <td>Ave_LMP_Gestational_Age_Wks</td>\n      <td>FLOAT64</td>\n      <td>Average LMP Gestational Age (weeks)</td>\n    </tr>\n    <tr>\n      <th>19</th>\n      <td>bigquery-public-data</td>\n      <td>sdoh_cdc_wonder_natality</td>\n      <td>county_natality_by_father_race</td>\n      <td>Ave_Birth_Weight_gms</td>\n      <td>FLOAT64</td>\n      <td>Average Birth Weight (grams)</td>\n    </tr>\n    <tr>\n      <th>20</th>\n      <td>bigquery-public-data</td>\n      <td>sdoh_cdc_wonder_natality</td>\n      <td>county_natality_by_father_race</td>\n      <td>Ave_Pre_pregnancy_BMI</td>\n      <td>FLOAT64</td>\n      <td>Average Pre-pregnancy BMI</td>\n    </tr>\n    <tr>\n      <th>21</th>\n      <td>bigquery-public-data</td>\n      <td>sdoh_cdc_wonder_natality</td>\n      <td>county_natality_by_father_race</td>\n      <td>Ave_Number_of_Prenatal_Wks</td>\n      <td>FLOAT64</td>\n      <td>Average Number of Prenatal Visits</td>\n    </tr>\n    <tr>\n      <th>22</th>\n      <td>bigquery-public-data</td>\n      <td>sdoh_cdc_wonder_natality</td>\n      <td>county_natality_by_mother_race</td>\n      <td>Year</td>\n      <td>DATE</td>\n      <td>Year</td>\n    </tr>\n    <tr>\n      <th>23</th>\n      <td>bigquery-public-data</td>\n      <td>sdoh_cdc_wonder_natality</td>\n      <td>county_natality_by_mother_race</td>\n      <td>County_of_Residence</td>\n      <td>STRING</td>\n      <td>County of Residence</td>\n    </tr>\n    <tr>\n      <th>24</th>\n      <td>bigquery-public-data</td>\n      <td>sdoh_cdc_wonder_natality</td>\n      <td>county_natality_by_mother_race</td>\n      <td>County_of_Residence_FIPS</td>\n      <td>STRING</td>\n      <td>County of Residence Code</td>\n    </tr>\n    <tr>\n      <th>25</th>\n      <td>bigquery-public-data</td>\n      <td>sdoh_cdc_wonder_natality</td>\n      <td>county_natality_by_mother_race</td>\n      <td>Mothers_Single_Race</td>\n      <td>STRING</td>\n      <td>Mother's Single Race 6</td>\n    </tr>\n    <tr>\n      <th>26</th>\n      <td>bigquery-public-data</td>\n      <td>sdoh_cdc_wonder_natality</td>\n      <td>county_natality_by_mother_race</td>\n      <td>Mothers_Single_Race_Code</td>\n      <td>STRING</td>\n      <td>Mother's Single Race 6 Code</td>\n    </tr>\n    <tr>\n      <th>27</th>\n      <td>bigquery-public-data</td>\n      <td>sdoh_cdc_wonder_natality</td>\n      <td>county_natality_by_mother_race</td>\n      <td>Births</td>\n      <td>INT64</td>\n      <td>Number of Births</td>\n    </tr>\n    <tr>\n      <th>28</th>\n      <td>bigquery-public-data</td>\n      <td>sdoh_cdc_wonder_natality</td>\n      <td>county_natality_by_mother_race</td>\n      <td>Ave_Age_of_Mother</td>\n      <td>FLOAT64</td>\n      <td>Average Age of Mother (years)</td>\n    </tr>\n    <tr>\n      <th>29</th>\n      <td>bigquery-public-data</td>\n      <td>sdoh_cdc_wonder_natality</td>\n      <td>county_natality_by_mother_race</td>\n      <td>Ave_OE_Gestational_Age_Wks</td>\n      <td>FLOAT64</td>\n      <td>Average OE Gestational Age (weeks)</td>\n    </tr>\n    <tr>\n      <th>30</th>\n      <td>bigquery-public-data</td>\n      <td>sdoh_cdc_wonder_natality</td>\n      <td>county_natality_by_mother_race</td>\n      <td>Ave_LMP_Gestational_Age_Wks</td>\n      <td>FLOAT64</td>\n      <td>Average LMP Gestational Age (weeks)</td>\n    </tr>\n    <tr>\n      <th>31</th>\n      <td>bigquery-public-data</td>\n      <td>sdoh_cdc_wonder_natality</td>\n      <td>county_natality_by_mother_race</td>\n      <td>Ave_Birth_Weight_gms</td>\n      <td>FLOAT64</td>\n      <td>Average Birth Weight (grams)</td>\n    </tr>\n    <tr>\n      <th>32</th>\n      <td>bigquery-public-data</td>\n      <td>sdoh_cdc_wonder_natality</td>\n      <td>county_natality_by_mother_race</td>\n      <td>Ave_Pre_pregnancy_BMI</td>\n      <td>FLOAT64</td>\n      <td>Average Pre-pregnancy BMI</td>\n    </tr>\n    <tr>\n      <th>33</th>\n      <td>bigquery-public-data</td>\n      <td>sdoh_cdc_wonder_natality</td>\n      <td>county_natality_by_mother_race</td>\n      <td>Ave_Number_of_Prenatal_Wks</td>\n      <td>FLOAT64</td>\n      <td>Average Number of Prenatal Visits</td>\n    </tr>\n  </tbody>\n</table>\n</div>"
     },
     "execution_count": 2,
     "metadata": {},
     "output_type": "execute_result"
    }
   ],
   "source": [
    "schema_columns"
   ],
   "metadata": {
    "collapsed": false,
    "ExecuteTime": {
     "end_time": "2024-04-08T15:58:58.855795Z",
     "start_time": "2024-04-08T15:58:58.837102Z"
    }
   },
   "id": "f58dbdbff3d3c20d",
   "execution_count": 2
  },
  {
   "cell_type": "code",
   "outputs": [],
   "source": [
    "def initial_query(question, schema_columns):\n",
    "    # code generation model\n",
    "    codegen_model = vertexai.language_models.CodeGenerationModel.from_pretrained('code-bison@002')\n",
    "\n",
    "    # initial request for query:\n",
    "    context_prompt = f\"\"\"\n",
    "context (BigQuery Table Schema):\n",
    "{schema_columns.to_markdown(index=False)}\n",
    "\n",
    "Write a query for Google BigQuery using fully qualified table names to answer this question:\n",
    "{question}\n",
    "\"\"\"\n",
    "\n",
    "    context_query = codegen_model.predict(context_prompt, max_output_tokens=256)\n",
    "\n",
    "    # extract query from response\n",
    "    if context_query.text.find(\"```\") >= 0:\n",
    "        context_query = context_query.text.split(\"```\")[1]\n",
    "        if context_query.startswith('sql'):\n",
    "            context_query = context_query[3:]\n",
    "        print('Initial Query:\\n', context_query)\n",
    "    else:\n",
    "        print(\n",
    "            'No query provided (first try) - unforseen error, printing out response to help with editing this funcntion:\\n',\n",
    "            query_response.text)\n",
    "\n",
    "    return context_query\n"
   ],
   "metadata": {
    "collapsed": false,
    "ExecuteTime": {
     "end_time": "2024-04-08T16:04:36.842872Z",
     "start_time": "2024-04-08T16:04:36.817056Z"
    }
   },
   "id": "f8b2ff595b2e050",
   "execution_count": 3
  },
  {
   "cell_type": "code",
   "outputs": [],
   "source": [
    "question = \"Is there a correlation between pre-pregnancy BMI and birth weight?\""
   ],
   "metadata": {
    "collapsed": false,
    "ExecuteTime": {
     "end_time": "2024-04-08T16:05:11.929657Z",
     "start_time": "2024-04-08T16:05:11.918529Z"
    }
   },
   "id": "c278b2c592bbe82d",
   "execution_count": 4
  },
  {
   "cell_type": "markdown",
   "source": [
    "## Step 1: INITIAL QUERY"
   ],
   "metadata": {
    "collapsed": false
   },
   "id": "1015b491dcca47c0"
  },
  {
   "cell_type": "code",
   "outputs": [
    {
     "name": "stdout",
     "output_type": "stream",
     "text": [
      "Initial Query:\n",
      " \n",
      "SELECT\n",
      "  county_natality.County_of_Residence,\n",
      "  county_natality.Ave_Pre_pregnancy_BMI,\n",
      "  county_natality.Ave_Birth_Weight_gms,\n",
      "  CORR(county_natality.Ave_Pre_pregnancy_BMI, county_natality.Ave_Birth_Weight_gms) AS correlation\n",
      "FROM\n",
      "  bigquery-public-data.sdoh_cdc_wonder_natality.county_natality;\n"
     ]
    },
    {
     "data": {
      "text/plain": "'\\nSELECT\\n  county_natality.County_of_Residence,\\n  county_natality.Ave_Pre_pregnancy_BMI,\\n  county_natality.Ave_Birth_Weight_gms,\\n  CORR(county_natality.Ave_Pre_pregnancy_BMI, county_natality.Ave_Birth_Weight_gms) AS correlation\\nFROM\\n  bigquery-public-data.sdoh_cdc_wonder_natality.county_natality;\\n'"
     },
     "execution_count": 5,
     "metadata": {},
     "output_type": "execute_result"
    }
   ],
   "source": [
    "initial_query(question,schema_columns)"
   ],
   "metadata": {
    "collapsed": false,
    "ExecuteTime": {
     "end_time": "2024-04-08T16:05:14.267743Z",
     "start_time": "2024-04-08T16:05:12.484203Z"
    }
   },
   "id": "aa16931ae196eb11",
   "execution_count": 5
  },
  {
   "cell_type": "code",
   "outputs": [
    {
     "name": "stdout",
     "output_type": "stream",
     "text": [
      "Initial Query:\n",
      " \n",
      "SELECT\n",
      "  county_natality.County_of_Residence,\n",
      "  county_natality.Ave_Pre_pregnancy_BMI,\n",
      "  county_natality.Ave_Birth_Weight_gms,\n",
      "  CORR(county_natality.Ave_Pre_pregnancy_BMI, county_natality.Ave_Birth_Weight_gms) AS correlation\n",
      "FROM\n",
      "  bigquery-public-data.sdoh_cdc_wonder_natality.county_natality;\n"
     ]
    }
   ],
   "source": [
    "context_query = initial_query(question,schema_columns)"
   ],
   "metadata": {
    "collapsed": false,
    "ExecuteTime": {
     "end_time": "2024-04-08T16:09:24.920961Z",
     "start_time": "2024-04-08T16:09:23.355926Z"
    }
   },
   "id": "9dc8f1d6ec4d2c12",
   "execution_count": 7
  },
  {
   "cell_type": "markdown",
   "source": [
    "## STEP 2: CODE CHAT"
   ],
   "metadata": {
    "collapsed": false
   },
   "id": "7c4518c1bc5000c4"
  },
  {
   "cell_type": "code",
   "outputs": [],
   "source": [
    "def codechat_start(question, query, schema_columns):\n",
    "    # code chat model\n",
    "    codechat_model = vertexai.language_models.CodeChatModel.from_pretrained('codechat-bison@002')\n",
    "\n",
    "    # start a code chat session and give the schema for columns as the starting context:\n",
    "    codechat = codechat_model.start_chat(\n",
    "        context=f\"\"\"\n",
    "The BigQuery Environment has tables defined by the follow schema:\n",
    "{schema_columns.to_markdown(index=False)}\n",
    "\n",
    "This session is trying to troubleshoot a Google BigQuery SQL query that is being writen to answer the question:\n",
    "{question}\n",
    "\n",
    "BigQuery SQL query that needs to be fixed:\n",
    "{query}\n",
    "\n",
    "Instructions:\n",
    "As the user provides versions of the query and the errors returned by BigQuery, offer suggestions that fix the errors but it is important that the query still answer the original question.\n",
    "\"\"\"\n",
    "    )\n",
    "\n",
    "    return codechat"
   ],
   "metadata": {
    "collapsed": false,
    "ExecuteTime": {
     "end_time": "2024-04-08T16:11:39.745134Z",
     "start_time": "2024-04-08T16:11:39.729701Z"
    }
   },
   "id": "2e66665bafede2f4",
   "execution_count": 11
  },
  {
   "cell_type": "code",
   "outputs": [],
   "source": [
    "def fix_query(query, max_fixes):\n",
    "    # iteratively run query, and fix it using codechat until success (or max_fixes reached):\n",
    "    fix_tries = 0\n",
    "    answer = False\n",
    "    while fix_tries < max_fixes:\n",
    "        if not query:\n",
    "            return\n",
    "        # run query:\n",
    "        query_job = bq.query(query=query)\n",
    "        # if errors, then generate repair query:\n",
    "        if query_job.errors:\n",
    "            fix_tries += 1\n",
    "\n",
    "            if fix_tries == 1:\n",
    "                codechat = codechat_start(question, query, schema_columns)\n",
    "\n",
    "            # construct hint from error\n",
    "            hint = ''\n",
    "            for error in query_job.errors:\n",
    "                # detect error message\n",
    "                if 'message' in list(error.keys()):\n",
    "                    # detect index of error location\n",
    "                    if error['message'].rindex('[') and error['message'].rindex(']'):\n",
    "                        begin = error['message'].rindex('[') + 1\n",
    "                        end = error['message'].rindex(']')\n",
    "                        # verify that it looks like an error location:\n",
    "                        if end > begin and error['message'][begin:end].index(':'):\n",
    "                            # retrieve the two parts of the error index: query line, query column\n",
    "                            query_index = [int(q) for q in error['message'][begin:end].split(':')]\n",
    "                            hint += query.split('\\n')[query_index[0] - 1].strip()\n",
    "                            break\n",
    "\n",
    "            # construct prompt to request a fix:\n",
    "            fix_prompt = f\"\"\"This query:\\n{query}\\n\\nReturns these errors:\\n{query_job.errors}\"\"\"\n",
    "\n",
    "            if hint != '':\n",
    "                fix_prompt += f\"\"\"\\n\\nHint, the error appears to be in this line of the query:\\n{hint}\"\"\"\n",
    "\n",
    "            query_response = codechat.send_message(fix_prompt)\n",
    "            query_response = codechat.send_message(\n",
    "                'Respond with only the corrected query that still answers the question as a markdown code block.')\n",
    "            if query_response.text.find(\"```\") >= 0:\n",
    "                query = query_response.text.split(\"```\")[1]\n",
    "                if query.startswith('sql'):\n",
    "                    query = query[4:]\n",
    "                print(f'Fix #{fix_tries}:\\n', query)\n",
    "            # response did not have a query????:\n",
    "            else:\n",
    "                query = ''\n",
    "                print('No query in response...')\n",
    "\n",
    "        # no error, break while loop\n",
    "        else:\n",
    "            break\n",
    "\n",
    "    return query, query_job, fix_tries, codechat"
   ],
   "metadata": {
    "collapsed": false,
    "ExecuteTime": {
     "end_time": "2024-04-08T16:11:41.114421Z",
     "start_time": "2024-04-08T16:11:41.106126Z"
    }
   },
   "id": "38a400f14355b49e",
   "execution_count": 12
  },
  {
   "cell_type": "code",
   "outputs": [],
   "source": [
    "def answer_question(question, query_job):\n",
    "    # text generation model\n",
    "    gemini_model = vertexai.preview.generative_models.GenerativeModel(\"gemini-pro\")\n",
    "\n",
    "    # answer question\n",
    "    result = query_job.to_dataframe()\n",
    "    question_prompt = f\"\"\"\n",
    "Please derive insights from: {question}\n",
    "Utilize the statistics from the BigQuery table relevant to this inquiry. Emphasize crucial discoveries and their implications for strategic actions, ensuring to mention specific statistics where possible. Avoid repeating the question or detailing the dataset's context.\n",
    "\n",
    "Use this data:\n",
    "{result.to_markdown(index=False)}\n",
    "    \"\"\"\n",
    "\n",
    "    question_response = gemini_model.generate_content(question_prompt)\n",
    "\n",
    "    return question_response.text"
   ],
   "metadata": {
    "collapsed": false,
    "ExecuteTime": {
     "end_time": "2024-04-08T16:12:10.048560Z",
     "start_time": "2024-04-08T16:12:10.020158Z"
    }
   },
   "id": "242ed5c95d084317",
   "execution_count": 14
  },
  {
   "cell_type": "code",
   "outputs": [
    {
     "name": "stdout",
     "output_type": "stream",
     "text": [
      "Initial Query:\n",
      " \n",
      "SELECT\n",
      "  county_natality.County_of_Residence,\n",
      "  county_natality.Ave_Pre_pregnancy_BMI,\n",
      "  county_natality.Ave_Birth_Weight_gms,\n",
      "  CORR(county_natality.Ave_Pre_pregnancy_BMI, county_natality.Ave_Birth_Weight_gms) AS correlation\n",
      "FROM\n",
      "  bigquery-public-data.sdoh_cdc_wonder_natality.county_natality;\n"
     ]
    },
    {
     "data": {
      "text/plain": "'\\nSELECT\\n  county_natality.County_of_Residence,\\n  county_natality.Ave_Pre_pregnancy_BMI,\\n  county_natality.Ave_Birth_Weight_gms,\\n  CORR(county_natality.Ave_Pre_pregnancy_BMI, county_natality.Ave_Birth_Weight_gms) AS correlation\\nFROM\\n  bigquery-public-data.sdoh_cdc_wonder_natality.county_natality;\\n'"
     },
     "execution_count": 15,
     "metadata": {},
     "output_type": "execute_result"
    }
   ],
   "source": [
    "query = initial_query(question, schema_columns)\n",
    "query"
   ],
   "metadata": {
    "collapsed": false,
    "ExecuteTime": {
     "end_time": "2024-04-08T16:12:59.043282Z",
     "start_time": "2024-04-08T16:12:57.463514Z"
    }
   },
   "id": "8eebb1a0f1a06a6b",
   "execution_count": 15
  },
  {
   "cell_type": "code",
   "outputs": [],
   "source": [
    "def BQ_QA(question, max_fixes=10, schema_columns=schema_columns):\n",
    "    # generate query\n",
    "    query = initial_query(question, schema_columns)\n",
    "\n",
    "    # run query:\n",
    "    query_job = bq.query(query=query)\n",
    "    # if errors, then generate repair query:\n",
    "    if query_job.errors:\n",
    "        print('found errors')\n",
    "        query, query_job, fix_tries, codechat = fix_query(query, max_fixes)\n",
    "\n",
    "    # respond with outcome:\n",
    "    if query_job.errors:\n",
    "        print(f'No answer generated after {fix_tries} tries.')\n",
    "        return codechat\n",
    "    else:\n",
    "        question_response = answer_question(question, query_job)\n",
    "        print(question_response)\n",
    "        try:\n",
    "            return codechat\n",
    "        except:\n",
    "            return None"
   ],
   "metadata": {
    "collapsed": false,
    "ExecuteTime": {
     "end_time": "2024-04-08T16:17:32.685792Z",
     "start_time": "2024-04-08T16:17:32.673047Z"
    }
   },
   "id": "677b68e83ab86f7b",
   "execution_count": 19
  },
  {
   "cell_type": "code",
   "outputs": [
    {
     "name": "stdout",
     "output_type": "stream",
     "text": [
      "Initial Query:\n",
      " \n",
      "SELECT\n",
      "  county_natality.County_of_Residence,\n",
      "  county_natality.Ave_Pre_pregnancy_BMI,\n",
      "  county_natality.Ave_Birth_Weight_gms,\n",
      "  CORR(county_natality.Ave_Pre_pregnancy_BMI, county_natality.Ave_Birth_Weight_gms) AS correlation\n",
      "FROM\n",
      "  bigquery-public-data.sdoh_cdc_wonder_natality.county_natality;\n",
      "found errors\n",
      "Fix #1:\n",
      " SELECT\n",
      "  county_natality.County_of_Residence,\n",
      "  AVG(county_natality.Ave_Pre_pregnancy_BMI) AS average_pre_pregnancy_bmi,\n",
      "  AVG(county_natality.Ave_Birth_Weight_gms) AS average_birth_weight_gms,\n",
      "  CORR(\n",
      "    AVG(county_natality.Ave_Pre_pregnancy_BMI),\n",
      "    AVG(county_natality.Ave_Birth_Weight_gms)\n",
      "  ) AS correlation\n",
      "FROM\n",
      "  bigquery-public-data.sdoh_cdc_wonder_natality.county_natality\n",
      "GROUP BY\n",
      "  county_natality.County_of_Residence;\n",
      "Fix #2:\n",
      " SELECT\n",
      "  county_natality.County_of_Residence,\n",
      "  AVG(county_natality.Ave_Pre_pregnancy_BMI) AS average_pre_pregnancy_bmi,\n",
      "  AVG(county_natality.Ave_Birth_Weight_gms) AS average_birth_weight_gms,\n",
      "  CORR(\n",
      "    county_natality.Ave_Pre_pregnancy_BMI,\n",
      "    county_natality.Ave_Birth_Weight_gms\n",
      "  ) AS correlation\n",
      "FROM\n",
      "  bigquery-public-data.sdoh_cdc_wonder_natality.county_natality\n",
      "GROUP BY\n",
      "  county_natality.County_of_Residence;\n",
      "- Negative correlations were found between pre-pregnancy BMI values and birth weight in Tulsa and Carroll Counties, with correlation coefficients of -0.869888 and -0.999765, respectively.\n",
      "- In Hillsborough County, FL,  a negative correlation of -0.704255 was observed.\n",
      "- In Osceola County, FL, there was a negative correlation between pre-pregnancy BMI and birth weight with a coefficient of -0.978808.\n",
      "- Douglas County, KS, showed a negative correlation with a coefficient of -0.980501.\n",
      "- Cherokee County, GA, had a negative correlation with a coefficient of -0.953436.\n",
      "- Stanislaus County, CA, displayed a negative correlation with a coefficient of -0.98913.\n",
      "- Glynn County, GA, presented a negative correlation with a coefficient of -0.997709.\n",
      "- Warren County, OH, revealed a negative correlation with a coefficient of -0.983698.\n",
      "- Salt Lake County, UT, showed a negative correlation with a coefficient of -0.988598.\n",
      "- In Clark County, WA, a negative correlation was observed with a coefficient of -0.771835.\n",
      "- Randolph County, NC, exhibited a negative correlation with a coefficient of -0.98914.\n",
      "- Ocean County, NJ, demonstrated a positive correlation with a coefficient of 0.940645.\n",
      "- St. Lawrence County, NY, showed a positive correlation with a coefficient of 0.940796.\n",
      "- Allen County, OH, had a positive correlation with a coefficient of 0.979556.\n",
      "- Bibb County, GA, displayed a positive correlation with a coefficient of 0.998904.\n",
      "- Peoria County, IL, presented a negative correlation with a coefficient of -0.990017.\n",
      "- Fulton County, GA, indicated a negative correlation with a coefficient of -0.988704.\n",
      "- Washington County, AR, showed a negative correlation with a coefficient of -0.990439.\n",
      "- Unidentified Counties, KS, revealed a negative correlation with a coefficient of -0.99859.\n",
      "- Coweta County, GA, exhibited a negative correlation with a coefficient of -0.999848.\n",
      "- Jefferson County, CO, showed a negative correlation with a coefficient of -0.990479.\n",
      "- Unidentified Counties, WI, demonstrated a negative correlation with a coefficient of -0.965641.\n",
      "- Clark County, WA, presented a negative correlation with a coefficient of -0.736122.\n",
      "- Allen County, IN, had a positive correlation with a coefficient of 0.0644455.\n",
      "- Dallas County, TX, showed a negative correlation with a coefficient of -0.997817.\n",
      "- Benton County, AR, exhibited a negative correlation with a coefficient of -0.997914.\n",
      "- Minnehaha County, SD, presented a negative correlation with a coefficient of -0.988575.\n",
      "- Hudson County, NJ, had a coefficient of nan.\n",
      "- Okaloosa County, FL, showed a negative correlation with a coefficient of -0.88481.\n",
      "- Comanche County, OK, revealed a positive correlation with a coefficient of 0.999833.\n"
     ]
    },
    {
     "data": {
      "text/plain": "<vertexai.language_models.CodeChatSession at 0x7f8d8194df40>"
     },
     "execution_count": 20,
     "metadata": {},
     "output_type": "execute_result"
    }
   ],
   "source": [
    "BQ_QA(question)"
   ],
   "metadata": {
    "collapsed": false,
    "ExecuteTime": {
     "end_time": "2024-04-08T16:18:18.536194Z",
     "start_time": "2024-04-08T16:17:45.686074Z"
    }
   },
   "id": "944ddffdede01d33",
   "execution_count": 20
  },
  {
   "cell_type": "code",
   "outputs": [],
   "source": [],
   "metadata": {
    "collapsed": false
   },
   "id": "f5ec298974fae7e3"
  }
 ],
 "metadata": {
  "kernelspec": {
   "display_name": "Python 3",
   "language": "python",
   "name": "python3"
  },
  "language_info": {
   "codemirror_mode": {
    "name": "ipython",
    "version": 2
   },
   "file_extension": ".py",
   "mimetype": "text/x-python",
   "name": "python",
   "nbconvert_exporter": "python",
   "pygments_lexer": "ipython2",
   "version": "2.7.6"
  }
 },
 "nbformat": 4,
 "nbformat_minor": 5
}
