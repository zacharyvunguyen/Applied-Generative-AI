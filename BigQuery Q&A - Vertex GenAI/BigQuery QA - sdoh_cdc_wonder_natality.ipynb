{
 "cells": [
  {
   "cell_type": "markdown",
   "source": [
    "# Intelligent Query Crafting with BigQuery Context: Leveraging Vertex GenAI for Enhanced Business Insights on GCP"
   ],
   "metadata": {
    "collapsed": false
   },
   "id": "25111e35f66459fc"
  },
  {
   "cell_type": "code",
   "execution_count": 1,
   "id": "initial_id",
   "metadata": {
    "collapsed": true,
    "ExecuteTime": {
     "end_time": "2024-04-05T17:00:35.197226Z",
     "start_time": "2024-04-05T17:00:35.193436Z"
    }
   },
   "outputs": [],
   "source": [
    "import os\n",
    "GOOGLE_APPLICATION_CREDENTIALS = \"/Users/zacharynguyen/Documents/GitHub/2024/Applied-Generative-AI/IAM/zacharynguyen-genai-656c475b142a.json\"\n",
    "os.environ[\"GOOGLE_APPLICATION_CREDENTIALS\"] = GOOGLE_APPLICATION_CREDENTIALS"
   ]
  },
  {
   "cell_type": "code",
   "outputs": [],
   "source": [
    "PROJECT_ID='zacharynguyen-genai'\n",
    "REGION = 'us-central1'\n",
    "EXPERIMENT = 'sdoh_cdc_wonder_natality'\n",
    "SERIES = 'applied-genai'"
   ],
   "metadata": {
    "collapsed": false,
    "ExecuteTime": {
     "end_time": "2024-04-05T17:00:50.443676Z",
     "start_time": "2024-04-05T17:00:50.430899Z"
    }
   },
   "id": "b310407273ccb3fd",
   "execution_count": 2
  },
  {
   "cell_type": "code",
   "outputs": [],
   "source": [
    "import os\n",
    "os.environ['TF_CPP_MIN_LOG_LEVEL'] = '3'\n",
    "import vertexai.language_models\n",
    "import vertexai.preview.generative_models\n",
    "from google.cloud import bigquery"
   ],
   "metadata": {
    "collapsed": false,
    "ExecuteTime": {
     "end_time": "2024-04-05T17:00:54.192705Z",
     "start_time": "2024-04-05T17:00:51.786134Z"
    }
   },
   "id": "756491164634d472",
   "execution_count": 3
  },
  {
   "cell_type": "code",
   "outputs": [],
   "source": [
    "# vertex ai clients\n",
    "vertexai.init(project = PROJECT_ID, location = REGION)\n",
    "# bigquery client\n",
    "bq = bigquery.Client(project = PROJECT_ID)"
   ],
   "metadata": {
    "collapsed": false,
    "ExecuteTime": {
     "end_time": "2024-04-05T17:00:55.770878Z",
     "start_time": "2024-04-05T17:00:55.751561Z"
    }
   },
   "id": "c0a2bc5d744a6f3f",
   "execution_count": 4
  },
  {
   "cell_type": "markdown",
   "source": [
    "## GOAL"
   ],
   "metadata": {
    "collapsed": false
   },
   "id": "9cb2b8fb5761a2eb"
  },
  {
   "cell_type": "code",
   "outputs": [],
   "source": [
    "question = \"Which county has the highest number of births?\""
   ],
   "metadata": {
    "collapsed": false,
    "ExecuteTime": {
     "end_time": "2024-04-05T17:11:21.072296Z",
     "start_time": "2024-04-05T17:11:21.038083Z"
    }
   },
   "id": "1fe7c9eef0f767e0",
   "execution_count": 19
  },
  {
   "cell_type": "markdown",
   "source": [
    "##  Vertex LLM Setup"
   ],
   "metadata": {
    "collapsed": false
   },
   "id": "95c9cf211c962038"
  },
  {
   "cell_type": "code",
   "outputs": [],
   "source": [
    "# create links to model: embedding api and text generation\n",
    "textgen_model = vertexai.language_models.TextGenerationModel.from_pretrained('text-bison@002')\n",
    "codegen_model = vertexai.language_models.CodeGenerationModel.from_pretrained('code-bison@002')\n",
    "gemini_model = vertexai.preview.generative_models.GenerativeModel(\"gemini-pro\")"
   ],
   "metadata": {
    "collapsed": false,
    "ExecuteTime": {
     "end_time": "2024-04-05T17:11:22.197339Z",
     "start_time": "2024-04-05T17:11:21.640025Z"
    }
   },
   "id": "a94f503147da989f",
   "execution_count": 20
  },
  {
   "cell_type": "code",
   "outputs": [
    {
     "data": {
      "text/plain": " ```sql\nSELECT county, COUNT(*) AS num_births\nFROM births\nGROUP BY county\nORDER BY num_births DESC\nLIMIT 1;\n```"
     },
     "execution_count": 21,
     "metadata": {},
     "output_type": "execute_result"
    }
   ],
   "source": [
    "textgen_model.predict(f\"Write a Google SQL query that answers the following question.\\nquestion: {question}\")"
   ],
   "metadata": {
    "collapsed": false,
    "ExecuteTime": {
     "end_time": "2024-04-05T17:11:22.995763Z",
     "start_time": "2024-04-05T17:11:22.202849Z"
    }
   },
   "id": "adb3bbbdd4576829",
   "execution_count": 21
  },
  {
   "cell_type": "code",
   "outputs": [
    {
     "data": {
      "text/plain": "```sql\nSELECT county, COUNT(*) AS num_births\nFROM births\nGROUP BY county\nORDER BY num_births DESC\nLIMIT 1;\n```"
     },
     "execution_count": 22,
     "metadata": {},
     "output_type": "execute_result"
    }
   ],
   "source": [
    "codegen_model.predict(f\"Write a Google SQL query that answers the following question.\\nquestion: {question}\")"
   ],
   "metadata": {
    "collapsed": false,
    "ExecuteTime": {
     "end_time": "2024-04-05T17:11:23.854257Z",
     "start_time": "2024-04-05T17:11:22.991219Z"
    }
   },
   "id": "dd74f2bf595eb55a",
   "execution_count": 22
  },
  {
   "cell_type": "code",
   "outputs": [
    {
     "name": "stdout",
     "output_type": "stream",
     "text": [
      "```sql\n",
      "SELECT county, COUNT(*) AS num_births\n",
      "FROM births\n",
      "GROUP BY county\n",
      "ORDER BY num_births DESC\n",
      "LIMIT 1;\n",
      "```\n"
     ]
    }
   ],
   "source": [
    "print(gemini_model.generate_content(f\"Write a Google SQL query that answers the following question.\\nquestion: {question}\", generation_config = dict(temperature=0)).text)"
   ],
   "metadata": {
    "collapsed": false,
    "ExecuteTime": {
     "end_time": "2024-04-05T17:11:24.591331Z",
     "start_time": "2024-04-05T17:11:23.798426Z"
    }
   },
   "id": "ef2c3da999075d0",
   "execution_count": 23
  },
  {
   "cell_type": "markdown",
   "source": [
    "### The Challenge\n",
    "\n",
    "While Large Language Models (LLMs) are capable of generating SQL queries, this process encounters notable obstacles:\n",
    "\n",
    "- The queries often fail to target the appropriate tables.\n",
    "- Incorrect column names are frequently used, not matching those in the intended tables.\n",
    "- Essentially, the SQL produced serves more as an initial draft, requiring further refinement by the user to accurately fetch the necessary data in response to their query.\n",
    "\n",
    "### Achieving Executable SQL Queries via LLM\n",
    "\n",
    "To address these issues and generate fully operational SQL queries, a methodical strategy was developed through the repeated optimization of text prompts and methodologies tailored to distinct inquiries."
   ],
   "metadata": {
    "collapsed": false
   },
   "id": "af407c4b897b9872"
  },
  {
   "cell_type": "markdown",
   "source": [
    "### Retrieve Table Schemas"
   ],
   "metadata": {
    "collapsed": false
   },
   "id": "194c3e5e46dd66c7"
  },
  {
   "cell_type": "code",
   "outputs": [],
   "source": [
    "BQ_PROJECT = 'bigquery-public-data'\n",
    "BQ_DATASET = 'sdoh_cdc_wonder_natality'\n",
    "BQ_TABLES = ['county_natality', 'county_natality_by_mother_race', 'county_natality_by_father_race']"
   ],
   "metadata": {
    "collapsed": false,
    "ExecuteTime": {
     "end_time": "2024-04-05T17:11:24.605229Z",
     "start_time": "2024-04-05T17:11:24.595999Z"
    }
   },
   "id": "168316fa07af95e4",
   "execution_count": 24
  },
  {
   "cell_type": "code",
   "outputs": [
    {
     "name": "stdout",
     "output_type": "stream",
     "text": [
      "\n",
      "    SELECT * EXCEPT(field_path, collation_name, rounding_mode)\n",
      "    FROM `bigquery-public-data.sdoh_cdc_wonder_natality.INFORMATION_SCHEMA.COLUMN_FIELD_PATHS`\n",
      "    WHERE table_name in (\"county_natality\",\"county_natality_by_mother_race\",\"county_natality_by_father_race\")\n"
     ]
    }
   ],
   "source": [
    "\n",
    "query = f\"\"\"\n",
    "    SELECT * EXCEPT(field_path, collation_name, rounding_mode)\n",
    "    FROM `{BQ_PROJECT}.{BQ_DATASET}.INFORMATION_SCHEMA.COLUMN_FIELD_PATHS`\n",
    "    WHERE table_name in ({','.join([f'\"{table}\"' for table in BQ_TABLES])})\n",
    "\"\"\"\n",
    "print(query)\n",
    "schema_columns = bq.query(query = query).to_dataframe()"
   ],
   "metadata": {
    "collapsed": false,
    "ExecuteTime": {
     "end_time": "2024-04-05T17:11:25.700236Z",
     "start_time": "2024-04-05T17:11:24.602785Z"
    }
   },
   "id": "42090519797c6694",
   "execution_count": 25
  },
  {
   "cell_type": "code",
   "outputs": [
    {
     "data": {
      "text/plain": "(34, 6)"
     },
     "execution_count": 26,
     "metadata": {},
     "output_type": "execute_result"
    }
   ],
   "source": [
    "schema_columns.shape"
   ],
   "metadata": {
    "collapsed": false,
    "ExecuteTime": {
     "end_time": "2024-04-05T17:11:25.712308Z",
     "start_time": "2024-04-05T17:11:25.703741Z"
    }
   },
   "id": "b886acc4c88ebe9b",
   "execution_count": 26
  },
  {
   "cell_type": "code",
   "outputs": [
    {
     "data": {
      "text/plain": "          table_catalog              table_schema       table_name  \\\n0  bigquery-public-data  sdoh_cdc_wonder_natality  county_natality   \n1  bigquery-public-data  sdoh_cdc_wonder_natality  county_natality   \n2  bigquery-public-data  sdoh_cdc_wonder_natality  county_natality   \n3  bigquery-public-data  sdoh_cdc_wonder_natality  county_natality   \n4  bigquery-public-data  sdoh_cdc_wonder_natality  county_natality   \n\n                column_name data_type                    description  \n0                      Year      DATE                           Year  \n1       County_of_Residence    STRING            County of Residence  \n2  County_of_Residence_FIPS    STRING       County of Residence Code  \n3                    Births     INT64               Number of Births  \n4         Ave_Age_of_Mother   FLOAT64  Average Age of Mother (years)  ",
      "text/html": "<div>\n<style scoped>\n    .dataframe tbody tr th:only-of-type {\n        vertical-align: middle;\n    }\n\n    .dataframe tbody tr th {\n        vertical-align: top;\n    }\n\n    .dataframe thead th {\n        text-align: right;\n    }\n</style>\n<table border=\"1\" class=\"dataframe\">\n  <thead>\n    <tr style=\"text-align: right;\">\n      <th></th>\n      <th>table_catalog</th>\n      <th>table_schema</th>\n      <th>table_name</th>\n      <th>column_name</th>\n      <th>data_type</th>\n      <th>description</th>\n    </tr>\n  </thead>\n  <tbody>\n    <tr>\n      <th>0</th>\n      <td>bigquery-public-data</td>\n      <td>sdoh_cdc_wonder_natality</td>\n      <td>county_natality</td>\n      <td>Year</td>\n      <td>DATE</td>\n      <td>Year</td>\n    </tr>\n    <tr>\n      <th>1</th>\n      <td>bigquery-public-data</td>\n      <td>sdoh_cdc_wonder_natality</td>\n      <td>county_natality</td>\n      <td>County_of_Residence</td>\n      <td>STRING</td>\n      <td>County of Residence</td>\n    </tr>\n    <tr>\n      <th>2</th>\n      <td>bigquery-public-data</td>\n      <td>sdoh_cdc_wonder_natality</td>\n      <td>county_natality</td>\n      <td>County_of_Residence_FIPS</td>\n      <td>STRING</td>\n      <td>County of Residence Code</td>\n    </tr>\n    <tr>\n      <th>3</th>\n      <td>bigquery-public-data</td>\n      <td>sdoh_cdc_wonder_natality</td>\n      <td>county_natality</td>\n      <td>Births</td>\n      <td>INT64</td>\n      <td>Number of Births</td>\n    </tr>\n    <tr>\n      <th>4</th>\n      <td>bigquery-public-data</td>\n      <td>sdoh_cdc_wonder_natality</td>\n      <td>county_natality</td>\n      <td>Ave_Age_of_Mother</td>\n      <td>FLOAT64</td>\n      <td>Average Age of Mother (years)</td>\n    </tr>\n  </tbody>\n</table>\n</div>"
     },
     "execution_count": 27,
     "metadata": {},
     "output_type": "execute_result"
    }
   ],
   "source": [
    "schema_columns.head()"
   ],
   "metadata": {
    "collapsed": false,
    "ExecuteTime": {
     "end_time": "2024-04-05T17:11:25.996974Z",
     "start_time": "2024-04-05T17:11:25.974395Z"
    }
   },
   "id": "61db4f735b8718",
   "execution_count": 27
  },
  {
   "cell_type": "code",
   "outputs": [
    {
     "data": {
      "text/plain": "<bound method DataFrame.to_markdown of            table_catalog              table_schema  \\\n0   bigquery-public-data  sdoh_cdc_wonder_natality   \n1   bigquery-public-data  sdoh_cdc_wonder_natality   \n2   bigquery-public-data  sdoh_cdc_wonder_natality   \n3   bigquery-public-data  sdoh_cdc_wonder_natality   \n4   bigquery-public-data  sdoh_cdc_wonder_natality   \n5   bigquery-public-data  sdoh_cdc_wonder_natality   \n6   bigquery-public-data  sdoh_cdc_wonder_natality   \n7   bigquery-public-data  sdoh_cdc_wonder_natality   \n8   bigquery-public-data  sdoh_cdc_wonder_natality   \n9   bigquery-public-data  sdoh_cdc_wonder_natality   \n10  bigquery-public-data  sdoh_cdc_wonder_natality   \n11  bigquery-public-data  sdoh_cdc_wonder_natality   \n12  bigquery-public-data  sdoh_cdc_wonder_natality   \n13  bigquery-public-data  sdoh_cdc_wonder_natality   \n14  bigquery-public-data  sdoh_cdc_wonder_natality   \n15  bigquery-public-data  sdoh_cdc_wonder_natality   \n16  bigquery-public-data  sdoh_cdc_wonder_natality   \n17  bigquery-public-data  sdoh_cdc_wonder_natality   \n18  bigquery-public-data  sdoh_cdc_wonder_natality   \n19  bigquery-public-data  sdoh_cdc_wonder_natality   \n20  bigquery-public-data  sdoh_cdc_wonder_natality   \n21  bigquery-public-data  sdoh_cdc_wonder_natality   \n22  bigquery-public-data  sdoh_cdc_wonder_natality   \n23  bigquery-public-data  sdoh_cdc_wonder_natality   \n24  bigquery-public-data  sdoh_cdc_wonder_natality   \n25  bigquery-public-data  sdoh_cdc_wonder_natality   \n26  bigquery-public-data  sdoh_cdc_wonder_natality   \n27  bigquery-public-data  sdoh_cdc_wonder_natality   \n28  bigquery-public-data  sdoh_cdc_wonder_natality   \n29  bigquery-public-data  sdoh_cdc_wonder_natality   \n30  bigquery-public-data  sdoh_cdc_wonder_natality   \n31  bigquery-public-data  sdoh_cdc_wonder_natality   \n32  bigquery-public-data  sdoh_cdc_wonder_natality   \n33  bigquery-public-data  sdoh_cdc_wonder_natality   \n\n                        table_name                  column_name data_type  \\\n0                  county_natality                         Year      DATE   \n1                  county_natality          County_of_Residence    STRING   \n2                  county_natality     County_of_Residence_FIPS    STRING   \n3                  county_natality                       Births     INT64   \n4                  county_natality            Ave_Age_of_Mother   FLOAT64   \n5                  county_natality   Ave_OE_Gestational_Age_Wks   FLOAT64   \n6                  county_natality  Ave_LMP_Gestational_Age_Wks   FLOAT64   \n7                  county_natality         Ave_Birth_Weight_gms   FLOAT64   \n8                  county_natality        Ave_Pre_pregnancy_BMI   FLOAT64   \n9                  county_natality   Ave_Number_of_Prenatal_Wks   FLOAT64   \n10  county_natality_by_father_race                         Year      DATE   \n11  county_natality_by_father_race          County_of_Residence    STRING   \n12  county_natality_by_father_race     County_of_Residence_FIPS    STRING   \n13  county_natality_by_father_race          Fathers_Single_Race    STRING   \n14  county_natality_by_father_race     Fathers_Single_Race_Code    STRING   \n15  county_natality_by_father_race                       Births     INT64   \n16  county_natality_by_father_race            Ave_Age_of_Mother   FLOAT64   \n17  county_natality_by_father_race   Ave_OE_Gestational_Age_Wks   FLOAT64   \n18  county_natality_by_father_race  Ave_LMP_Gestational_Age_Wks   FLOAT64   \n19  county_natality_by_father_race         Ave_Birth_Weight_gms   FLOAT64   \n20  county_natality_by_father_race        Ave_Pre_pregnancy_BMI   FLOAT64   \n21  county_natality_by_father_race   Ave_Number_of_Prenatal_Wks   FLOAT64   \n22  county_natality_by_mother_race                         Year      DATE   \n23  county_natality_by_mother_race          County_of_Residence    STRING   \n24  county_natality_by_mother_race     County_of_Residence_FIPS    STRING   \n25  county_natality_by_mother_race          Mothers_Single_Race    STRING   \n26  county_natality_by_mother_race     Mothers_Single_Race_Code    STRING   \n27  county_natality_by_mother_race                       Births     INT64   \n28  county_natality_by_mother_race            Ave_Age_of_Mother   FLOAT64   \n29  county_natality_by_mother_race   Ave_OE_Gestational_Age_Wks   FLOAT64   \n30  county_natality_by_mother_race  Ave_LMP_Gestational_Age_Wks   FLOAT64   \n31  county_natality_by_mother_race         Ave_Birth_Weight_gms   FLOAT64   \n32  county_natality_by_mother_race        Ave_Pre_pregnancy_BMI   FLOAT64   \n33  county_natality_by_mother_race   Ave_Number_of_Prenatal_Wks   FLOAT64   \n\n                            description  \n0                                  Year  \n1                   County of Residence  \n2              County of Residence Code  \n3                      Number of Births  \n4         Average Age of Mother (years)  \n5    Average OE Gestational Age (weeks)  \n6   Average LMP Gestational Age (weeks)  \n7          Average Birth Weight (grams)  \n8             Average Pre-pregnancy BMI  \n9     Average Number of Prenatal Visits  \n10                                 Year  \n11                  County of Residence  \n12             County of Residence Code  \n13               Father's Single Race 6  \n14          Father's Single Race 6 Code  \n15                     Number of Births  \n16        Average Age of Mother (years)  \n17   Average OE Gestational Age (weeks)  \n18  Average LMP Gestational Age (weeks)  \n19         Average Birth Weight (grams)  \n20            Average Pre-pregnancy BMI  \n21    Average Number of Prenatal Visits  \n22                                 Year  \n23                  County of Residence  \n24             County of Residence Code  \n25               Mother's Single Race 6  \n26          Mother's Single Race 6 Code  \n27                     Number of Births  \n28        Average Age of Mother (years)  \n29   Average OE Gestational Age (weeks)  \n30  Average LMP Gestational Age (weeks)  \n31         Average Birth Weight (grams)  \n32            Average Pre-pregnancy BMI  \n33    Average Number of Prenatal Visits  >"
     },
     "execution_count": 28,
     "metadata": {},
     "output_type": "execute_result"
    }
   ],
   "source": [
    "schema_columns.to_markdown"
   ],
   "metadata": {
    "collapsed": false,
    "ExecuteTime": {
     "end_time": "2024-04-05T17:11:26.801624Z",
     "start_time": "2024-04-05T17:11:26.773372Z"
    }
   },
   "id": "ae1799ae642d2f13",
   "execution_count": 28
  },
  {
   "cell_type": "markdown",
   "source": [
    "### Code Generation LLM - With Context"
   ],
   "metadata": {
    "collapsed": false
   },
   "id": "c70e0eb306b995a0"
  },
  {
   "cell_type": "code",
   "outputs": [
    {
     "name": "stdout",
     "output_type": "stream",
     "text": [
      "Which county has the highest number of births?\n"
     ]
    }
   ],
   "source": [
    "print(question)"
   ],
   "metadata": {
    "collapsed": false,
    "ExecuteTime": {
     "end_time": "2024-04-05T17:11:27.988300Z",
     "start_time": "2024-04-05T17:11:27.944198Z"
    }
   },
   "id": "a78afd401fea61d2",
   "execution_count": 29
  },
  {
   "cell_type": "code",
   "outputs": [
    {
     "name": "stdout",
     "output_type": "stream",
     "text": [
      "```sql\n",
      "SELECT\n",
      "  `bigquery-public-data.sdoh_cdc_wonder_natality.county_natality`.County_of_Residence,\n",
      "  `bigquery-public-data.sdoh_cdc_wonder_natality.county_natality`.Births\n",
      "FROM\n",
      "  `bigquery-public-data.sdoh_cdc_wonder_natality.county_natality`\n",
      "ORDER BY\n",
      "  `bigquery-public-data.sdoh_cdc_wonder_natality.county_natality`.Births DESC\n",
      "LIMIT 1;\n",
      "```\n"
     ]
    }
   ],
   "source": [
    "context_prompt = f\"\"\"\n",
    "context (BigQuery Table Schema):\n",
    "{schema_columns.to_markdown(index = False)}\n",
    "\n",
    "Write a query for Google BigQuery using fully qualified table names to answer this question:\n",
    "{question}\n",
    "\"\"\"\n",
    "\n",
    "#context_query = textgen_model.predict(f\"Write a Google SQL query that answers the following question.\\nquestion: {question}\")\n",
    "#context_query = codegen_model.predict(context_prompt, max_output_tokens = 500)\n",
    "context_query = gemini_model.generate_content(context_prompt, generation_config = dict(temperature = 0))\n",
    "\n",
    "print(context_query.text)"
   ],
   "metadata": {
    "collapsed": false,
    "ExecuteTime": {
     "end_time": "2024-04-05T17:11:29.955925Z",
     "start_time": "2024-04-05T17:11:28.543110Z"
    }
   },
   "id": "5e36cfc64cf106e",
   "execution_count": 30
  },
  {
   "cell_type": "code",
   "outputs": [
    {
     "name": "stdout",
     "output_type": "stream",
     "text": [
      "SELECT\n",
      "  `bigquery-public-data.sdoh_cdc_wonder_natality.county_natality`.County_of_Residence,\n",
      "  `bigquery-public-data.sdoh_cdc_wonder_natality.county_natality`.Births\n",
      "FROM\n",
      "  `bigquery-public-data.sdoh_cdc_wonder_natality.county_natality`\n",
      "ORDER BY\n",
      "  `bigquery-public-data.sdoh_cdc_wonder_natality.county_natality`.Births DESC\n",
      "LIMIT 1;\n"
     ]
    }
   ],
   "source": [
    "context_query = query = '\\n'.join(context_query.text.split('\\n')[1:-1])\n",
    "print(context_query)"
   ],
   "metadata": {
    "collapsed": false,
    "ExecuteTime": {
     "end_time": "2024-04-05T17:11:29.958939Z",
     "start_time": "2024-04-05T17:11:29.951882Z"
    }
   },
   "id": "1971ec2792d530c4",
   "execution_count": 31
  },
  {
   "cell_type": "code",
   "outputs": [],
   "source": [
    "dry_run = bq.query(context_query, job_config = bigquery.QueryJobConfig(dry_run = True, use_query_cache = False))"
   ],
   "metadata": {
    "collapsed": false,
    "ExecuteTime": {
     "end_time": "2024-04-05T17:11:32.064911Z",
     "start_time": "2024-04-05T17:11:31.669168Z"
    }
   },
   "id": "9c49498aa34337d6",
   "execution_count": 32
  },
  {
   "cell_type": "code",
   "outputs": [],
   "source": [
    "dry_run.errors"
   ],
   "metadata": {
    "collapsed": false,
    "ExecuteTime": {
     "end_time": "2024-04-05T17:11:32.305604Z",
     "start_time": "2024-04-05T17:11:32.296995Z"
    }
   },
   "id": "60cb48ff86968d10",
   "execution_count": 33
  },
  {
   "cell_type": "code",
   "outputs": [
    {
     "data": {
      "text/plain": "54174"
     },
     "execution_count": 34,
     "metadata": {},
     "output_type": "execute_result"
    }
   ],
   "source": [
    "dry_run.total_bytes_processed"
   ],
   "metadata": {
    "collapsed": false,
    "ExecuteTime": {
     "end_time": "2024-04-05T17:11:32.991981Z",
     "start_time": "2024-04-05T17:11:32.970495Z"
    }
   },
   "id": "f81ca357f29fc2d6",
   "execution_count": 34
  },
  {
   "cell_type": "code",
   "outputs": [
    {
     "data": {
      "text/plain": "      County_of_Residence  Births\n0  Los Angeles County, CA  123092",
      "text/html": "<div>\n<style scoped>\n    .dataframe tbody tr th:only-of-type {\n        vertical-align: middle;\n    }\n\n    .dataframe tbody tr th {\n        vertical-align: top;\n    }\n\n    .dataframe thead th {\n        text-align: right;\n    }\n</style>\n<table border=\"1\" class=\"dataframe\">\n  <thead>\n    <tr style=\"text-align: right;\">\n      <th></th>\n      <th>County_of_Residence</th>\n      <th>Births</th>\n    </tr>\n  </thead>\n  <tbody>\n    <tr>\n      <th>0</th>\n      <td>Los Angeles County, CA</td>\n      <td>123092</td>\n    </tr>\n  </tbody>\n</table>\n</div>"
     },
     "execution_count": 35,
     "metadata": {},
     "output_type": "execute_result"
    }
   ],
   "source": [
    "context_response = bq.query(context_query).to_dataframe()\n",
    "context_response"
   ],
   "metadata": {
    "collapsed": false,
    "ExecuteTime": {
     "end_time": "2024-04-05T17:11:37.145578Z",
     "start_time": "2024-04-05T17:11:36.263663Z"
    }
   },
   "id": "6cd3922d0071e8a5",
   "execution_count": 35
  },
  {
   "cell_type": "markdown",
   "source": [
    "### Answer The Question\n",
    "Now that a valid context has been retrieved from BigQuery it can be passed to a text generation LLM to answer the user questions."
   ],
   "metadata": {
    "collapsed": false
   },
   "id": "af10f05eadb35e0a"
  },
  {
   "cell_type": "code",
   "outputs": [
    {
     "name": "stdout",
     "output_type": "stream",
     "text": [
      " Los Angeles County, CA\n"
     ]
    }
   ],
   "source": [
    "question_prompt = f\"\"\"\n",
    "context (result from BigQuery query):\n",
    "{context_response.to_markdown(index = False)}\n",
    "\n",
    "Answer the following question using the provided context.  Note that the context is a tabular result returned from a BigQuery query.  Do not repeat the question or the context when responding.\n",
    "{question}\n",
    "\"\"\"\n",
    "\n",
    "question_response = textgen_model.predict(question_prompt)\n",
    "\n",
    "print(question_response.text)"
   ],
   "metadata": {
    "collapsed": false,
    "ExecuteTime": {
     "end_time": "2024-04-05T17:16:16.460619Z",
     "start_time": "2024-04-05T17:16:15.572999Z"
    }
   },
   "id": "51bd578b15c072c",
   "execution_count": 37
  },
  {
   "cell_type": "markdown",
   "source": [
    "### Put It All Together\n",
    "Ask a new question and try it out:"
   ],
   "metadata": {
    "collapsed": false
   },
   "id": "2d454b7bd45d0e7f"
  },
  {
   "cell_type": "code",
   "outputs": [],
   "source": [
    "question = 'Which county has the highest number of births??'"
   ],
   "metadata": {
    "collapsed": false,
    "ExecuteTime": {
     "end_time": "2024-04-05T17:24:36.714846Z",
     "start_time": "2024-04-05T17:24:36.694977Z"
    }
   },
   "id": "eac4655337f664f3",
   "execution_count": 46
  },
  {
   "cell_type": "code",
   "outputs": [],
   "source": [
    "context_prompt = f\"\"\"\n",
    "context (BigQuery Table Schema):\n",
    "{schema_columns.to_markdown(index = False)}\n",
    "\n",
    "Write a query for Google BigQuery using fully qualified table names to answer this question:\n",
    "{question}\n",
    "\"\"\""
   ],
   "metadata": {
    "collapsed": false,
    "ExecuteTime": {
     "end_time": "2024-04-05T17:24:41.938252Z",
     "start_time": "2024-04-05T17:24:41.853120Z"
    }
   },
   "id": "f03349e5f3c97946",
   "execution_count": 47
  },
  {
   "cell_type": "code",
   "outputs": [
    {
     "data": {
      "text/plain": "candidates {\n  content {\n    role: \"model\"\n    parts {\n      text: \"```sql\\nSELECT\\n  `bigquery-public-data.sdoh_cdc_wonder_natality.county_natality`.County_of_Residence,\\n  SUM(`bigquery-public-data.sdoh_cdc_wonder_natality.county_natality`.Births) AS Total_Births\\nFROM\\n  `bigquery-public-data.sdoh_cdc_wonder_natality.county_natality`\\nGROUP BY\\n  `bigquery-public-data.sdoh_cdc_wonder_natality.county_natality`.County_of_Residence\\nORDER BY\\n  Total_Births DESC\\nLIMIT 1;\\n```\"\n    }\n  }\n  finish_reason: STOP\n  safety_ratings {\n    category: HARM_CATEGORY_HATE_SPEECH\n    probability: NEGLIGIBLE\n    probability_score: 0.351867646\n    severity: HARM_SEVERITY_NEGLIGIBLE\n    severity_score: 0.140336245\n  }\n  safety_ratings {\n    category: HARM_CATEGORY_DANGEROUS_CONTENT\n    probability: NEGLIGIBLE\n    probability_score: 0.294925213\n    severity: HARM_SEVERITY_LOW\n    severity_score: 0.213213295\n  }\n  safety_ratings {\n    category: HARM_CATEGORY_HARASSMENT\n    probability: NEGLIGIBLE\n    probability_score: 0.332743883\n    severity: HARM_SEVERITY_LOW\n    severity_score: 0.222193405\n  }\n  safety_ratings {\n    category: HARM_CATEGORY_SEXUALLY_EXPLICIT\n    probability: NEGLIGIBLE\n    probability_score: 0.331877172\n    severity: HARM_SEVERITY_NEGLIGIBLE\n    severity_score: 0.103930376\n  }\n}\nusage_metadata {\n  prompt_token_count: 1756\n  candidates_token_count: 146\n  total_token_count: 1902\n}"
     },
     "execution_count": 48,
     "metadata": {},
     "output_type": "execute_result"
    }
   ],
   "source": [
    "#context_query = textgen_model.predict(f\"Write a Google SQL query that answers the following question.\\nquestion: {question}\")\n",
    "#context_query = codegen_model.predict(context_prompt, max_output_tokens = 500)\n",
    "context_query = gemini_model.generate_content(context_prompt, generation_config = dict(temperature = 0))\n",
    "context_query"
   ],
   "metadata": {
    "collapsed": false,
    "ExecuteTime": {
     "end_time": "2024-04-05T17:24:44.870879Z",
     "start_time": "2024-04-05T17:24:43.516832Z"
    }
   },
   "id": "d2a131e310d7f7e4",
   "execution_count": 48
  },
  {
   "cell_type": "code",
   "outputs": [],
   "source": [
    "context_response = bq.query(query = '\\n'.join(context_query.text.split('\\n')[1:-1])).to_dataframe()"
   ],
   "metadata": {
    "collapsed": false,
    "ExecuteTime": {
     "end_time": "2024-04-05T17:24:47.358622Z",
     "start_time": "2024-04-05T17:24:46.405079Z"
    }
   },
   "id": "b3c28a41cc314852",
   "execution_count": 49
  },
  {
   "cell_type": "code",
   "outputs": [
    {
     "name": "stdout",
     "output_type": "stream",
     "text": [
      "| County_of_Residence    |   Total_Births |\n",
      "|:-----------------------|---------------:|\n",
      "| Los Angeles County, CA |         350313 |\n"
     ]
    }
   ],
   "source": [
    "print(context_response.to_markdown(index = False))"
   ],
   "metadata": {
    "collapsed": false,
    "ExecuteTime": {
     "end_time": "2024-04-05T17:24:48.682043Z",
     "start_time": "2024-04-05T17:24:48.659241Z"
    }
   },
   "id": "f618cbe98a3b3a73",
   "execution_count": 50
  },
  {
   "cell_type": "code",
   "outputs": [
    {
     "name": "stdout",
     "output_type": "stream",
     "text": [
      " Los Angeles County, CA\n"
     ]
    }
   ],
   "source": [
    "question_prompt = f\"\"\"\n",
    "context (result from BigQuery query):\n",
    "{context_response.to_markdown(index = False)}\n",
    "\n",
    "Answer the following question.  Note that the context is a tabular result returned from a BigQuery query.  Do not repeat the question or the context when responding.\n",
    "{question}\n",
    "\"\"\"\n",
    "\n",
    "question_response = textgen_model.predict(question_prompt)\n",
    "\n",
    "print(question_response.text)"
   ],
   "metadata": {
    "collapsed": false,
    "ExecuteTime": {
     "end_time": "2024-04-05T17:24:59.718220Z",
     "start_time": "2024-04-05T17:24:59.150410Z"
    }
   },
   "id": "6f0231cdbd1a909e",
   "execution_count": 51
  },
  {
   "cell_type": "markdown",
   "source": [
    "### More Complex"
   ],
   "metadata": {
    "collapsed": false
   },
   "id": "5de7a29a47348d92"
  },
  {
   "cell_type": "code",
   "outputs": [],
   "source": [
    "question = 'What is the average age of mothers giving birth?'"
   ],
   "metadata": {
    "collapsed": false,
    "ExecuteTime": {
     "end_time": "2024-04-05T17:25:25.344131Z",
     "start_time": "2024-04-05T17:25:25.324853Z"
    }
   },
   "id": "8e08e847480a22fa",
   "execution_count": 52
  },
  {
   "cell_type": "code",
   "outputs": [],
   "source": [
    "context_prompt = f\"\"\"\n",
    "context (BigQuery Table Schema):\n",
    "{schema_columns.to_markdown(index = False)}\n",
    "\n",
    "Write a query for Google BigQuery using fully qualified table names to answer this question:\n",
    "{question}\n",
    "\"\"\"\n",
    "\n",
    "#context_query = textgen_model.predict(f\"Write a Google SQL query that answers the following question.\\nquestion: {question}\")\n",
    "#context_query = codegen_model.predict(context_prompt, max_output_tokens = 500, temperature = 0.9)\n",
    "context_query = gemini_model.generate_content(context_prompt, generation_config = dict(temperature = 0))\n",
    "\n",
    "context_query = '\\n'.join(context_query.text.split('\\n')[1:-1])\n",
    "context_response = bq.query(query = context_query).to_dataframe()"
   ],
   "metadata": {
    "collapsed": false,
    "ExecuteTime": {
     "end_time": "2024-04-05T17:25:28.213231Z",
     "start_time": "2024-04-05T17:25:26.015042Z"
    }
   },
   "id": "bb2993a4c2807f66",
   "execution_count": 53
  },
  {
   "cell_type": "code",
   "outputs": [
    {
     "name": "stdout",
     "output_type": "stream",
     "text": [
      "SELECT\n",
      "  AVG(Ave_Age_of_Mother) AS average_age_of_mothers\n",
      "FROM\n",
      "  `bigquery-public-data.sdoh_cdc_wonder_natality.county_natality`;\n"
     ]
    }
   ],
   "source": [
    "\n",
    "print(context_query)"
   ],
   "metadata": {
    "collapsed": false,
    "ExecuteTime": {
     "end_time": "2024-04-05T17:25:28.958283Z",
     "start_time": "2024-04-05T17:25:28.943929Z"
    }
   },
   "id": "6e491563c28196fb",
   "execution_count": 54
  },
  {
   "cell_type": "code",
   "outputs": [
    {
     "data": {
      "text/plain": "   average_age_of_mothers\n0               28.695543",
      "text/html": "<div>\n<style scoped>\n    .dataframe tbody tr th:only-of-type {\n        vertical-align: middle;\n    }\n\n    .dataframe tbody tr th {\n        vertical-align: top;\n    }\n\n    .dataframe thead th {\n        text-align: right;\n    }\n</style>\n<table border=\"1\" class=\"dataframe\">\n  <thead>\n    <tr style=\"text-align: right;\">\n      <th></th>\n      <th>average_age_of_mothers</th>\n    </tr>\n  </thead>\n  <tbody>\n    <tr>\n      <th>0</th>\n      <td>28.695543</td>\n    </tr>\n  </tbody>\n</table>\n</div>"
     },
     "execution_count": 55,
     "metadata": {},
     "output_type": "execute_result"
    }
   ],
   "source": [
    "context_response"
   ],
   "metadata": {
    "collapsed": false,
    "ExecuteTime": {
     "end_time": "2024-04-05T17:25:30.753667Z",
     "start_time": "2024-04-05T17:25:30.707446Z"
    }
   },
   "id": "21dc61a5fa3b1c0",
   "execution_count": 55
  },
  {
   "cell_type": "code",
   "outputs": [
    {
     "name": "stdout",
     "output_type": "stream",
     "text": [
      "28.6955\n"
     ]
    }
   ],
   "source": [
    "question_prompt = f\"\"\"\n",
    "Answer the following question.  Note that the context above is a tabular result returned from a BigQuery query specific to this question.  Do not repeat the question or the context when responding.\n",
    "{question}\n",
    "\n",
    "Use this data:\n",
    "{context_response.to_markdown(index = False)}\n",
    "\"\"\"\n",
    "\n",
    "question_response = gemini_model.generate_content(question_prompt)\n",
    "\n",
    "print(question_response.text)"
   ],
   "metadata": {
    "collapsed": false,
    "ExecuteTime": {
     "end_time": "2024-04-05T17:25:42.247844Z",
     "start_time": "2024-04-05T17:25:41.790893Z"
    }
   },
   "id": "7df7ec952d3f17e3",
   "execution_count": 56
  },
  {
   "cell_type": "markdown",
   "source": [
    "### All Together and More Complex"
   ],
   "metadata": {
    "collapsed": false
   },
   "id": "997356c2e55a31db"
  },
  {
   "cell_type": "code",
   "outputs": [],
   "source": [
    "question = 'What is the average age of mothers giving birth?'"
   ],
   "metadata": {
    "collapsed": false,
    "ExecuteTime": {
     "end_time": "2024-04-05T17:38:36.950266Z",
     "start_time": "2024-04-05T17:38:36.941823Z"
    }
   },
   "id": "e731f43bfffbe06d",
   "execution_count": 66
  },
  {
   "cell_type": "code",
   "outputs": [
    {
     "data": {
      "text/plain": "'SELECT\\n  AVG(Ave_Age_of_Mother) AS average_age_of_mothers\\nFROM\\n  `bigquery-public-data.sdoh_cdc_wonder_natality.county_natality`;'"
     },
     "execution_count": 67,
     "metadata": {},
     "output_type": "execute_result"
    }
   ],
   "source": [
    "context_prompt = f\"\"\"\n",
    "context (BigQuery Table Schema):\n",
    "{schema_columns.to_markdown(index = False)}\n",
    "Note: The 'year' column adheres to the 'YYYY-MM-DD' format. Exercise caution when extracting the year, month, and day components.\n",
    "Craft a SQL query for Google BigQuery, ensuring the use of fully qualified table names to address the following inquiry:\n",
    "{question}\n",
    "\"\"\"\n",
    "\n",
    "context_query = gemini_model.generate_content(context_prompt, generation_config = dict(temperature = 0))\n",
    "\n",
    "context_query = '\\n'.join(context_query.text.split('\\n')[1:-1])\n",
    "context_query\n",
    "#context_response = bq.query(query = context_query).to_dataframe()"
   ],
   "metadata": {
    "collapsed": false,
    "ExecuteTime": {
     "end_time": "2024-04-05T17:38:38.238526Z",
     "start_time": "2024-04-05T17:38:37.434232Z"
    }
   },
   "id": "f014fc322d4ed43e",
   "execution_count": 67
  },
  {
   "cell_type": "code",
   "outputs": [
    {
     "data": {
      "text/plain": "   average_age_of_mothers\n0               28.695543",
      "text/html": "<div>\n<style scoped>\n    .dataframe tbody tr th:only-of-type {\n        vertical-align: middle;\n    }\n\n    .dataframe tbody tr th {\n        vertical-align: top;\n    }\n\n    .dataframe thead th {\n        text-align: right;\n    }\n</style>\n<table border=\"1\" class=\"dataframe\">\n  <thead>\n    <tr style=\"text-align: right;\">\n      <th></th>\n      <th>average_age_of_mothers</th>\n    </tr>\n  </thead>\n  <tbody>\n    <tr>\n      <th>0</th>\n      <td>28.695543</td>\n    </tr>\n  </tbody>\n</table>\n</div>"
     },
     "execution_count": 68,
     "metadata": {},
     "output_type": "execute_result"
    }
   ],
   "source": [
    "context_response"
   ],
   "metadata": {
    "collapsed": false,
    "ExecuteTime": {
     "end_time": "2024-04-05T17:38:45.029354Z",
     "start_time": "2024-04-05T17:38:45.009666Z"
    }
   },
   "id": "e7609c51676a091",
   "execution_count": 68
  },
  {
   "cell_type": "code",
   "outputs": [
    {
     "name": "stdout",
     "output_type": "stream",
     "text": [
      "28.69\n"
     ]
    }
   ],
   "source": [
    "question_prompt = f\"\"\"\n",
    "Answer the following question.  Note that the context above is a tabular result returned from a BigQuery query specific to this question.  Do not repeat the question or the context when responding.\n",
    "{question}\n",
    "\n",
    "Use this data:\n",
    "{context_response.to_markdown(index = False)}\n",
    "\"\"\"\n",
    "\n",
    "question_response = gemini_model.generate_content(question_prompt)\n",
    "\n",
    "print(question_response.text)"
   ],
   "metadata": {
    "collapsed": false,
    "ExecuteTime": {
     "end_time": "2024-04-05T17:39:13.816667Z",
     "start_time": "2024-04-05T17:39:13.328299Z"
    }
   },
   "id": "826b1c0087bfe6d3",
   "execution_count": 69
  },
  {
   "cell_type": "markdown",
   "source": [
    "### Detect Error"
   ],
   "metadata": {
    "collapsed": false
   },
   "id": "5df62405cbacff4d"
  },
  {
   "cell_type": "code",
   "outputs": [],
   "source": [
    "question = 'What is the average age of mothers giving birth in the year of 2018?'"
   ],
   "metadata": {
    "collapsed": false,
    "ExecuteTime": {
     "end_time": "2024-04-05T17:41:00.997843Z",
     "start_time": "2024-04-05T17:41:00.971042Z"
    }
   },
   "id": "c434cc28b35f43be",
   "execution_count": 70
  },
  {
   "cell_type": "code",
   "outputs": [],
   "source": [
    "context_prompt = f\"\"\"\n",
    "context (BigQuery Table Schema):\n",
    "{schema_columns.to_markdown(index = False)}\n",
    "\n",
    "Write a query for Google BigQuery using fully qualified table names to answer this question:\n",
    "{question}\n",
    "\"\"\"\n",
    "\n",
    "context_query = codegen_model.predict(context_prompt, max_output_tokens = 256)"
   ],
   "metadata": {
    "collapsed": false,
    "ExecuteTime": {
     "end_time": "2024-04-05T17:41:21.668223Z",
     "start_time": "2024-04-05T17:41:20.486847Z"
    }
   },
   "id": "43fe953c891ec731",
   "execution_count": 71
  },
  {
   "cell_type": "code",
   "outputs": [
    {
     "data": {
      "text/plain": "```sql\nSELECT\n  AVG(county_natality.Ave_Age_of_Mother) AS average_age_of_mothers\nFROM\n  `bigquery-public-data.sdoh_cdc_wonder_natality.county_natality`\nWHERE\n  county_natality.Year = '2018';\n```"
     },
     "execution_count": 72,
     "metadata": {},
     "output_type": "execute_result"
    }
   ],
   "source": [
    "context_query"
   ],
   "metadata": {
    "collapsed": false,
    "ExecuteTime": {
     "end_time": "2024-04-05T17:41:29.320019Z",
     "start_time": "2024-04-05T17:41:29.299676Z"
    }
   },
   "id": "250e648265679e5d",
   "execution_count": 72
  },
  {
   "cell_type": "code",
   "outputs": [
    {
     "name": "stdout",
     "output_type": "stream",
     "text": [
      "SELECT\n",
      "  AVG(county_natality.Ave_Age_of_Mother) AS average_age_of_mothers\n",
      "FROM\n",
      "  `bigquery-public-data.sdoh_cdc_wonder_natality.county_natality`\n",
      "WHERE\n",
      "  county_natality.Year = '2018';\n"
     ]
    }
   ],
   "source": [
    "context_query = '\\n'.join(context_query.text.split('\\n')[1:-1])\n",
    "print(context_query)"
   ],
   "metadata": {
    "collapsed": false,
    "ExecuteTime": {
     "end_time": "2024-04-05T17:41:42.428055Z",
     "start_time": "2024-04-05T17:41:42.400320Z"
    }
   },
   "id": "f17b4ba52102b364",
   "execution_count": 73
  },
  {
   "cell_type": "code",
   "outputs": [
    {
     "name": "stdout",
     "output_type": "stream",
     "text": [
      "BadRequest was raised: 400 POST https://bigquery.googleapis.com/bigquery/v2/projects/zacharynguyen-genai/jobs?prettyPrint=false: Unrecognized name: county_natality at [6:3]\n",
      "\n",
      "Location: None\n",
      "Job ID: 3c676027-4799-4911-a523-6a426ec68079\n"
     ]
    }
   ],
   "source": [
    "try:\n",
    "    bq.query(context_query, job_config = bigquery.QueryJobConfig(dry_run = True, use_query_cache = False))\n",
    "except Exception as err:\n",
    "    errors = f\"{type(err).__name__} was raised: {err}\"\n",
    "    print(errors)"
   ],
   "metadata": {
    "collapsed": false,
    "ExecuteTime": {
     "end_time": "2024-04-05T17:41:51.928559Z",
     "start_time": "2024-04-05T17:41:51.343692Z"
    }
   },
   "id": "82195d0655fee968",
   "execution_count": 74
  },
  {
   "cell_type": "code",
   "outputs": [],
   "source": [
    "query_job = bq.query(query = context_query)"
   ],
   "metadata": {
    "collapsed": false,
    "ExecuteTime": {
     "end_time": "2024-04-05T17:42:01.576314Z",
     "start_time": "2024-04-05T17:42:01.015145Z"
    }
   },
   "id": "86092a0e8677a8fe",
   "execution_count": 75
  },
  {
   "cell_type": "code",
   "outputs": [
    {
     "data": {
      "text/plain": "google.cloud.bigquery.job.query.QueryJob"
     },
     "execution_count": 76,
     "metadata": {},
     "output_type": "execute_result"
    }
   ],
   "source": [
    "\n",
    "type(query_job)"
   ],
   "metadata": {
    "collapsed": false,
    "ExecuteTime": {
     "end_time": "2024-04-05T17:42:07.736435Z",
     "start_time": "2024-04-05T17:42:07.706278Z"
    }
   },
   "id": "2bf01181cdf5f70",
   "execution_count": 76
  },
  {
   "cell_type": "code",
   "outputs": [
    {
     "data": {
      "text/plain": "[{'reason': 'invalidQuery',\n  'location': 'query',\n  'message': 'Unrecognized name: county_natality at [6:3]'}]"
     },
     "execution_count": 77,
     "metadata": {},
     "output_type": "execute_result"
    }
   ],
   "source": [
    "\n",
    "query_job.errors"
   ],
   "metadata": {
    "collapsed": false,
    "ExecuteTime": {
     "end_time": "2024-04-05T17:42:13.368749Z",
     "start_time": "2024-04-05T17:42:13.338192Z"
    }
   },
   "id": "4569296e3193313e",
   "execution_count": 77
  },
  {
   "cell_type": "markdown",
   "source": [
    "### Use A Chat Model To Iteratively Refine A Query:"
   ],
   "metadata": {
    "collapsed": false
   },
   "id": "2ccc862c344d345"
  },
  {
   "cell_type": "code",
   "outputs": [],
   "source": [
    "codechat_model = vertexai.language_models.CodeChatModel.from_pretrained('codechat-bison@002')"
   ],
   "metadata": {
    "collapsed": false,
    "ExecuteTime": {
     "end_time": "2024-04-05T17:42:54.404296Z",
     "start_time": "2024-04-05T17:42:54.104322Z"
    }
   },
   "id": "bdd42206ac8c4333",
   "execution_count": 78
  },
  {
   "cell_type": "code",
   "outputs": [],
   "source": [
    "codechat = codechat_model.start_chat(\n",
    "    context = f\"\"\"\n",
    "The BigQuery Environment has tables defined by the follow schema:\n",
    "{schema_columns.to_markdown(index = False)}\n",
    "\n",
    "This session is trying to troubleshoot a Google BigQuery SQL query that is being writen to answer the question:\n",
    "{question}\n",
    "\n",
    "BigQuery SQL query that needs to be fixed:\n",
    "{context_query}\n",
    "\n",
    "Instructions:\n",
    "As the user provides versions of the query and the errors returned by BigQuery, offer suggestions that fix the errors but it is important that the query still answer the original question.\n",
    "\"\"\"\n",
    ")"
   ],
   "metadata": {
    "collapsed": false,
    "ExecuteTime": {
     "end_time": "2024-04-05T17:43:11.500943Z",
     "start_time": "2024-04-05T17:43:11.465529Z"
    }
   },
   "id": "f5556db564b57be4",
   "execution_count": 79
  },
  {
   "cell_type": "code",
   "outputs": [
    {
     "data": {
      "text/plain": "'BadRequest was raised: 400 POST https://bigquery.googleapis.com/bigquery/v2/projects/zacharynguyen-genai/jobs?prettyPrint=false: Unrecognized name: county_natality at [6:3]\\n\\nLocation: None\\nJob ID: 3c676027-4799-4911-a523-6a426ec68079\\n'"
     },
     "execution_count": 80,
     "metadata": {},
     "output_type": "execute_result"
    }
   ],
   "source": [
    "errors"
   ],
   "metadata": {
    "collapsed": false,
    "ExecuteTime": {
     "end_time": "2024-04-05T17:43:21.340501Z",
     "start_time": "2024-04-05T17:43:21.308792Z"
    }
   },
   "id": "61f38cb006b5a92d",
   "execution_count": 80
  },
  {
   "cell_type": "code",
   "outputs": [
    {
     "name": "stdout",
     "output_type": "stream",
     "text": [
      "county_natality.Year = '2018';\n"
     ]
    }
   ],
   "source": [
    "hint = ''\n",
    "if errors.rindex('[') and errors.rindex(']'):\n",
    "    begin = errors.rindex('[') + 1\n",
    "    end = errors.rindex(']')\n",
    "    if end > begin and errors[begin:end].index(':'):\n",
    "        query_index = [int(q) for q in errors[begin:end].split(':')]\n",
    "        hint += context_query.split('\\n')[query_index[0] - 1].strip()\n",
    "print(hint)"
   ],
   "metadata": {
    "collapsed": false,
    "ExecuteTime": {
     "end_time": "2024-04-05T17:43:51.387895Z",
     "start_time": "2024-04-05T17:43:51.350473Z"
    }
   },
   "id": "814c6441a213b8bf",
   "execution_count": 81
  },
  {
   "cell_type": "code",
   "outputs": [
    {
     "name": "stdout",
     "output_type": "stream",
     "text": [
      "\n",
      "This query:\n",
      "SELECT\n",
      "  AVG(county_natality.Ave_Age_of_Mother) AS average_age_of_mothers\n",
      "FROM\n",
      "  `bigquery-public-data.sdoh_cdc_wonder_natality.county_natality`\n",
      "WHERE\n",
      "  county_natality.Year = '2018';\n",
      "\n",
      "Returns these errors:\n",
      "[{'reason': 'invalidQuery', 'location': 'query', 'message': 'Unrecognized name: county_natality at [6:3]'}]\n",
      "\n",
      "Hint, the error appears to be in this line of the query:\n",
      "county_natality.Year = '2018';\n"
     ]
    }
   ],
   "source": [
    "fix_prompt = f\"\"\"\n",
    "This query:\n",
    "{context_query}\n",
    "\n",
    "Returns these errors:\n",
    "{query_job.errors}\n",
    "\"\"\"\n",
    "\n",
    "if hint != '':\n",
    "    fix_prompt += f\"\"\"\n",
    "Hint, the error appears to be in this line of the query:\n",
    "{hint}\n",
    "\"\"\"\n",
    "print(fix_prompt)"
   ],
   "metadata": {
    "collapsed": false,
    "ExecuteTime": {
     "end_time": "2024-04-05T17:44:07.637261Z",
     "start_time": "2024-04-05T17:44:07.602836Z"
    }
   },
   "id": "405284c9c6eb3a04",
   "execution_count": 82
  },
  {
   "cell_type": "code",
   "outputs": [],
   "source": [
    "response = codechat.send_message(fix_prompt)"
   ],
   "metadata": {
    "collapsed": false,
    "ExecuteTime": {
     "end_time": "2024-04-05T17:44:27.334832Z",
     "start_time": "2024-04-05T17:44:23.851823Z"
    }
   },
   "id": "3cc377869d541c25",
   "execution_count": 83
  },
  {
   "cell_type": "code",
   "outputs": [
    {
     "data": {
      "text/plain": " To fix this error, the table alias `county_natality` needs to be added to the `Year` column. The corrected line should be:\n\n```sql\ncounty_natality.Year = '2018'\n```\n\nThe updated query should look like this:\n\n```sql\nSELECT\n  AVG(county_natality.Ave_Age_of_Mother) AS average_age_of_mothers\nFROM\n  `bigquery-public-data.sdoh_cdc_wonder_natality.county_natality`\nWHERE\n  county_natality.Year = '2018';\n```\n\nThis should resolve the error and allow the query to run successfully."
     },
     "execution_count": 84,
     "metadata": {},
     "output_type": "execute_result"
    }
   ],
   "source": [
    "response"
   ],
   "metadata": {
    "collapsed": false,
    "ExecuteTime": {
     "end_time": "2024-04-05T17:44:34.428446Z",
     "start_time": "2024-04-05T17:44:34.384252Z"
    }
   },
   "id": "4e561ead10ab21aa",
   "execution_count": 84
  },
  {
   "cell_type": "code",
   "outputs": [],
   "source": [
    "context_query = codechat.send_message(f'Respond with only the corrected query as a markdown code block.')"
   ],
   "metadata": {
    "collapsed": false,
    "ExecuteTime": {
     "end_time": "2024-04-05T17:45:24.618293Z",
     "start_time": "2024-04-05T17:45:23.300910Z"
    }
   },
   "id": "8f9c80981a0d3357",
   "execution_count": 85
  },
  {
   "cell_type": "code",
   "outputs": [
    {
     "data": {
      "text/plain": " ```sql\nSELECT\n  AVG(county_natality.Ave_Age_of_Mother) AS average_age_of_mothers\nFROM\n  `bigquery-public-data.sdoh_cdc_wonder_natality.county_natality`\nWHERE\n  county_natality.Year = '2018';\n```"
     },
     "execution_count": 86,
     "metadata": {},
     "output_type": "execute_result"
    }
   ],
   "source": [
    "context_query"
   ],
   "metadata": {
    "collapsed": false,
    "ExecuteTime": {
     "end_time": "2024-04-05T17:45:31.157129Z",
     "start_time": "2024-04-05T17:45:31.115778Z"
    }
   },
   "id": "28528c17d0d3437a",
   "execution_count": 86
  },
  {
   "cell_type": "code",
   "outputs": [
    {
     "name": "stdout",
     "output_type": "stream",
     "text": [
      "\n",
      "county_natality.Year = '2018'\n"
     ]
    }
   ],
   "source": [
    "if context_query.text.find(\"```\") >= 0:\n",
    "    context_query = response.text.split(\"```\")[1]\n",
    "    if context_query.startswith('sql'): context_query = context_query[3:]\n",
    "    print(context_query)\n",
    "else:\n",
    "    print('no query in response')"
   ],
   "metadata": {
    "collapsed": false,
    "ExecuteTime": {
     "end_time": "2024-04-05T17:45:40.387026Z",
     "start_time": "2024-04-05T17:45:40.350280Z"
    }
   },
   "id": "ab1a2be780cbc49",
   "execution_count": 87
  },
  {
   "cell_type": "code",
   "outputs": [],
   "source": [
    "query_job = bq.query(query = context_query)"
   ],
   "metadata": {
    "collapsed": false,
    "ExecuteTime": {
     "end_time": "2024-04-05T17:45:50.109437Z",
     "start_time": "2024-04-05T17:45:49.900876Z"
    }
   },
   "id": "c9ff4c53f2be8c84",
   "execution_count": 88
  },
  {
   "cell_type": "code",
   "outputs": [
    {
     "data": {
      "text/plain": "[{'reason': 'invalidQuery',\n  'location': 'query',\n  'message': 'Syntax error: Unexpected identifier \"county_natality\" at [2:1]'}]"
     },
     "execution_count": 89,
     "metadata": {},
     "output_type": "execute_result"
    }
   ],
   "source": [
    "query_job.errors"
   ],
   "metadata": {
    "collapsed": false,
    "ExecuteTime": {
     "end_time": "2024-04-05T17:45:56.554370Z",
     "start_time": "2024-04-05T17:45:56.506345Z"
    }
   },
   "id": "90e2fd14b5488fc2",
   "execution_count": 89
  },
  {
   "cell_type": "code",
   "outputs": [
    {
     "name": "stdout",
     "output_type": "stream",
     "text": [
      "\n",
      "This query:\n",
      "\n",
      "county_natality.Year = '2018'\n",
      "\n",
      "\n",
      "Returns these errors:\n",
      "[{'reason': 'invalidQuery', 'location': 'query', 'message': 'Syntax error: Unexpected identifier \"county_natality\" at [2:1]'}]\n",
      "\n",
      "Hint, the error appears to be in this line of the query:\n",
      "county_natality.Year = '2018';\n"
     ]
    }
   ],
   "source": [
    "fix_prompt = f\"\"\"\n",
    "This query:\n",
    "{context_query}\n",
    "\n",
    "Returns these errors:\n",
    "{query_job.errors}\n",
    "\"\"\"\n",
    "\n",
    "if hint != '':\n",
    "    fix_prompt += f\"\"\"\n",
    "Hint, the error appears to be in this line of the query:\n",
    "{hint}\n",
    "\"\"\"\n",
    "print(fix_prompt)"
   ],
   "metadata": {
    "collapsed": false,
    "ExecuteTime": {
     "end_time": "2024-04-05T17:46:18.463037Z",
     "start_time": "2024-04-05T17:46:18.426009Z"
    }
   },
   "id": "5226df716414cb05",
   "execution_count": 90
  },
  {
   "cell_type": "code",
   "outputs": [],
   "source": [
    "response = codechat.send_message(fix_prompt)"
   ],
   "metadata": {
    "collapsed": false,
    "ExecuteTime": {
     "end_time": "2024-04-05T17:46:31.439171Z",
     "start_time": "2024-04-05T17:46:29.894219Z"
    }
   },
   "id": "58d42384097c8aaf",
   "execution_count": 91
  },
  {
   "cell_type": "code",
   "outputs": [
    {
     "data": {
      "text/plain": " To fix this error, the `county_natality` table alias needs to be added to the beginning of the line. The corrected line should be:\n\n```sql\ncounty_natality.Year = '2018'\n```\n\nThe updated query should look like this:\n\n```sql\nSELECT\n  AVG(county_natality.Ave_Age_of_Mother) AS average_age_of_mothers\nFROM\n  `bigquery-public-data.sdoh_cdc_wonder_natality.county_natality`\nWHERE\n  county_natality.Year = '2018';\n```\n\nThis should resolve the error and allow the query to run successfully."
     },
     "execution_count": 92,
     "metadata": {},
     "output_type": "execute_result"
    }
   ],
   "source": [
    "response"
   ],
   "metadata": {
    "collapsed": false,
    "ExecuteTime": {
     "end_time": "2024-04-05T17:46:35.441344Z",
     "start_time": "2024-04-05T17:46:35.405164Z"
    }
   },
   "id": "3ddac2b6e3315c2e",
   "execution_count": 92
  },
  {
   "cell_type": "code",
   "outputs": [],
   "source": [],
   "metadata": {
    "collapsed": false
   },
   "id": "7b7f87a250874c87"
  },
  {
   "cell_type": "markdown",
   "source": [
    "# FIX"
   ],
   "metadata": {
    "collapsed": false
   },
   "id": "3e92de634d7a71f4"
  },
  {
   "cell_type": "code",
   "outputs": [],
   "source": [
    "def initial_query(question, schema_columns):\n",
    "    \n",
    "    # code generation model\n",
    "    codegen_model = vertexai.language_models.CodeGenerationModel.from_pretrained('code-bison@002')\n",
    "    \n",
    "    # initial request for query:\n",
    "    context_prompt = f\"\"\"\n",
    "context (BigQuery Table Schema):\n",
    "{schema_columns.to_markdown(index = False)}\n",
    "\n",
    "Write a query for Google BigQuery using fully qualified table names to answer this question:\n",
    "{question}\n",
    "\"\"\"\n",
    "\n",
    "    context_query = codegen_model.predict(context_prompt, max_output_tokens = 256)\n",
    "    \n",
    "    # extract query from response\n",
    "    if context_query.text.find(\"```\") >= 0:\n",
    "        context_query = context_query.text.split(\"```\")[1]\n",
    "        if context_query.startswith('sql'):\n",
    "            context_query = context_query[3:]\n",
    "        print('Initial Query:\\n', context_query)\n",
    "    else:\n",
    "        print('No query provided (first try) - unforseen error, printing out response to help with editing this funcntion:\\n', query_response.text)\n",
    "    \n",
    "    return context_query  "
   ],
   "metadata": {
    "collapsed": false,
    "ExecuteTime": {
     "end_time": "2024-04-05T17:48:08.082262Z",
     "start_time": "2024-04-05T17:48:08.031991Z"
    }
   },
   "id": "56ac67a3bb78d0bb",
   "execution_count": 93
  },
  {
   "cell_type": "code",
   "outputs": [],
   "source": [
    "def codechat_start(question, query, schema_columns):\n",
    "\n",
    "    # code chat model\n",
    "    codechat_model = vertexai.language_models.CodeChatModel.from_pretrained('codechat-bison@002')\n",
    "    \n",
    "    # start a code chat session and give the schema for columns as the starting context:\n",
    "    codechat = codechat_model.start_chat(\n",
    "        context = f\"\"\"\n",
    "The BigQuery Environment has tables defined by the follow schema:\n",
    "{schema_columns.to_markdown(index = False)}\n",
    "\n",
    "This session is trying to troubleshoot a Google BigQuery SQL query that is being writen to answer the question:\n",
    "{question}\n",
    "\n",
    "BigQuery SQL query that needs to be fixed:\n",
    "{query}\n",
    "\n",
    "Instructions:\n",
    "As the user provides versions of the query and the errors returned by BigQuery, offer suggestions that fix the errors but it is important that the query still answer the original question.\n",
    "\"\"\"\n",
    "    )\n",
    "    \n",
    "    return codechat"
   ],
   "metadata": {
    "collapsed": false,
    "ExecuteTime": {
     "end_time": "2024-04-05T17:48:15.659163Z",
     "start_time": "2024-04-05T17:48:15.617818Z"
    }
   },
   "id": "78fa348f9306ef92",
   "execution_count": 94
  },
  {
   "cell_type": "code",
   "outputs": [],
   "source": [
    "def fix_query(query, max_fixes):\n",
    "    \n",
    "    # iteratively run query, and fix it using codechat until success (or max_fixes reached):\n",
    "    fix_tries = 0\n",
    "    answer = False\n",
    "    while fix_tries < max_fixes:\n",
    "        if not query: \n",
    "            return\n",
    "        # run query:\n",
    "        query_job = bq.query(query = query)\n",
    "        # if errors, then generate repair query:\n",
    "        if query_job.errors:\n",
    "            fix_tries += 1\n",
    "            \n",
    "            if fix_tries == 1:\n",
    "                codechat = codechat_start(question, query, schema_columns)\n",
    "            \n",
    "            # construct hint from error\n",
    "            hint = ''\n",
    "            for error in query_job.errors:\n",
    "                # detect error message\n",
    "                if 'message' in list(error.keys()):\n",
    "                    # detect index of error location\n",
    "                    if error['message'].rindex('[') and error['message'].rindex(']'):\n",
    "                        begin = error['message'].rindex('[') + 1\n",
    "                        end = error['message'].rindex(']')\n",
    "                        # verify that it looks like an error location:\n",
    "                        if end > begin and error['message'][begin:end].index(':'):\n",
    "                            # retrieve the two parts of the error index: query line, query column\n",
    "                            query_index = [int(q) for q in error['message'][begin:end].split(':')]\n",
    "                            hint += query.split('\\n')[query_index[0]-1].strip()\n",
    "                            break\n",
    "            \n",
    "            # construct prompt to request a fix:\n",
    "            fix_prompt = f\"\"\"This query:\\n{query}\\n\\nReturns these errors:\\n{query_job.errors}\"\"\"\n",
    "\n",
    "            if hint != '':\n",
    "                fix_prompt += f\"\"\"\\n\\nHint, the error appears to be in this line of the query:\\n{hint}\"\"\"            \n",
    "            \n",
    "            query_response = codechat.send_message(fix_prompt)\n",
    "            query_response = codechat.send_message('Respond with only the corrected query that still answers the question as a markdown code block.')\n",
    "            if query_response.text.find(\"```\") >= 0:\n",
    "                query = query_response.text.split(\"```\")[1]\n",
    "                if query.startswith('sql'):\n",
    "                    query = query[4:]\n",
    "                print(f'Fix #{fix_tries}:\\n', query)\n",
    "            # response did not have a query????:\n",
    "            else:\n",
    "                query = ''\n",
    "                print('No query in response...')\n",
    "\n",
    "        # no error, break while loop\n",
    "        else:\n",
    "            break\n",
    "    \n",
    "    return query, query_job, fix_tries, codechat"
   ],
   "metadata": {
    "collapsed": false,
    "ExecuteTime": {
     "end_time": "2024-04-05T17:48:29.666987Z",
     "start_time": "2024-04-05T17:48:29.576295Z"
    }
   },
   "id": "973d65d0bb2f871c",
   "execution_count": 95
  },
  {
   "cell_type": "code",
   "outputs": [],
   "source": [
    "def answer_question(question, query_job):\n",
    "\n",
    "    # text generation model\n",
    "    gemini_model = vertexai.preview.generative_models.GenerativeModel(\"gemini-pro\")\n",
    "\n",
    "    # answer question\n",
    "    result = query_job.to_dataframe()\n",
    "    question_prompt = f\"\"\"\n",
    "Answer the following question.  Note that the context is a tabular result returned from a BigQuery query specific to this question.  Do not repeat the question or the context when responding.\n",
    "{question}\n",
    "\n",
    "Use this data:\n",
    "{result.to_markdown(index = False)}\n",
    "    \"\"\"\n",
    "\n",
    "    question_response = gemini_model.generate_content(question_prompt)\n",
    "    \n",
    "    return question_response.text"
   ],
   "metadata": {
    "collapsed": false,
    "ExecuteTime": {
     "end_time": "2024-04-05T17:48:37.677210Z",
     "start_time": "2024-04-05T17:48:37.631471Z"
    }
   },
   "id": "41f0ffafdc1d4b4a",
   "execution_count": 96
  },
  {
   "cell_type": "code",
   "outputs": [],
   "source": [
    "def BQ_QA(question, max_fixes = 10, schema_columns = schema_columns):\n",
    "    \n",
    "    # generate query\n",
    "    query = initial_query(question, schema_columns)\n",
    "    \n",
    "    # run query:\n",
    "    query_job = bq.query(query = query)\n",
    "    # if errors, then generate repair query:\n",
    "    if query_job.errors:\n",
    "        print('found errors')\n",
    "        query, query_job, fix_tries, codechat = fix_query(query, max_fixes)\n",
    "    \n",
    "    # respond with outcome:\n",
    "    if query_job.errors:\n",
    "        print(f'No answer generated after {fix_tries} tries.')\n",
    "        return codechat\n",
    "    else:\n",
    "        question_response = answer_question(question, query_job)\n",
    "        print(question_response)\n",
    "        try:\n",
    "            return codechat\n",
    "        except:\n",
    "            return None"
   ],
   "metadata": {
    "collapsed": false,
    "ExecuteTime": {
     "end_time": "2024-04-05T17:48:45.213268Z",
     "start_time": "2024-04-05T17:48:45.152066Z"
    }
   },
   "id": "864b1ab7605df004",
   "execution_count": 97
  },
  {
   "cell_type": "code",
   "outputs": [
    {
     "data": {
      "text/plain": "'What is the average age of mothers giving birth in the year of 2018?'"
     },
     "execution_count": 98,
     "metadata": {},
     "output_type": "execute_result"
    }
   ],
   "source": [
    "question"
   ],
   "metadata": {
    "collapsed": false,
    "ExecuteTime": {
     "end_time": "2024-04-05T17:48:52.345214Z",
     "start_time": "2024-04-05T17:48:52.295494Z"
    }
   },
   "id": "9986de679a934b51",
   "execution_count": 98
  },
  {
   "cell_type": "code",
   "outputs": [
    {
     "name": "stdout",
     "output_type": "stream",
     "text": [
      "Initial Query:\n",
      " \n",
      "SELECT\n",
      "  AVG(county_natality.Ave_Age_of_Mother) AS average_age_of_mothers\n",
      "FROM\n",
      "  `bigquery-public-data.sdoh_cdc_wonder_natality.county_natality`\n",
      "WHERE\n",
      "  county_natality.Year = '2018';\n",
      "found errors\n",
      "Fix #1:\n",
      " SELECT\n",
      "  AVG(Ave_Age_of_Mother) AS average_age_of_mothers\n",
      "FROM\n",
      "  `bigquery-public-data.sdoh_cdc_wonder_natality.county_natality`\n",
      "WHERE\n",
      "  Year = '2018';\n",
      "Fix #2:\n",
      " SELECT\n",
      "  AVG(Ave_Age_of_Mother) AS average_age_of_mothers\n",
      "FROM\n",
      "  `bigquery-public-data.sdoh_cdc_wonder_natality.county_natality`\n",
      "WHERE\n",
      "  Year = DATE('2018');\n",
      "Fix #3:\n",
      " SELECT\n",
      "  AVG(Ave_Age_of_Mother) AS average_age_of_mothers\n",
      "FROM\n",
      "  `bigquery-public-data.sdoh_cdc_wonder_natality.county_natality`\n",
      "WHERE\n",
      "  Year = '2018';\n",
      "Fix #4:\n",
      " SELECT\n",
      "  AVG(Ave_Age_of_Mother) AS average_age_of_mothers\n",
      "FROM\n",
      "  `bigquery-public-data.sdoh_cdc_wonder_natality.county_natality`\n",
      "WHERE\n",
      "  CAST(Year as DATE) = DATE('2018');\n",
      "Fix #5:\n",
      " SELECT\n",
      "  AVG(Ave_Age_of_Mother) AS average_age_of_mothers\n",
      "FROM\n",
      "  `bigquery-public-data.sdoh_cdc_wonder_natality.county_natality`\n",
      "WHERE\n",
      "  CAST(Year as DATE) = '2018';\n",
      "Fix #6:\n",
      " SELECT\n",
      "  AVG(Ave_Age_of_Mother) AS average_age_of_mothers\n",
      "FROM\n",
      "  `bigquery-public-data.sdoh_cdc_wonder_natality.county_natality`\n",
      "WHERE\n",
      "  CAST(Year as DATE) = DATE('2018-01-01');\n",
      "28.8438\n"
     ]
    }
   ],
   "source": [
    "session = BQ_QA(question)"
   ],
   "metadata": {
    "collapsed": false,
    "ExecuteTime": {
     "end_time": "2024-04-05T17:49:23.826937Z",
     "start_time": "2024-04-05T17:48:58.181352Z"
    }
   },
   "id": "ddf7f3bcb448f1c0",
   "execution_count": 99
  },
  {
   "cell_type": "code",
   "outputs": [
    {
     "name": "stdout",
     "output_type": "stream",
     "text": [
      "This query:\n",
      "\n",
      "SELECT\n",
      "  AVG(county_natality.Ave_Age_of_Mother) AS average_age_of_mothers\n",
      "FROM\n",
      "  `bigquery-public-data.sdoh_cdc_wonder_natality.county_natality`\n",
      "WHERE\n",
      "  county_natality.Year = '2018';\n",
      "\n",
      "\n",
      "Returns these errors:\n",
      "[{'reason': 'invalidQuery', 'location': 'query', 'message': 'Unrecognized name: county_natality at [7:3]'}]\n",
      "\n",
      "Hint, the error appears to be in this line of the query:\n",
      "county_natality.Year = '2018';\n",
      " The error message suggests that the `county_natality` table is not recognized. This could be because the table name is misspelled or because the table is not in the expected dataset. To fix this, make sure that the table name is spelled correctly and that the table is in the `bigquery-public-data.sdoh_cdc_wonder_natality` dataset.\n",
      "\n",
      "Here's the corrected query:\n",
      "\n",
      "```sql\n",
      "SELECT\n",
      "  AVG(Ave_Age_of_Mother) AS average_age_of_mothers\n",
      "FROM\n",
      "  `bigquery-public-data.sdoh_cdc_wonder_natality.county_natality`\n",
      "WHERE\n",
      "  Year = '2018';\n",
      "```\n",
      "Respond with only the corrected query that still answers the question as a markdown code block.\n",
      " ```sql\n",
      "SELECT\n",
      "  AVG(Ave_Age_of_Mother) AS average_age_of_mothers\n",
      "FROM\n",
      "  `bigquery-public-data.sdoh_cdc_wonder_natality.county_natality`\n",
      "WHERE\n",
      "  Year = '2018';\n",
      "```\n",
      "This query:\n",
      "SELECT\n",
      "  AVG(Ave_Age_of_Mother) AS average_age_of_mothers\n",
      "FROM\n",
      "  `bigquery-public-data.sdoh_cdc_wonder_natality.county_natality`\n",
      "WHERE\n",
      "  Year = '2018';\n",
      "\n",
      "\n",
      "Returns these errors:\n",
      "[{'reason': 'invalidQuery', 'location': 'query', 'message': 'Could not cast literal \"2018\" to type DATE at [6:10]'}]\n",
      "\n",
      "Hint, the error appears to be in this line of the query:\n",
      "Year = '2018';\n",
      " The error message suggests that the value `'2018'` cannot be cast to a DATE type. To fix this, convert the string literal to a DATE type using the `DATE()` function.\n",
      "\n",
      "Here's the corrected query:\n",
      "\n",
      "```sql\n",
      "SELECT\n",
      "  AVG(Ave_Age_of_Mother) AS average_age_of_mothers\n",
      "FROM\n",
      "  `bigquery-public-data.sdoh_cdc_wonder_natality.county_natality`\n",
      "WHERE\n",
      "  Year = DATE('2018');\n",
      "```\n",
      "Respond with only the corrected query that still answers the question as a markdown code block.\n",
      " ```sql\n",
      "SELECT\n",
      "  AVG(Ave_Age_of_Mother) AS average_age_of_mothers\n",
      "FROM\n",
      "  `bigquery-public-data.sdoh_cdc_wonder_natality.county_natality`\n",
      "WHERE\n",
      "  Year = DATE('2018');\n",
      "```\n",
      "This query:\n",
      "SELECT\n",
      "  AVG(Ave_Age_of_Mother) AS average_age_of_mothers\n",
      "FROM\n",
      "  `bigquery-public-data.sdoh_cdc_wonder_natality.county_natality`\n",
      "WHERE\n",
      "  Year = DATE('2018');\n",
      "\n",
      "\n",
      "Returns these errors:\n",
      "[{'reason': 'invalidQuery', 'location': 'query', 'message': 'Could not cast literal \"2018\" to type TIMESTAMP at [6:15]'}]\n",
      "\n",
      "Hint, the error appears to be in this line of the query:\n",
      "Year = DATE('2018');\n",
      " The error message suggests that the `DATE()` function is being used incorrectly. To fix this, remove the `DATE()` function and simply compare the `Year` column to the string literal `'2018'`.\n",
      "\n",
      "Here's the corrected query:\n",
      "\n",
      "```sql\n",
      "SELECT\n",
      "  AVG(Ave_Age_of_Mother) AS average_age_of_mothers\n",
      "FROM\n",
      "  `bigquery-public-data.sdoh_cdc_wonder_natality.county_natality`\n",
      "WHERE\n",
      "  Year = '2018';\n",
      "```\n",
      "Respond with only the corrected query that still answers the question as a markdown code block.\n",
      " ```sql\n",
      "SELECT\n",
      "  AVG(Ave_Age_of_Mother) AS average_age_of_mothers\n",
      "FROM\n",
      "  `bigquery-public-data.sdoh_cdc_wonder_natality.county_natality`\n",
      "WHERE\n",
      "  Year = '2018';\n",
      "```\n",
      "This query:\n",
      "SELECT\n",
      "  AVG(Ave_Age_of_Mother) AS average_age_of_mothers\n",
      "FROM\n",
      "  `bigquery-public-data.sdoh_cdc_wonder_natality.county_natality`\n",
      "WHERE\n",
      "  Year = '2018';\n",
      "\n",
      "\n",
      "Returns these errors:\n",
      "[{'reason': 'invalidQuery', 'location': 'query', 'message': 'Could not cast literal \"2018\" to type DATE at [6:10]'}]\n",
      "\n",
      "Hint, the error appears to be in this line of the query:\n",
      "Year = '2018';\n",
      " The error message suggests that the value `'2018'` cannot be cast to a DATE type. To fix this, convert the string literal to a DATE type using the `DATE()` function.\n",
      "\n",
      "Here's the corrected query:\n",
      "\n",
      "```sql\n",
      "SELECT\n",
      "  AVG(Ave_Age_of_Mother) AS average_age_of_mothers\n",
      "FROM\n",
      "  `bigquery-public-data.sdoh_cdc_wonder_natality.county_natality`\n",
      "WHERE\n",
      "  CAST(Year as DATE) = DATE('2018');\n",
      "```\n",
      "Respond with only the corrected query that still answers the question as a markdown code block.\n",
      " ```sql\n",
      "SELECT\n",
      "  AVG(Ave_Age_of_Mother) AS average_age_of_mothers\n",
      "FROM\n",
      "  `bigquery-public-data.sdoh_cdc_wonder_natality.county_natality`\n",
      "WHERE\n",
      "  CAST(Year as DATE) = DATE('2018');\n",
      "```\n",
      "This query:\n",
      "SELECT\n",
      "  AVG(Ave_Age_of_Mother) AS average_age_of_mothers\n",
      "FROM\n",
      "  `bigquery-public-data.sdoh_cdc_wonder_natality.county_natality`\n",
      "WHERE\n",
      "  CAST(Year as DATE) = DATE('2018');\n",
      "\n",
      "\n",
      "Returns these errors:\n",
      "[{'reason': 'invalidQuery', 'location': 'query', 'message': 'Could not cast literal \"2018\" to type TIMESTAMP at [6:29]'}]\n",
      "\n",
      "Hint, the error appears to be in this line of the query:\n",
      "CAST(Year as DATE) = DATE('2018');\n",
      " The error message suggests that the `DATE()` function is being used incorrectly. To fix this, remove the `DATE()` function and simply compare the `Year` column to the string literal `'2018'`.\n",
      "\n",
      "Here's the corrected query:\n",
      "\n",
      "```sql\n",
      "SELECT\n",
      "  AVG(Ave_Age_of_Mother) AS average_age_of_mothers\n",
      "FROM\n",
      "  `bigquery-public-data.sdoh_cdc_wonder_natality.county_natality`\n",
      "WHERE\n",
      "  CAST(Year as DATE) = '2018';\n",
      "```\n",
      "Respond with only the corrected query that still answers the question as a markdown code block.\n",
      " ```sql\n",
      "SELECT\n",
      "  AVG(Ave_Age_of_Mother) AS average_age_of_mothers\n",
      "FROM\n",
      "  `bigquery-public-data.sdoh_cdc_wonder_natality.county_natality`\n",
      "WHERE\n",
      "  CAST(Year as DATE) = '2018';\n",
      "```\n",
      "This query:\n",
      "SELECT\n",
      "  AVG(Ave_Age_of_Mother) AS average_age_of_mothers\n",
      "FROM\n",
      "  `bigquery-public-data.sdoh_cdc_wonder_natality.county_natality`\n",
      "WHERE\n",
      "  CAST(Year as DATE) = '2018';\n",
      "\n",
      "\n",
      "Returns these errors:\n",
      "[{'reason': 'invalidQuery', 'location': 'query', 'message': 'Could not cast literal \"2018\" to type DATE at [6:24]'}]\n",
      "\n",
      "Hint, the error appears to be in this line of the query:\n",
      "CAST(Year as DATE) = '2018';\n",
      " The error message suggests that the value `'2018'` cannot be cast to a DATE type. To fix this, convert the string literal to a DATE type using the `DATE()` function.\n",
      "\n",
      "Here's the corrected query:\n",
      "\n",
      "```sql\n",
      "SELECT\n",
      "  AVG(Ave_Age_of_Mother) AS average_age_of_mothers\n",
      "FROM\n",
      "  `bigquery-public-data.sdoh_cdc_wonder_natality.county_natality`\n",
      "WHERE\n",
      "  CAST(Year as DATE) = DATE('2018-01-01');\n",
      "```\n",
      "Respond with only the corrected query that still answers the question as a markdown code block.\n",
      " ```sql\n",
      "SELECT\n",
      "  AVG(Ave_Age_of_Mother) AS average_age_of_mothers\n",
      "FROM\n",
      "  `bigquery-public-data.sdoh_cdc_wonder_natality.county_natality`\n",
      "WHERE\n",
      "  CAST(Year as DATE) = DATE('2018-01-01');\n",
      "```\n"
     ]
    }
   ],
   "source": [
    "for message in session.message_history:\n",
    "    print(message.content)"
   ],
   "metadata": {
    "collapsed": false,
    "ExecuteTime": {
     "end_time": "2024-04-05T18:27:42.830476Z",
     "start_time": "2024-04-05T18:27:42.779234Z"
    }
   },
   "id": "d839db30ea519aaf",
   "execution_count": 100
  },
  {
   "cell_type": "code",
   "outputs": [
    {
     "name": "stdout",
     "output_type": "stream",
     "text": [
      "Initial Query:\n",
      " \n",
      "SELECT\n",
      "  county_natality.County_of_Residence,\n",
      "  AVG(county_natality.Ave_Pre_pregnancy_BMI) AS average_pre_pregnancy_bmi\n",
      "FROM\n",
      "  bigquery-public-data.sdoh_cdc_wonder_natality.county_natality\n",
      "GROUP BY\n",
      "  county_natality.County_of_Residence\n",
      "ORDER BY\n",
      "  average_pre_pregnancy_bmi DESC;\n",
      "The lowest pre-pregnancy BMI values are in San Francisco County (24.0067), New York County (23.8967), and Arlington County (24.3567).\n"
     ]
    }
   ],
   "source": [
    "session = BQ_QA(\"How does the average pre-pregnancy BMI vary by county?\")"
   ],
   "metadata": {
    "collapsed": false,
    "ExecuteTime": {
     "end_time": "2024-04-05T18:30:40.411417Z",
     "start_time": "2024-04-05T18:30:27.718155Z"
    }
   },
   "id": "7239f6649bed528b",
   "execution_count": 101
  },
  {
   "cell_type": "code",
   "outputs": [
    {
     "name": "stdout",
     "output_type": "stream",
     "text": [
      "Initial Query:\n",
      " \n",
      "SELECT\n",
      "  county_natality_by_mother_race.Mothers_Single_Race,\n",
      "  AVG(county_natality_by_mother_race.Ave_OE_Gestational_Age_Wks) AS average_gestational_age,\n",
      "  COUNT(county_natality_by_mother_race.Births) AS birth_count\n",
      "FROM\n",
      "  `bigquery-public-data.sdoh_cdc_wonder_natality.county_natality_by_mother_race`\n",
      "GROUP BY\n",
      "  county_natality_by_mother_race.Mothers_Single_Race\n",
      "ORDER BY\n",
      "  average_gestational_age DESC;\n",
      "found errors\n",
      "Fix #1:\n",
      " SELECT\n",
      "  county_natality.Mothers_Single_Race,\n",
      "  AVG(county_natality.Ave_OE_Gestational_Age_Wks) AS average_gestational_age,\n",
      "  COUNT(county_natality.Births) AS birth_count\n",
      "FROM\n",
      "  `bigquery-public-data.sdoh_cdc_wonder_natality.county_natality`\n",
      "GROUP BY\n",
      "  county_natality.Mothers_Single_Race\n",
      "ORDER BY\n",
      "  average_gestational_age DESC;\n",
      "Fix #2:\n",
      " SELECT\n",
      "  county_natality_by_mother_race.Mothers_Single_Race,\n",
      "  AVG(county_natality_by_mother_race.Ave_OE_Gestational_Age_Wks) AS average_gestational_age,\n",
      "  COUNT(county_natality_by_mother_race.Births) AS birth_count\n",
      "FROM\n",
      "  `bigquery-public-data.sdoh_cdc_wonder_natality.county_natality_by_mother_race`\n",
      "WHERE\n",
      "  county_natality_by_mother_race.Year = '2018'\n",
      "GROUP BY\n",
      "  county_natality_by_mother_race.Mothers_Single_Race\n",
      "ORDER BY\n",
      "  average_gestational_age DESC;\n",
      "Fix #3:\n",
      " SELECT\n",
      "  county_natality.Mothers_Single_Race,\n",
      "  AVG(county_natality.Ave_OE_Gestational_Age_Wks) AS average_gestational_age,\n",
      "  COUNT(county_natality.Births) AS birth_count\n",
      "FROM\n",
      "  `bigquery-public-data.sdoh_cdc_wonder_natality.county_natality`\n",
      "WHERE\n",
      "  county_natality.Year = '2018'\n",
      "GROUP BY\n",
      "  county_natality.Mothers_Single_Race\n",
      "ORDER BY\n",
      "  average_gestational_age DESC;\n",
      "Fix #4:\n",
      " SELECT\n",
      "  county_natality_by_mother_race.Mothers_Single_Race,\n",
      "  AVG(county_natality_by_mother_race.Ave_OE_Gestational_Age_Wks) AS average_gestational_age,\n",
      "  COUNT(county_natality_by_mother_race.Births) AS birth_count\n",
      "FROM\n",
      "  `bigquery-public-data.sdoh_cdc_wonder_natality.county_natality_by_mother_race`\n",
      "WHERE\n",
      "  CAST(county_natality_by_mother_race.Year as INT64) = 2018\n",
      "GROUP BY\n",
      "  county_natality_by_mother_race.Mothers_Single_Race\n",
      "ORDER BY\n",
      "  average_gestational_age DESC;\n",
      "Fix #5:\n",
      " SELECT\n",
      "  county_natality.Mothers_Single_Race,\n",
      "  AVG(county_natality.Ave_OE_Gestational_Age_Wks) AS average_gestational_age,\n",
      "  COUNT(county_natality.Births) AS birth_count\n",
      "FROM\n",
      "  `bigquery-public-data.sdoh_cdc_wonder_natality.county_natality`\n",
      "WHERE\n",
      "  CAST(county_natality.Year as INT64) = 2018\n",
      "GROUP BY\n",
      "  county_natality.Mothers_Single_Race\n",
      "ORDER BY\n",
      "  average_gestational_age DESC;\n",
      "Fix #6:\n",
      " SELECT\n",
      "  county_natality_by_mother_race.Mothers_Single_Race,\n",
      "  AVG(county_natality_by_mother_race.Ave_OE_Gestational_Age_Wks) AS average_gestational_age,\n",
      "  COUNT(county_natality_by_mother_race.Births) AS birth_count\n",
      "FROM\n",
      "  `bigquery-public-data.sdoh_cdc_wonder_natality.county_natality_by_mother_race`\n",
      "WHERE\n",
      "  CAST(county_natality_by_mother_race.Year as STRING) = '2018'\n",
      "GROUP BY\n",
      "  county_natality_by_mother_race.Mothers_Single_Race\n",
      "ORDER BY\n",
      "  average_gestational_age DESC;\n",
      "Fix #7:\n",
      " SELECT\n",
      "  county_natality.Mothers_Single_Race,\n",
      "  AVG(county_natality.Ave_OE_Gestational_Age_Wks) AS average_gestational_age,\n",
      "  COUNT(county_natality.Births) AS birth_count\n",
      "FROM\n",
      "  `bigquery-public-data.sdoh_cdc_wonder_natality.county_natality`\n",
      "WHERE\n",
      "  CAST(county_natality.Year as STRING) = '2018'\n",
      "GROUP BY\n",
      "  county_natality.Mothers_Single_Race\n",
      "ORDER BY\n",
      "  average_gestational_age DESC;\n",
      "Fix #8:\n",
      " SELECT\n",
      "  county_natality_by_mother_race.Mothers_Single_Race,\n",
      "  AVG(county_natality_by_mother_race.Ave_OE_Gestational_Age_Wks) AS average_gestational_age,\n",
      "  COUNT(county_natality_by_mother_race.Births) AS birth_count\n",
      "FROM\n",
      "  `bigquery-public-data.sdoh_cdc_wonder_natality.county_natality_by_mother_race`\n",
      "WHERE\n",
      "  county_natality_by_mother_race.Year = '2018'\n",
      "GROUP BY\n",
      "  county_natality_by_mother_race.Mothers_Single_Race\n",
      "ORDER BY\n",
      "  average_gestational_age DESC;\n",
      "Fix #9:\n",
      " SELECT\n",
      "  county_natality.Mothers_Single_Race,\n",
      "  AVG(county_natality.Ave_OE_Gestational_Age_Wks) AS average_gestational_age,\n",
      "  COUNT(county_natality.Births) AS birth_count\n",
      "FROM\n",
      "  `bigquery-public-data.sdoh_cdc_wonder_natality.county_natality`\n",
      "WHERE\n",
      "  county_natality.Year = '2018'\n",
      "GROUP BY\n",
      "  county_natality.Mothers_Single_Race\n",
      "ORDER BY\n",
      "  average_gestational_age DESC;\n",
      "Fix #10:\n",
      " SELECT\n",
      "  county_natality_by_mother_race.Mothers_Single_Race,\n",
      "  AVG(county_natality_by_mother_race.Ave_OE_Gestational_Age_Wks) AS average_gestational_age,\n",
      "  COUNT(county_natality_by_mother_race.Births) AS birth_count\n",
      "FROM\n",
      "  `bigquery-public-data.sdoh_cdc_wonder_natality.county_natality_by_mother_race`\n",
      "WHERE\n",
      "  county_natality_by_mother_race.Year = '2018'\n",
      "GROUP BY\n",
      "  county_natality_by_mother_race.Mothers_Single_Race\n",
      "ORDER BY\n",
      "  \n",
      "No answer generated after 10 tries.\n"
     ]
    }
   ],
   "source": [
    "session = BQ_QA(\"How does the average gestational age at birth vary by the mother's single race and show me the number?\")"
   ],
   "metadata": {
    "collapsed": false,
    "ExecuteTime": {
     "end_time": "2024-04-05T18:34:26.037872Z",
     "start_time": "2024-04-05T18:33:26.554900Z"
    }
   },
   "id": "b97f22435451b311",
   "execution_count": 104
  },
  {
   "cell_type": "code",
   "outputs": [
    {
     "name": "stdout",
     "output_type": "stream",
     "text": [
      "Initial Query:\n",
      " \n",
      "SELECT\n",
      "  Mothers_Single_Race,\n",
      "  AVG(Births) AS average_births\n",
      "FROM\n",
      "  `bigquery-public-data.sdoh_cdc_wonder_natality.county_natality_by_mother_race`\n",
      "GROUP BY\n",
      "  Mothers_Single_Race\n",
      "ORDER BY\n",
      "  average_births DESC\n",
      "LIMIT 1;\n",
      "White, with an average of 4528.37 births\n"
     ]
    }
   ],
   "source": [
    "session = BQ_QA(\"Which mother's single race category reports the highest average number of births and what is that number?\")"
   ],
   "metadata": {
    "collapsed": false,
    "ExecuteTime": {
     "end_time": "2024-04-05T18:37:38.626796Z",
     "start_time": "2024-04-05T18:37:35.293568Z"
    }
   },
   "id": "34bbd78c9298a8e8",
   "execution_count": 106
  },
  {
   "cell_type": "code",
   "outputs": [
    {
     "name": "stdout",
     "output_type": "stream",
     "text": [
      "Initial Query:\n",
      " \n",
      "SELECT\n",
      "  county_natality_by_mother_race.Year,\n",
      "  county_natality_by_mother_race.Mothers_Single_Race,\n",
      "  AVG(county_natality_by_mother_race.Ave_OE_Gestational_Age_Wks) AS Average_OE_Gestational_Age_Weeks\n",
      "FROM\n",
      "  bigquery-public-data.sdoh_cdc_wonder_natality.county_natality_by_mother_race\n",
      "GROUP BY\n",
      "  county_natality_by_mother_race.Year,\n",
      "  county_natality_by_mother_race.Mothers_Single_Race\n",
      "ORDER BY\n",
      "  county_natality_by_mother_race.Year,\n",
      "  Average_OE_Gestational_Age_Weeks DESC;\n",
      "The average gestational age at birth for White mothers is consistently higher than all other races by about 0.2 years (8-9 days). American Indian or Alaska Native mothers have gestational ages about 0.1 less than White mothers, but consistently about 0.02 fewer than all other races. This means that Black or African American mothers, along with Asian, Hawaiian, or Mixed-race mothers (more than one race) each have consistently younger gestational ages than White mothers by at least 0.4 or about 17 days.\n"
     ]
    }
   ],
   "source": [
    "session = BQ_QA(\"How does the average gestational age at birth vary by the mother's single race?\")"
   ],
   "metadata": {
    "collapsed": false,
    "ExecuteTime": {
     "end_time": "2024-04-05T18:38:33.187941Z",
     "start_time": "2024-04-05T18:38:28.644077Z"
    }
   },
   "id": "d80e2291b0b6ed9c",
   "execution_count": 107
  },
  {
   "cell_type": "code",
   "outputs": [],
   "source": [],
   "metadata": {
    "collapsed": false
   },
   "id": "b7b3d97d238c00da"
  }
 ],
 "metadata": {
  "kernelspec": {
   "display_name": "Python 3",
   "language": "python",
   "name": "python3"
  },
  "language_info": {
   "codemirror_mode": {
    "name": "ipython",
    "version": 2
   },
   "file_extension": ".py",
   "mimetype": "text/x-python",
   "name": "python",
   "nbconvert_exporter": "python",
   "pygments_lexer": "ipython2",
   "version": "2.7.6"
  }
 },
 "nbformat": 4,
 "nbformat_minor": 5
}
