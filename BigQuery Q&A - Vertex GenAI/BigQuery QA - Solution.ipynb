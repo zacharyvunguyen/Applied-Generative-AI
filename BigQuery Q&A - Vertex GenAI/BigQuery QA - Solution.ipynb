{
 "cells": [
  {
   "cell_type": "code",
   "outputs": [],
   "source": [
    "import os\n",
    "# Import Google Cloud and Vertex AI libraries\n",
    "from google.cloud import bigquery\n",
    "import vertexai\n",
    "import vertexai.language_models\n",
    "import vertexai.preview.generative_models\n",
    "\n",
    "# Set environment variables for Google Cloud credentials and TensorFlow logging level\n",
    "GOOGLE_APPLICATION_CREDENTIALS = \"/Users/zacharynguyen/Documents/GitHub/2024/Applied-Generative-AI/IAM/zacharynguyen-genai-656c475b142a.json\"\n",
    "os.environ[\"GOOGLE_APPLICATION_CREDENTIALS\"] = GOOGLE_APPLICATION_CREDENTIALS\n",
    "os.environ['TF_CPP_MIN_LOG_LEVEL'] = '3'\n",
    "\n",
    "# Define Google Cloud project and region information\n",
    "PROJECT_ID = 'zacharynguyen-genai'\n",
    "REGION = 'us-central1'\n",
    "EXPERIMENT = 'sdoh_cdc_wonder_natality'\n",
    "SERIES = 'applied-genai'\n",
    "\n",
    "# Initialize Vertex AI\n",
    "vertexai.init(project=PROJECT_ID, location=REGION)\n",
    "\n",
    "# Initialize the BigQuery client\n",
    "bq = bigquery.Client(project=PROJECT_ID)\n",
    "\n",
    "# Initialize Vertex AI models\n",
    "textgen_model = vertexai.language_models.TextGenerationModel.from_pretrained('text-bison@002')\n",
    "codegen_model = vertexai.language_models.CodeGenerationModel.from_pretrained('code-bison@002')\n",
    "gemini_model = vertexai.preview.generative_models.GenerativeModel(\"gemini-pro\")\n",
    "\n",
    "# BigQuery constants for querying\n",
    "BQ_PROJECT = 'bigquery-public-data'\n",
    "BQ_DATASET = 'sdoh_cdc_wonder_natality'\n",
    "BQ_TABLES = ['county_natality', 'county_natality_by_mother_race', 'county_natality_by_father_race']\n",
    "\n",
    "# Construct and execute a BigQuery query to retrieve schema columns\n",
    "query = f\"\"\"\n",
    "    SELECT * EXCEPT(field_path, collation_name, rounding_mode)\n",
    "    FROM `{BQ_PROJECT}.{BQ_DATASET}.INFORMATION_SCHEMA.COLUMN_FIELD_PATHS`\n",
    "    WHERE table_name in ({','.join([f'\"{table}\"' for table in BQ_TABLES])})\n",
    "\"\"\"\n",
    "schema_columns = bq.query(query=query).to_dataframe()\n",
    "\n",
    "# Define the question for the model\n",
    "question = \"Which mother's single race category reports the highest average number of births and what is that number?\"\n"
   ],
   "metadata": {
    "collapsed": false,
    "ExecuteTime": {
     "end_time": "2024-04-05T19:36:27.398393Z",
     "start_time": "2024-04-05T19:36:25.356688Z"
    }
   },
   "id": "31512872768f5619",
   "execution_count": 8
  },
  {
   "cell_type": "code",
   "execution_count": 9,
   "id": "initial_id",
   "metadata": {
    "collapsed": true,
    "ExecuteTime": {
     "end_time": "2024-04-05T19:36:28.709883Z",
     "start_time": "2024-04-05T19:36:28.699751Z"
    }
   },
   "outputs": [],
   "source": [
    "def initial_query(question, schema_columns):\n",
    "    \n",
    "    # code generation model\n",
    "    codegen_model = vertexai.language_models.CodeGenerationModel.from_pretrained('code-bison@002')\n",
    "    \n",
    "    # initial request for query:\n",
    "    context_prompt = f\"\"\"\n",
    "context (BigQuery Table Schema):\n",
    "{schema_columns.to_markdown(index = False)}\n",
    "\n",
    "Write a query for Google BigQuery using fully qualified table names to answer this question:\n",
    "{question}\n",
    "\"\"\"\n",
    "\n",
    "    context_query = codegen_model.predict(context_prompt, max_output_tokens = 256)\n",
    "    \n",
    "    # extract query from response\n",
    "    if context_query.text.find(\"```\") >= 0:\n",
    "        context_query = context_query.text.split(\"```\")[1]\n",
    "        if context_query.startswith('sql'):\n",
    "            context_query = context_query[3:]\n",
    "        print('Initial Query:\\n', context_query)\n",
    "    else:\n",
    "        print('No query provided (first try) - unforseen error, printing out response to help with editing this funcntion:\\n', query_response.text)\n",
    "    \n",
    "    return context_query  "
   ]
  },
  {
   "cell_type": "code",
   "outputs": [
    {
     "name": "stdout",
     "output_type": "stream",
     "text": [
      "Initial Query:\n",
      " \n",
      "SELECT\n",
      "  Mothers_Single_Race,\n",
      "  AVG(Births) AS average_births\n",
      "FROM\n",
      "  `bigquery-public-data.sdoh_cdc_wonder_natality.county_natality_by_mother_race`\n",
      "GROUP BY\n",
      "  Mothers_Single_Race\n",
      "ORDER BY\n",
      "  average_births DESC\n",
      "LIMIT 1;\n"
     ]
    },
    {
     "data": {
      "text/plain": "'\\nSELECT\\n  Mothers_Single_Race,\\n  AVG(Births) AS average_births\\nFROM\\n  `bigquery-public-data.sdoh_cdc_wonder_natality.county_natality_by_mother_race`\\nGROUP BY\\n  Mothers_Single_Race\\nORDER BY\\n  average_births DESC\\nLIMIT 1;\\n'"
     },
     "execution_count": 10,
     "metadata": {},
     "output_type": "execute_result"
    }
   ],
   "source": [
    "initial_query(question,schema_columns)"
   ],
   "metadata": {
    "collapsed": false,
    "ExecuteTime": {
     "end_time": "2024-04-05T19:36:31.734165Z",
     "start_time": "2024-04-05T19:36:29.892739Z"
    }
   },
   "id": "dd3fda778464a177",
   "execution_count": 10
  },
  {
   "cell_type": "code",
   "outputs": [],
   "source": [
    "def codechat_start(question, query, schema_columns):\n",
    "\n",
    "    # code chat model\n",
    "    codechat_model = vertexai.language_models.CodeChatModel.from_pretrained('codechat-bison@002')\n",
    "    \n",
    "    # start a code chat session and give the schema for columns as the starting context:\n",
    "    codechat = codechat_model.start_chat(\n",
    "        context = f\"\"\"\n",
    "The BigQuery Environment has tables defined by the follow schema:\n",
    "{schema_columns.to_markdown(index = False)}\n",
    "\n",
    "This session is trying to troubleshoot a Google BigQuery SQL query that is being writen to answer the question:\n",
    "{question}\n",
    "\n",
    "BigQuery SQL query that needs to be fixed:\n",
    "{query}\n",
    "\n",
    "Instructions:\n",
    "As the user provides versions of the query and the errors returned by BigQuery, offer suggestions that fix the errors but it is important that the query still answer the original question.\n",
    "\"\"\"\n",
    "    )\n",
    "    \n",
    "    return codechat"
   ],
   "metadata": {
    "collapsed": false,
    "ExecuteTime": {
     "end_time": "2024-04-05T19:40:45.665301Z",
     "start_time": "2024-04-05T19:40:45.651225Z"
    }
   },
   "id": "a60be518346f0046",
   "execution_count": 11
  },
  {
   "cell_type": "code",
   "outputs": [],
   "source": [
    "def fix_query(query, max_fixes):\n",
    "    \n",
    "    # iteratively run query, and fix it using codechat until success (or max_fixes reached):\n",
    "    fix_tries = 0\n",
    "    answer = False\n",
    "    while fix_tries < max_fixes:\n",
    "        if not query: \n",
    "            return\n",
    "        # run query:\n",
    "        query_job = bq.query(query = query)\n",
    "        # if errors, then generate repair query:\n",
    "        if query_job.errors:\n",
    "            fix_tries += 1\n",
    "            \n",
    "            if fix_tries == 1:\n",
    "                codechat = codechat_start(question, query, schema_columns)\n",
    "            \n",
    "            # construct hint from error\n",
    "            hint = ''\n",
    "            for error in query_job.errors:\n",
    "                # detect error message\n",
    "                if 'message' in list(error.keys()):\n",
    "                    # detect index of error location\n",
    "                    if error['message'].rindex('[') and error['message'].rindex(']'):\n",
    "                        begin = error['message'].rindex('[') + 1\n",
    "                        end = error['message'].rindex(']')\n",
    "                        # verify that it looks like an error location:\n",
    "                        if end > begin and error['message'][begin:end].index(':'):\n",
    "                            # retrieve the two parts of the error index: query line, query column\n",
    "                            query_index = [int(q) for q in error['message'][begin:end].split(':')]\n",
    "                            hint += query.split('\\n')[query_index[0]-1].strip()\n",
    "                            break\n",
    "            \n",
    "            # construct prompt to request a fix:\n",
    "            fix_prompt = f\"\"\"This query:\\n{query}\\n\\nReturns these errors:\\n{query_job.errors}\"\"\"\n",
    "\n",
    "            if hint != '':\n",
    "                fix_prompt += f\"\"\"\\n\\nHint, the error appears to be in this line of the query:\\n{hint}\"\"\"            \n",
    "            \n",
    "            query_response = codechat.send_message(fix_prompt)\n",
    "            query_response = codechat.send_message('Respond with only the corrected query that still answers the question as a markdown code block.')\n",
    "            if query_response.text.find(\"```\") >= 0:\n",
    "                query = query_response.text.split(\"```\")[1]\n",
    "                if query.startswith('sql'):\n",
    "                    query = query[4:]\n",
    "                print(f'Fix #{fix_tries}:\\n', query)\n",
    "            # response did not have a query????:\n",
    "            else:\n",
    "                query = ''\n",
    "                print('No query in response...')\n",
    "\n",
    "        # no error, break while loop\n",
    "        else:\n",
    "            break\n",
    "    \n",
    "    return query, query_job, fix_tries, codechat"
   ],
   "metadata": {
    "collapsed": false,
    "ExecuteTime": {
     "end_time": "2024-04-05T19:42:17.330464Z",
     "start_time": "2024-04-05T19:42:17.320904Z"
    }
   },
   "id": "21dfa35f84848ce8",
   "execution_count": 12
  },
  {
   "cell_type": "code",
   "outputs": [],
   "source": [
    "def answer_question(question, query_job):\n",
    "\n",
    "    # text generation model\n",
    "    gemini_model = vertexai.preview.generative_models.GenerativeModel(\"gemini-pro\")\n",
    "\n",
    "    # answer question\n",
    "    result = query_job.to_dataframe()\n",
    "    question_prompt = f\"\"\"\n",
    "Please derive insights from: {question}\n",
    "Utilize the statistics from the BigQuery table relevant to this inquiry. Emphasize crucial discoveries and their implications for strategic actions, ensuring to mention specific statistics where possible. Avoid repeating the question or detailing the dataset's context.\n",
    "\n",
    "Use this data:\n",
    "{result.to_markdown(index = False)}\n",
    "    \"\"\"\n",
    "\n",
    "    question_response = gemini_model.generate_content(question_prompt)\n",
    "    \n",
    "    return question_response.text"
   ],
   "metadata": {
    "collapsed": false,
    "ExecuteTime": {
     "end_time": "2024-04-05T20:49:18.404584Z",
     "start_time": "2024-04-05T20:49:18.379463Z"
    }
   },
   "id": "46520f038468bac6",
   "execution_count": 41
  },
  {
   "cell_type": "code",
   "outputs": [],
   "source": [
    "def BQ_QA(question, max_fixes = 10, schema_columns = schema_columns):\n",
    "    \n",
    "    # generate query\n",
    "    query = initial_query(question, schema_columns)\n",
    "    \n",
    "    # run query:\n",
    "    query_job = bq.query(query = query)\n",
    "    # if errors, then generate repair query:\n",
    "    if query_job.errors:\n",
    "        print('found errors')\n",
    "        query, query_job, fix_tries, codechat = fix_query(query, max_fixes)\n",
    "    \n",
    "    # respond with outcome:\n",
    "    if query_job.errors:\n",
    "        print(f'No answer generated after {fix_tries} tries.')\n",
    "        return codechat\n",
    "    else:\n",
    "        question_response = answer_question(question, query_job)\n",
    "        print(question_response)\n",
    "        try:\n",
    "            return codechat\n",
    "        except:\n",
    "            return None"
   ],
   "metadata": {
    "collapsed": false,
    "ExecuteTime": {
     "end_time": "2024-04-05T20:48:00.979007Z",
     "start_time": "2024-04-05T20:48:00.961267Z"
    }
   },
   "id": "c1e3d99ee35f21df",
   "execution_count": 39
  },
  {
   "cell_type": "code",
   "outputs": [
    {
     "name": "stdout",
     "output_type": "stream",
     "text": [
      "Initial Query:\n",
      " \n",
      "SELECT\n",
      "  Mothers_Single_Race,\n",
      "  AVG(Births) AS average_births\n",
      "FROM\n",
      "  `bigquery-public-data.sdoh_cdc_wonder_natality.county_natality_by_mother_race`\n",
      "GROUP BY\n",
      "  Mothers_Single_Race\n",
      "ORDER BY\n",
      "  average_births DESC\n",
      "LIMIT 1;\n",
      "**Insight:**\n",
      "\n",
      "White mothers have the highest average number of births among single-race mothers, with an average of 4528.37 births.\n",
      "\n",
      "**Implications:**\n",
      "\n",
      "* This finding suggests that White mothers may be more likely to have children out of wedlock or to have more children overall.\n",
      "* This information could be used to develop targeted interventions aimed at reducing unintended pregnancies or supporting single mothers.\n",
      "* Additionally, it could help policymakers understand the needs of single mothers and families and develop policies that address their unique challenges.\n"
     ]
    }
   ],
   "source": [
    "session = BQ_QA(\"Which mother's single race category reports the highest average number of births and what is that number?\")"
   ],
   "metadata": {
    "collapsed": false,
    "ExecuteTime": {
     "end_time": "2024-04-05T19:56:10.832320Z",
     "start_time": "2024-04-05T19:56:06.271659Z"
    }
   },
   "id": "f1c9ed144c3d9530",
   "execution_count": 24
  },
  {
   "cell_type": "code",
   "outputs": [
    {
     "name": "stdout",
     "output_type": "stream",
     "text": [
      "Initial Query:\n",
      " \n",
      "SELECT\n",
      "  county_natality_by_mother_race.Year,\n",
      "  county_natality_by_mother_race.Mothers_Single_Race,\n",
      "  AVG(county_natality_by_mother_race.Ave_OE_Gestational_Age_Wks) AS average_gestational_age\n",
      "FROM\n",
      "  bigquery-public-data.sdoh_cdc_wonder_natality.county_natality_by_mother_race\n",
      "GROUP BY\n",
      "  county_natality_by_mother_race.Year,\n",
      "  county_natality_by_mother_race.Mothers_Single_Race\n",
      "ORDER BY\n",
      "  county_natality_by_mother_race.Year,\n",
      "  average_gestational_age DESC;\n",
      "**Key Insights:**\n",
      "\n",
      "* **Racial Disparities:** White mothers have consistently higher average gestational ages than other racial groups, with a difference of up to 0.4 weeks (approximately 2.8 days) compared to Black or African American mothers.\n",
      "* **Time Trend:** The average gestational age has been declining slightly over time for all racial groups, with the exception of Native Hawaiian or Other Pacific Islander mothers.\n",
      "* **Lowest Gestational Ages:** Black or African American mothers have the lowest average gestational ages in all three years, with a difference of 0.4 weeks (approximately 2.8 days) compared to White mothers in 2016.\n",
      "\n",
      "**Implications for Strategic Actions:**\n",
      "\n",
      "* **Target Interventions:** Public health programs should focus on reducing racial disparities in gestational age by addressing factors that contribute to preterm birth among Black or African American mothers, such as socioeconomic status, access to healthcare, and maternal stress.\n",
      "* **Improve Prenatal Care:** Ensure all mothers have access to high-quality prenatal care that includes regular checkups, nutrition counseling, and health education. This is especially important for mothers at high risk of preterm birth.\n",
      "* **Promote Healthy Lifestyle:** Encourage healthy lifestyles before and during pregnancy, including proper nutrition, regular exercise, and smoking cessation. These factors have been shown to improve gestational age.\n",
      "* **Monitor Trends:** Continue to monitor gestational age trends and identify any emerging disparities or improvements. This information will help inform future policy and program development.\n"
     ]
    }
   ],
   "source": [
    "session = BQ_QA(\"How does the average gestational age at birth vary by the mother's single race?\")"
   ],
   "metadata": {
    "collapsed": false,
    "ExecuteTime": {
     "end_time": "2024-04-05T19:56:18.923120Z",
     "start_time": "2024-04-05T19:56:13.060151Z"
    }
   },
   "id": "224977bad6a65efd",
   "execution_count": 25
  },
  {
   "cell_type": "code",
   "outputs": [
    {
     "name": "stdout",
     "output_type": "stream",
     "text": [
      "Initial Query:\n",
      " \n",
      "SELECT\n",
      "  county_natality.County_of_Residence,\n",
      "  AVG(county_natality.Ave_Pre_pregnancy_BMI) AS average_pre_pregnancy_bmi\n",
      "FROM\n",
      "  bigquery-public-data.sdoh_cdc_wonder_natality.county_natality\n",
      "GROUP BY\n",
      "  county_natality.County_of_Residence\n",
      "ORDER BY\n",
      "  average_pre_pregnancy_bmi DESC;\n",
      "**Crucial Insights:**\n",
      "\n",
      "* **County-level Variations:** The average pre-pregnancy BMI varies widely across counties, ranging from 23.8967 in New York County, NY, to 29.3533 in Sumter County, SC.\n",
      "* **Top 5 Counties with Highest BMIs:**\n",
      "    * Sumter County, SC: 29.3533\n",
      "    * Oswego County, NY: 29.1667\n",
      "    * St. Lawrence County, NY: 29.0667\n",
      "    * Hardin County, KY: 29.0133\n",
      "    * Merced County, CA: 28.9467\n",
      "* **Bottom 5 Counties with Lowest BMIs:**\n",
      "    * San Francisco County, CA: 24.0067\n",
      "    * Marin County, CA: 24.6867\n",
      "    * Arlington County, VA: 24.3567\n",
      "    * Williamson County, TN: 24.6833\n",
      "    * Boulder County, CO: 24.8567\n",
      "* **State-level Patterns:** Some states have consistently higher or lower average BMIs across multiple counties. For example, South Carolina has several counties with high BMIs, while Colorado has several counties with lower BMIs.\n",
      "\n",
      "**Implications for Strategic Actions:**\n",
      "\n",
      "* **Targeted Interventions:** Public health efforts can be tailored to specific counties based on their average pre-pregnancy BMI levels. For example, counties with higher BMIs could prioritize programs to promote healthy weight management before and during pregnancy.\n",
      "* **Data-Driven Resource Allocation:** By identifying the counties with the most significant needs, decision-makers can allocate resources more effectively to address issues related to pre-pregnancy BMI in those areas.\n",
      "* **Monitoring and Evaluation:** The data can be used to monitor trends in pre-pregnancy BMI over time and evaluate the effectiveness of interventions aimed at improving maternal health.\n",
      "* **Collaboration and Partnerships:** Partnerships between healthcare providers, community organizations, and policymakers are crucial to develop and implement comprehensive strategies addressing pre-pregnancy BMI disparities.\n"
     ]
    }
   ],
   "source": [
    "session = BQ_QA (\"How does the average pre-pregnancy BMI vary by county?\")"
   ],
   "metadata": {
    "collapsed": false,
    "ExecuteTime": {
     "end_time": "2024-04-05T19:58:50.386932Z",
     "start_time": "2024-04-05T19:58:32.164412Z"
    }
   },
   "id": "c4c6e165bcae21b5",
   "execution_count": 27
  },
  {
   "cell_type": "code",
   "outputs": [
    {
     "name": "stdout",
     "output_type": "stream",
     "text": [
      "Initial Query:\n",
      " \n",
      "SELECT\n",
      "  county_natality.County_of_Residence,\n",
      "  county_natality.Ave_Pre_pregnancy_BMI,\n",
      "  county_natality.Ave_Birth_Weight_gms,\n",
      "  CORR(county_natality.Ave_Pre_pregnancy_BMI, county_natality.Ave_Birth_Weight_gms) AS correlation\n",
      "FROM\n",
      "  bigquery-public-data.sdoh_cdc_wonder_natality.county_natality;\n",
      "found errors\n",
      "Fix #1:\n",
      " SELECT\n",
      "  Mothers_Single_Race,\n",
      "  AVG(Births) AS average_births\n",
      "FROM\n",
      "  bigquery-public-data.sdoh_cdc_wonder_natality.county_natality_by_mother_race\n",
      "GROUP BY\n",
      "  Mothers_Single_Race\n",
      "ORDER BY\n",
      "  average_births DESC\n",
      "LIMIT 1;\n",
      "**Correlation:**\n",
      "\n",
      "There is a positive correlation between pre-pregnancy BMI and birth weight. This suggests that mothers with a higher pre-pregnancy BMI tend to have babies with higher birth weights.\n",
      "\n",
      "**Crucial Discoveries:**\n",
      "\n",
      "* The average birth weight for mothers in the White race category is 4528.37. This statistic can serve as a benchmark for comparing the birth weights of other race/ethnic groups or subgroups.\n",
      "* The positive correlation between pre-pregnancy BMI and birth weight highlights the importance of maintaining a healthy weight before and during pregnancy. Overweight or obese women have a higher risk of having babies with macrosomia (excessive birth weight), which can increase the likelihood of complications during delivery and health problems for the infant later in life.\n",
      "* Conversely, underweight women may be more likely to have low birth weight babies, which is also associated with health issues for the infant.\n",
      "* Identifying and addressing pre-pregnancy BMI and related health factors can help reduce the risk of adverse birth outcomes and improve the health of both mother and child.\n",
      "\n",
      "**Strategic Actions:**\n",
      "\n",
      "These insights suggest the following strategic actions:\n",
      "\n",
      "* Healthcare providers should assess and counsel women about their pre-pregnancy BMI and recommend appropriate lifestyle changes to achieve a healthy weight.\n",
      "* Public health campaigns should emphasize the importance of maintaining a healthy weight before and during pregnancy.\n",
      "* Programs and resources should be available to support women in achieving a healthy weight, such as nutrition education, physical activity counseling, and weight management groups.\n",
      "* By implementing these strategies, we can help reduce the prevalence of pre-pregnancy BMI-related complications, improve birth outcomes, and promote the health of both mothers and newborns.\n"
     ]
    }
   ],
   "source": [
    "session = BQ_QA(\"Is there a correlation between pre-pregnancy BMI and birth weight?\")"
   ],
   "metadata": {
    "collapsed": false,
    "ExecuteTime": {
     "end_time": "2024-04-05T20:48:20.850309Z",
     "start_time": "2024-04-05T20:48:09.585875Z"
    }
   },
   "id": "5099b0a539a19f1b",
   "execution_count": 40
  },
  {
   "cell_type": "code",
   "outputs": [],
   "source": [],
   "metadata": {
    "collapsed": false
   },
   "id": "c14327e085100b55"
  },
  {
   "cell_type": "markdown",
   "source": [
    "# Zachary Version"
   ],
   "metadata": {
    "collapsed": false
   },
   "id": "10680f55cbfc79f8"
  },
  {
   "cell_type": "code",
   "outputs": [],
   "source": [
    "def start_code_chat(question, query, schema_columns):\n",
    "    \"\"\"\n",
    "    Initiates a code chat session for SQL query troubleshooting.\n",
    "    \"\"\"\n",
    "    codechat_model = vertexai.language_models.CodeChatModel.from_pretrained('codechat-bison@002')\n",
    "    schema_md = schema_columns.to_markdown(index=False)\n",
    "    context = f\"\"\"\n",
    "    The BigQuery Environment has tables defined by the following schema:\n",
    "    {schema_md}\n",
    "\n",
    "    Troubleshoot a Google BigQuery SQL query for:\n",
    "    {question}\n",
    "\n",
    "    Query needing attention:\n",
    "    {query}\n",
    "\n",
    "    Instructions: Provide fixes for query errors ensuring the query still answers the original question.\n",
    "    \"\"\"\n",
    "    \n",
    "    return codechat_model.start_chat(context=context)\n",
    "\n",
    "def iteratively_fix_query(question, query, schema_columns, max_fixes=10):\n",
    "    \"\"\"\n",
    "    Attempts to fix the provided query using code chat, up to max_fixes times.\n",
    "    \"\"\"\n",
    "    fix_tries = 0\n",
    "    codechat_session = None\n",
    "\n",
    "    while fix_tries < max_fixes and query:\n",
    "        query_job = bq.query(query=query)\n",
    "        if query_job.errors:\n",
    "            fix_tries += 1\n",
    "            if fix_tries == 1:\n",
    "                codechat_session = start_code_chat(question, query, schema_columns)\n",
    "\n",
    "            hint = extract_hint_from_errors(query, query_job.errors)\n",
    "            fix_prompt = construct_fix_prompt(query, query_job.errors, hint)\n",
    "            query, has_query = attempt_query_fix(codechat_session, fix_prompt, fix_tries)\n",
    "            if not has_query:\n",
    "                break\n",
    "        else:\n",
    "            break\n",
    "    \n",
    "    return query, query_job, fix_tries, codechat_session\n",
    "\n",
    "def extract_hint_from_errors(query, errors):\n",
    "    \"\"\"\n",
    "    Extracts a hint from query errors for better troubleshooting.\n",
    "    \"\"\"\n",
    "    hint = ''\n",
    "    for error in errors:\n",
    "        message = error.get('message', '')\n",
    "        begin, end = message.find('[') + 1, message.find(']')\n",
    "        if begin > 0 and end > begin:\n",
    "            query_line, _ = map(int, message[begin:end].split(':'))\n",
    "            hint = query.split('\\n')[query_line-1].strip()\n",
    "            break\n",
    "    return hint\n",
    "\n",
    "def construct_fix_prompt(query, errors, hint):\n",
    "    \"\"\"\n",
    "    Constructs a prompt for fixing the query based on errors and a hint.\n",
    "    \"\"\"\n",
    "    error_messages = '; '.join([error.get('message', 'Unknown error') for error in errors])\n",
    "    fix_prompt = f\"This query:\\n{query}\\n\\nReturned errors:\\n{error_messages}\"\n",
    "    if hint:\n",
    "        fix_prompt += f\"\\n\\nHint, possible issue in this line:\\n{hint}\"\n",
    "    return fix_prompt\n",
    "\n",
    "def attempt_query_fix(codechat_session, fix_prompt, fix_tries):\n",
    "    \"\"\"\n",
    "    Attempts to fix the query based on the code chat session's feedback.\n",
    "    \"\"\"\n",
    "    query_response = codechat_session.send_message(fix_prompt)\n",
    "    response_text = query_response.text\n",
    "    if \"```\" in response_text:\n",
    "        corrected_query = response_text.split(\"```\")[1]\n",
    "        if corrected_query.startswith('sql'):\n",
    "            corrected_query = corrected_query[4:]\n",
    "        print(f'Fix #{fix_tries} applied:\\n', corrected_query)\n",
    "        return corrected_query, True\n",
    "    else:\n",
    "        print('No query in response.')\n",
    "        return '', False\n",
    "\n",
    "def generate_insightful_answer(question, query_job):\n",
    "    \"\"\"\n",
    "    Generates an insightful answer from the query job's result.\n",
    "    \"\"\"\n",
    "    gemini_model = vertexai.preview.generative_models.GenerativeModel(\"gemini-pro\")\n",
    "    result_md = query_job.to_dataframe().to_markdown(index=False)\n",
    "    prompt = f\"\"\"\n",
    "    Please derive insights from: {question}\n",
    "    Utilize the statistics from the BigQuery table relevant to this inquiry, emphasizing crucial discoveries and strategic implications. Mention specific statistics where possible.\n",
    "\n",
    "    Data:\n",
    "    {result_md}\n",
    "    \"\"\"\n",
    "    return gemini_model.generate_content(prompt).text\n",
    "\n"
   ],
   "metadata": {
    "collapsed": false,
    "ExecuteTime": {
     "end_time": "2024-04-05T20:39:16.965983Z",
     "start_time": "2024-04-05T20:39:16.952974Z"
    }
   },
   "id": "e57aee5faa9558f2",
   "execution_count": 31
  },
  {
   "cell_type": "code",
   "outputs": [],
   "source": [
    "def bq_qa_process(question, schema_columns=schema_columns, max_fixes=10):\n",
    "    \"\"\"\n",
    "    The main process for generating a query, fixing it if necessary, and providing an answer.\n",
    "    \"\"\"\n",
    "    query = initial_query(question, schema_columns)\n",
    "    query, query_job, fix_tries, codechat_session = iteratively_fix_query(question, query, schema_columns, max_fixes)\n",
    "\n",
    "    if not query_job.errors:\n",
    "        answer = generate_insightful_answer(question, query_job)\n",
    "        print(answer)\n",
    "    else:\n",
    "        print(f'Could not generate an answer after {fix_tries} attempts.')\n",
    "\n",
    "    return codechat_session if 'codechat_session' in locals() else None\n"
   ],
   "metadata": {
    "collapsed": false,
    "ExecuteTime": {
     "end_time": "2024-04-05T20:41:19.584360Z",
     "start_time": "2024-04-05T20:41:19.568559Z"
    }
   },
   "id": "4e603197d79e1bfd",
   "execution_count": 35
  },
  {
   "cell_type": "code",
   "outputs": [
    {
     "name": "stdout",
     "output_type": "stream",
     "text": [
      "Initial Query:\n",
      " \n",
      "SELECT\n",
      "  county_natality.County_of_Residence,\n",
      "  county_natality.Ave_Pre_pregnancy_BMI,\n",
      "  county_natality.Ave_Birth_Weight_gms,\n",
      "  CORR(county_natality.Ave_Pre_pregnancy_BMI, county_natality.Ave_Birth_Weight_gms) AS correlation\n",
      "FROM\n",
      "  bigquery-public-data.sdoh_cdc_wonder_natality.county_natality;\n",
      "Fix #1 applied:\n",
      " SELECT\n",
      "  county_natality.County_of_Residence,\n",
      "  AVG(county_natality.Ave_Pre_pregnancy_BMI) AS average_pre_pregnancy_bmi,\n",
      "  AVG(county_natality.Ave_Birth_Weight_gms) AS average_birth_weight,\n",
      "  CORR(\n",
      "    AVG(county_natality.Ave_Pre_pregnancy_BMI),\n",
      "    AVG(county_natality.Ave_Birth_Weight_gms)\n",
      "  ) AS correlation\n",
      "FROM\n",
      "  bigquery-public-data.sdoh_cdc_wonder_natality.county_natality\n",
      "GROUP BY\n",
      "  county_natality.County_of_Residence;\n",
      "Fix #2 applied:\n",
      " SELECT\n",
      "  county_natality.County_of_Residence,\n",
      "  AVG(county_natality.Ave_Pre_pregnancy_BMI) AS average_pre_pregnancy_bmi,\n",
      "  AVG(county_natality.Ave_Birth_Weight_gms) AS average_birth_weight,\n",
      "  CORR(\n",
      "    county_natality.Ave_Pre_pregnancy_BMI,\n",
      "    county_natality.Ave_Birth_Weight_gms\n",
      "  ) AS correlation\n",
      "FROM\n",
      "  bigquery-public-data.sdoh_cdc_wonder_natality.county_natality\n",
      "GROUP BY\n",
      "  county_natality.County_of_Residence;\n",
      "**Insights from Correlation Analysis:**\n",
      "\n",
      "* **Negative correlation between pre-pregnancy BMI and birth weight:** As pre-pregnancy BMI increases, birth weight tends to decrease, a pattern commonly observed.\n",
      "* **Correlation strength varies geographically:** The strength of the correlation between pre-pregnancy BMI and birth weight varies significantly across different counties, likely due to factors such as socioeconomic status, healthcare access, and maternal health behaviors.\n",
      "\n",
      "**Strategic Implications:**\n",
      "\n",
      "* **Targeted interventions for high-risk areas:** Counties with strong negative correlations may benefit from targeted interventions to address factors contributing to low birth weight, such as promoting healthy weight gain during pregnancy and improving prenatal care.\n",
      "* **Monitoring and evaluation of programs:** The correlation between pre-pregnancy BMI and birth weight can be used as an indicator to monitor the effectiveness of programs aimed at improving birth outcomes.\n",
      "* **Tailored prenatal care:** Healthcare providers can use the correlation data to individualize prenatal care plans, considering pre-pregnancy BMI in assessing the risk of low birth weight and implementing appropriate interventions.\n"
     ]
    }
   ],
   "source": [
    "session = bq_qa_process(\"Is there a correlation between pre-pregnancy BMI and birth weight?\")"
   ],
   "metadata": {
    "collapsed": false,
    "ExecuteTime": {
     "end_time": "2024-04-05T20:45:44.543528Z",
     "start_time": "2024-04-05T20:41:55.005109Z"
    }
   },
   "id": "a29f6b8262fc7071",
   "execution_count": 37
  },
  {
   "cell_type": "code",
   "outputs": [],
   "source": [],
   "metadata": {
    "collapsed": false
   },
   "id": "fa91809edcfbe9ef"
  }
 ],
 "metadata": {
  "kernelspec": {
   "display_name": "Python 3",
   "language": "python",
   "name": "python3"
  },
  "language_info": {
   "codemirror_mode": {
    "name": "ipython",
    "version": 2
   },
   "file_extension": ".py",
   "mimetype": "text/x-python",
   "name": "python",
   "nbconvert_exporter": "python",
   "pygments_lexer": "ipython2",
   "version": "2.7.6"
  }
 },
 "nbformat": 4,
 "nbformat_minor": 5
}
